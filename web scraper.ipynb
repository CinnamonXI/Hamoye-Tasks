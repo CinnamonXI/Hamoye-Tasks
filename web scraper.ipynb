{
 "cells": [
  {
   "cell_type": "code",
   "execution_count": 2,
   "metadata": {},
   "outputs": [],
   "source": [
    "import pandas as pd\n",
    "import numpy as np\n",
    "from bs4 import BeautifulSoup as bs\n",
    "import requests\n",
    "import urllib.request\n",
    "import time\n",
    "from urllib.request import urlopen"
   ]
  },
  {
   "cell_type": "code",
   "execution_count": 76,
   "metadata": {},
   "outputs": [],
   "source": [
    "url=\"https://en.wikipedia.org/wiki/List_of_countries_by_life_expectancy\"\n",
    "html=urlopen(url)\n",
    "soup=bs(html, \"html.parser\")"
   ]
  },
  {
   "cell_type": "code",
   "execution_count": 77,
   "metadata": {},
   "outputs": [],
   "source": [
    "tables=soup.find_all(\"table\", id=\"CIA2017\")"
   ]
  },
  {
   "cell_type": "code",
   "execution_count": 35,
   "metadata": {},
   "outputs": [],
   "source": [
    "import re\n",
    "def change_type(text):\n",
    "    return float(re.sub(r'[^\\w\\s.]','', text))"
   ]
  },
  {
   "cell_type": "code",
   "execution_count": 78,
   "metadata": {},
   "outputs": [],
   "source": [
    "countries=[]\n",
    "males=[]\n",
    "females=[]\n",
    "averages=[]\n",
    "\n",
    "for table in tables:\n",
    "    rows=table.find_all('tr')\n",
    "    \n",
    "    for row in rows:\n",
    "        cells = row.find_all('td')\n",
    "        \n",
    "        if len(cells) > 1:\n",
    "            \n",
    "            country =cells[0]\n",
    "            countries.append(country.text.strip())\n",
    "\n",
    "            male = cells[1]\n",
    "            males.append(change_type(male.text.strip()))\n",
    "\n",
    "            try:\n",
    "                female = cells[2]\n",
    "                females.append(change_type(female.text.strip()))\n",
    "            except ValueError:\n",
    "                females.append(float(69.4))\n",
    "\n",
    "            average = cells[3]\n",
    "            averages.append(change_type(average.text.strip()))\n"
   ]
  },
  {
   "cell_type": "code",
   "execution_count": 79,
   "metadata": {},
   "outputs": [
    {
     "data": {
      "text/plain": [
       "224"
      ]
     },
     "execution_count": 79,
     "metadata": {},
     "output_type": "execute_result"
    }
   ],
   "source": [
    "len(averages)"
   ]
  },
  {
   "cell_type": "code",
   "execution_count": 39,
   "metadata": {},
   "outputs": [],
   "source": [
    "ranks = list(map(int, range(1,225)))"
   ]
  },
  {
   "cell_type": "code",
   "execution_count": 80,
   "metadata": {},
   "outputs": [],
   "source": [
    "data={\n",
    "    \"Countries\": countries,\n",
    "    \"Rank\": ranks,\n",
    "    \"Males\": males,\n",
    "    \"Females\": females,\n",
    "    \"Both sex\": averages\n",
    "}"
   ]
  },
  {
   "cell_type": "code",
   "execution_count": 81,
   "metadata": {},
   "outputs": [],
   "source": [
    "df = pd.DataFrame(data)"
   ]
  },
  {
   "cell_type": "code",
   "execution_count": 82,
   "metadata": {},
   "outputs": [
    {
     "data": {
      "text/html": [
       "<div>\n",
       "<style scoped>\n",
       "    .dataframe tbody tr th:only-of-type {\n",
       "        vertical-align: middle;\n",
       "    }\n",
       "\n",
       "    .dataframe tbody tr th {\n",
       "        vertical-align: top;\n",
       "    }\n",
       "\n",
       "    .dataframe thead th {\n",
       "        text-align: right;\n",
       "    }\n",
       "</style>\n",
       "<table border=\"1\" class=\"dataframe\">\n",
       "  <thead>\n",
       "    <tr style=\"text-align: right;\">\n",
       "      <th></th>\n",
       "      <th>Countries</th>\n",
       "      <th>Rank</th>\n",
       "      <th>Males</th>\n",
       "      <th>Females</th>\n",
       "      <th>Both sex</th>\n",
       "    </tr>\n",
       "  </thead>\n",
       "  <tbody>\n",
       "    <tr>\n",
       "      <th>0</th>\n",
       "      <td>Monaco</td>\n",
       "      <td>1</td>\n",
       "      <td>85.6</td>\n",
       "      <td>93.5</td>\n",
       "      <td>89.4</td>\n",
       "    </tr>\n",
       "    <tr>\n",
       "      <th>1</th>\n",
       "      <td>Japan</td>\n",
       "      <td>2</td>\n",
       "      <td>81.9</td>\n",
       "      <td>88.8</td>\n",
       "      <td>85.3</td>\n",
       "    </tr>\n",
       "    <tr>\n",
       "      <th>2</th>\n",
       "      <td>Singapore</td>\n",
       "      <td>3</td>\n",
       "      <td>82.6</td>\n",
       "      <td>88.1</td>\n",
       "      <td>85.2</td>\n",
       "    </tr>\n",
       "    <tr>\n",
       "      <th>3</th>\n",
       "      <td>Macau</td>\n",
       "      <td>4</td>\n",
       "      <td>81.6</td>\n",
       "      <td>87.7</td>\n",
       "      <td>84.6</td>\n",
       "    </tr>\n",
       "    <tr>\n",
       "      <th>4</th>\n",
       "      <td>San Marino</td>\n",
       "      <td>5</td>\n",
       "      <td>80.8</td>\n",
       "      <td>86.1</td>\n",
       "      <td>83.3</td>\n",
       "    </tr>\n",
       "    <tr>\n",
       "      <th>5</th>\n",
       "      <td>Iceland</td>\n",
       "      <td>6</td>\n",
       "      <td>80.9</td>\n",
       "      <td>85.4</td>\n",
       "      <td>83.1</td>\n",
       "    </tr>\n",
       "    <tr>\n",
       "      <th>6</th>\n",
       "      <td>Hong Kong</td>\n",
       "      <td>7</td>\n",
       "      <td>80.4</td>\n",
       "      <td>85.9</td>\n",
       "      <td>83.0</td>\n",
       "    </tr>\n",
       "    <tr>\n",
       "      <th>7</th>\n",
       "      <td>Andorra</td>\n",
       "      <td>8</td>\n",
       "      <td>80.7</td>\n",
       "      <td>85.2</td>\n",
       "      <td>82.9</td>\n",
       "    </tr>\n",
       "    <tr>\n",
       "      <th>8</th>\n",
       "      <td>Guernsey</td>\n",
       "      <td>9</td>\n",
       "      <td>79.9</td>\n",
       "      <td>85.4</td>\n",
       "      <td>82.6</td>\n",
       "    </tr>\n",
       "    <tr>\n",
       "      <th>9</th>\n",
       "      <td>Switzerland</td>\n",
       "      <td>10</td>\n",
       "      <td>80.3</td>\n",
       "      <td>85.1</td>\n",
       "      <td>82.6</td>\n",
       "    </tr>\n",
       "  </tbody>\n",
       "</table>\n",
       "</div>"
      ],
      "text/plain": [
       "     Countries  Rank  Males  Females  Both sex\n",
       "0       Monaco     1   85.6     93.5      89.4\n",
       "1        Japan     2   81.9     88.8      85.3\n",
       "2    Singapore     3   82.6     88.1      85.2\n",
       "3        Macau     4   81.6     87.7      84.6\n",
       "4   San Marino     5   80.8     86.1      83.3\n",
       "5      Iceland     6   80.9     85.4      83.1\n",
       "6    Hong Kong     7   80.4     85.9      83.0\n",
       "7      Andorra     8   80.7     85.2      82.9\n",
       "8     Guernsey     9   79.9     85.4      82.6\n",
       "9  Switzerland    10   80.3     85.1      82.6"
      ]
     },
     "execution_count": 82,
     "metadata": {},
     "output_type": "execute_result"
    }
   ],
   "source": [
    "df.head(10)"
   ]
  },
  {
   "cell_type": "code",
   "execution_count": 44,
   "metadata": {},
   "outputs": [],
   "source": [
    "url1=\"https://en.m.wikipedia.org/wiki/List_of_countries_by_forest_area\"\n",
    "html1=urlopen(url)\n",
    "soup1=bs(html, \"html.parser\")"
   ]
  },
  {
   "cell_type": "code",
   "execution_count": 45,
   "metadata": {},
   "outputs": [],
   "source": [
    "tables1=soup.find_all(\"table\", class_=\"wikitable\")[1]"
   ]
  },
  {
   "cell_type": "code",
   "execution_count": 61,
   "metadata": {},
   "outputs": [],
   "source": [
    "countries1=[]\n",
    "xx90s=[]\n",
    "xx00s=[]\n",
    "xx10s=[]\n",
    "xx20s=[]\n",
    "\n",
    "for table in tables:\n",
    "    rows=table.find_all('tr')\n",
    "    \n",
    "    for row in rows:\n",
    "        cells = row.find_all('td')\n",
    "        \n",
    "        if len(cells) > 1:\n",
    "            \n",
    "            country =cells[0]\n",
    "            countries1.append(country.text.strip())\n",
    "\n",
    "            xx90 = cells[1]\n",
    "            xx90s.append(change_type(xx90.text.strip()))\n",
    "            \n",
    "            xx00 = cells[2]\n",
    "            xx00s.append(change_type(xx00.text.strip()))\n",
    "\n",
    "            xx10 = cells[3]\n",
    "            xx10s.append(change_type(xx10.text.strip()))\n",
    "\n",
    "            xx20 = cells[4]\n",
    "            xx20s.append(change_type(xx20.text.strip()))\n"
   ]
  },
  {
   "cell_type": "code",
   "execution_count": 62,
   "metadata": {},
   "outputs": [],
   "source": [
    "data1={\n",
    "    \"Countries\": countries1,\n",
    "    \"1990\": xx90s,\n",
    "    \"2000\": xx00s,\n",
    "    \"2010\": xx10s,\n",
    "    \"2020\": xx20s\n",
    "}"
   ]
  },
  {
   "cell_type": "code",
   "execution_count": 63,
   "metadata": {},
   "outputs": [],
   "source": [
    "df1 = pd.DataFrame(data1)"
   ]
  },
  {
   "cell_type": "code",
   "execution_count": 64,
   "metadata": {},
   "outputs": [
    {
     "data": {
      "text/html": [
       "<div>\n",
       "<style scoped>\n",
       "    .dataframe tbody tr th:only-of-type {\n",
       "        vertical-align: middle;\n",
       "    }\n",
       "\n",
       "    .dataframe tbody tr th {\n",
       "        vertical-align: top;\n",
       "    }\n",
       "\n",
       "    .dataframe thead th {\n",
       "        text-align: right;\n",
       "    }\n",
       "</style>\n",
       "<table border=\"1\" class=\"dataframe\">\n",
       "  <thead>\n",
       "    <tr style=\"text-align: right;\">\n",
       "      <th></th>\n",
       "      <th>Countries</th>\n",
       "      <th>1990</th>\n",
       "      <th>2000</th>\n",
       "      <th>2010</th>\n",
       "      <th>2020</th>\n",
       "    </tr>\n",
       "  </thead>\n",
       "  <tbody>\n",
       "    <tr>\n",
       "      <th>0</th>\n",
       "      <td>Afghanistan</td>\n",
       "      <td>1208.0</td>\n",
       "      <td>1208.0</td>\n",
       "      <td>1208.0</td>\n",
       "      <td>1208.0</td>\n",
       "    </tr>\n",
       "    <tr>\n",
       "      <th>1</th>\n",
       "      <td>Albania</td>\n",
       "      <td>789.0</td>\n",
       "      <td>769.0</td>\n",
       "      <td>782.0</td>\n",
       "      <td>789.0</td>\n",
       "    </tr>\n",
       "    <tr>\n",
       "      <th>2</th>\n",
       "      <td>Algeria</td>\n",
       "      <td>1667.0</td>\n",
       "      <td>1579.0</td>\n",
       "      <td>1918.0</td>\n",
       "      <td>1949.0</td>\n",
       "    </tr>\n",
       "    <tr>\n",
       "      <th>3</th>\n",
       "      <td>American Samoa</td>\n",
       "      <td>18.0</td>\n",
       "      <td>18.0</td>\n",
       "      <td>17.0</td>\n",
       "      <td>17.0</td>\n",
       "    </tr>\n",
       "    <tr>\n",
       "      <th>4</th>\n",
       "      <td>Andorra</td>\n",
       "      <td>16.0</td>\n",
       "      <td>16.0</td>\n",
       "      <td>16.0</td>\n",
       "      <td>16.0</td>\n",
       "    </tr>\n",
       "  </tbody>\n",
       "</table>\n",
       "</div>"
      ],
      "text/plain": [
       "        Countries    1990    2000    2010    2020\n",
       "0     Afghanistan  1208.0  1208.0  1208.0  1208.0\n",
       "1         Albania   789.0   769.0   782.0   789.0\n",
       "2         Algeria  1667.0  1579.0  1918.0  1949.0\n",
       "3  American Samoa    18.0    18.0    17.0    17.0\n",
       "4         Andorra    16.0    16.0    16.0    16.0"
      ]
     },
     "execution_count": 64,
     "metadata": {},
     "output_type": "execute_result"
    }
   ],
   "source": [
    "df1.head()"
   ]
  },
  {
   "cell_type": "code",
   "execution_count": 91,
   "metadata": {},
   "outputs": [],
   "source": [
    "#dropping unnecessary columns\n",
    "df1.drop([\"1990\",\"2000\", \"2010\"], axis=1, inplace=True)"
   ]
  },
  {
   "cell_type": "code",
   "execution_count": 92,
   "metadata": {},
   "outputs": [
    {
     "name": "stdout",
     "output_type": "stream",
     "text": [
      "<class 'pandas.core.frame.DataFrame'>\n",
      "RangeIndex: 194 entries, 0 to 193\n",
      "Data columns (total 2 columns):\n",
      " #   Column     Non-Null Count  Dtype  \n",
      "---  ------     --------------  -----  \n",
      " 0   Countries  194 non-null    object \n",
      " 1   2020       194 non-null    float64\n",
      "dtypes: float64(1), object(1)\n",
      "memory usage: 3.2+ KB\n"
     ]
    }
   ],
   "source": [
    "df1.info()"
   ]
  },
  {
   "cell_type": "code",
   "execution_count": 95,
   "metadata": {},
   "outputs": [],
   "source": [
    "final_data = pd.merge(\n",
    "                df, df1,\n",
    "                on=[\"Countries\"]\n",
    "            )\n",
    "final_data.rename(columns={\"2020\":\"Forest area (1000 ha)\"}, inplace=True)"
   ]
  },
  {
   "cell_type": "code",
   "execution_count": 96,
   "metadata": {},
   "outputs": [
    {
     "data": {
      "text/html": [
       "<div>\n",
       "<style scoped>\n",
       "    .dataframe tbody tr th:only-of-type {\n",
       "        vertical-align: middle;\n",
       "    }\n",
       "\n",
       "    .dataframe tbody tr th {\n",
       "        vertical-align: top;\n",
       "    }\n",
       "\n",
       "    .dataframe thead th {\n",
       "        text-align: right;\n",
       "    }\n",
       "</style>\n",
       "<table border=\"1\" class=\"dataframe\">\n",
       "  <thead>\n",
       "    <tr style=\"text-align: right;\">\n",
       "      <th></th>\n",
       "      <th>Countries</th>\n",
       "      <th>Rank</th>\n",
       "      <th>Males</th>\n",
       "      <th>Females</th>\n",
       "      <th>Both sex</th>\n",
       "      <th>Forest area (1000 ha)</th>\n",
       "    </tr>\n",
       "  </thead>\n",
       "  <tbody>\n",
       "    <tr>\n",
       "      <th>0</th>\n",
       "      <td>Monaco</td>\n",
       "      <td>1</td>\n",
       "      <td>85.6</td>\n",
       "      <td>93.5</td>\n",
       "      <td>89.4</td>\n",
       "      <td>0.0</td>\n",
       "    </tr>\n",
       "    <tr>\n",
       "      <th>1</th>\n",
       "      <td>Japan</td>\n",
       "      <td>2</td>\n",
       "      <td>81.9</td>\n",
       "      <td>88.8</td>\n",
       "      <td>85.3</td>\n",
       "      <td>24935.0</td>\n",
       "    </tr>\n",
       "    <tr>\n",
       "      <th>2</th>\n",
       "      <td>Singapore</td>\n",
       "      <td>3</td>\n",
       "      <td>82.6</td>\n",
       "      <td>88.1</td>\n",
       "      <td>85.2</td>\n",
       "      <td>16.0</td>\n",
       "    </tr>\n",
       "    <tr>\n",
       "      <th>3</th>\n",
       "      <td>San Marino</td>\n",
       "      <td>5</td>\n",
       "      <td>80.8</td>\n",
       "      <td>86.1</td>\n",
       "      <td>83.3</td>\n",
       "      <td>1.0</td>\n",
       "    </tr>\n",
       "    <tr>\n",
       "      <th>4</th>\n",
       "      <td>Iceland</td>\n",
       "      <td>6</td>\n",
       "      <td>80.9</td>\n",
       "      <td>85.4</td>\n",
       "      <td>83.1</td>\n",
       "      <td>51.0</td>\n",
       "    </tr>\n",
       "  </tbody>\n",
       "</table>\n",
       "</div>"
      ],
      "text/plain": [
       "    Countries  Rank  Males  Females  Both sex  Forest area (1000 ha)\n",
       "0      Monaco     1   85.6     93.5      89.4                    0.0\n",
       "1       Japan     2   81.9     88.8      85.3                24935.0\n",
       "2   Singapore     3   82.6     88.1      85.2                   16.0\n",
       "3  San Marino     5   80.8     86.1      83.3                    1.0\n",
       "4     Iceland     6   80.9     85.4      83.1                   51.0"
      ]
     },
     "execution_count": 96,
     "metadata": {},
     "output_type": "execute_result"
    }
   ],
   "source": [
    "final_data.head()"
   ]
  },
  {
   "cell_type": "code",
   "execution_count": 97,
   "metadata": {},
   "outputs": [
    {
     "name": "stdout",
     "output_type": "stream",
     "text": [
      "<class 'pandas.core.frame.DataFrame'>\n",
      "Int64Index: 179 entries, 0 to 178\n",
      "Data columns (total 6 columns):\n",
      " #   Column                 Non-Null Count  Dtype  \n",
      "---  ------                 --------------  -----  \n",
      " 0   Countries              179 non-null    object \n",
      " 1   Rank                   179 non-null    int64  \n",
      " 2   Males                  179 non-null    float64\n",
      " 3   Females                179 non-null    float64\n",
      " 4   Both sex               179 non-null    float64\n",
      " 5   Forest area (1000 ha)  179 non-null    float64\n",
      "dtypes: float64(4), int64(1), object(1)\n",
      "memory usage: 9.8+ KB\n"
     ]
    }
   ],
   "source": [
    "final_data.info()"
   ]
  },
  {
   "cell_type": "code",
   "execution_count": 99,
   "metadata": {},
   "outputs": [],
   "source": [
    "final_data.to_csv(\"Life expectancy and forest area data.csv\", index=False)"
   ]
  },
  {
   "cell_type": "code",
   "execution_count": 19,
   "metadata": {},
   "outputs": [
    {
     "data": {
      "text/html": [
       "<div>\n",
       "<style scoped>\n",
       "    .dataframe tbody tr th:only-of-type {\n",
       "        vertical-align: middle;\n",
       "    }\n",
       "\n",
       "    .dataframe tbody tr th {\n",
       "        vertical-align: top;\n",
       "    }\n",
       "\n",
       "    .dataframe thead th {\n",
       "        text-align: right;\n",
       "    }\n",
       "</style>\n",
       "<table border=\"1\" class=\"dataframe\">\n",
       "  <thead>\n",
       "    <tr style=\"text-align: right;\">\n",
       "      <th></th>\n",
       "      <th>Country Name</th>\n",
       "      <th>Country Code</th>\n",
       "      <th>Population</th>\n",
       "    </tr>\n",
       "  </thead>\n",
       "  <tbody>\n",
       "    <tr>\n",
       "      <th>0</th>\n",
       "      <td>Aruba</td>\n",
       "      <td>ABW</td>\n",
       "      <td>106314.0</td>\n",
       "    </tr>\n",
       "    <tr>\n",
       "      <th>1</th>\n",
       "      <td>Afghanistan</td>\n",
       "      <td>AFG</td>\n",
       "      <td>38041754.0</td>\n",
       "    </tr>\n",
       "    <tr>\n",
       "      <th>2</th>\n",
       "      <td>Angola</td>\n",
       "      <td>AGO</td>\n",
       "      <td>31825295.0</td>\n",
       "    </tr>\n",
       "    <tr>\n",
       "      <th>3</th>\n",
       "      <td>Albania</td>\n",
       "      <td>ALB</td>\n",
       "      <td>2854191.0</td>\n",
       "    </tr>\n",
       "    <tr>\n",
       "      <th>4</th>\n",
       "      <td>Andorra</td>\n",
       "      <td>AND</td>\n",
       "      <td>77142.0</td>\n",
       "    </tr>\n",
       "  </tbody>\n",
       "</table>\n",
       "</div>"
      ],
      "text/plain": [
       "  Country Name Country Code  Population\n",
       "0        Aruba          ABW    106314.0\n",
       "1  Afghanistan          AFG  38041754.0\n",
       "2       Angola          AGO  31825295.0\n",
       "3      Albania          ALB   2854191.0\n",
       "4      Andorra          AND     77142.0"
      ]
     },
     "execution_count": 19,
     "metadata": {},
     "output_type": "execute_result"
    }
   ],
   "source": [
    "final_data=pd.read_csv(\"Life expectancy and forest area data.csv\")\n",
    "pop=pd.read_csv(\"Population data.csv\")\n",
    "pop.head()"
   ]
  },
  {
   "cell_type": "code",
   "execution_count": 20,
   "metadata": {},
   "outputs": [
    {
     "data": {
      "text/html": [
       "<div>\n",
       "<style scoped>\n",
       "    .dataframe tbody tr th:only-of-type {\n",
       "        vertical-align: middle;\n",
       "    }\n",
       "\n",
       "    .dataframe tbody tr th {\n",
       "        vertical-align: top;\n",
       "    }\n",
       "\n",
       "    .dataframe thead th {\n",
       "        text-align: right;\n",
       "    }\n",
       "</style>\n",
       "<table border=\"1\" class=\"dataframe\">\n",
       "  <thead>\n",
       "    <tr style=\"text-align: right;\">\n",
       "      <th></th>\n",
       "      <th>Country Name</th>\n",
       "      <th>Rank</th>\n",
       "      <th>Males</th>\n",
       "      <th>Females</th>\n",
       "      <th>Both sex</th>\n",
       "      <th>Forest area (1000 ha)</th>\n",
       "      <th>Country Code</th>\n",
       "      <th>Population</th>\n",
       "    </tr>\n",
       "  </thead>\n",
       "  <tbody>\n",
       "    <tr>\n",
       "      <th>0</th>\n",
       "      <td>Monaco</td>\n",
       "      <td>1</td>\n",
       "      <td>85.6</td>\n",
       "      <td>93.5</td>\n",
       "      <td>89.4</td>\n",
       "      <td>0.0</td>\n",
       "      <td>MCO</td>\n",
       "      <td>38964.0</td>\n",
       "    </tr>\n",
       "    <tr>\n",
       "      <th>1</th>\n",
       "      <td>Japan</td>\n",
       "      <td>2</td>\n",
       "      <td>81.9</td>\n",
       "      <td>88.8</td>\n",
       "      <td>85.3</td>\n",
       "      <td>24935.0</td>\n",
       "      <td>JPN</td>\n",
       "      <td>126264931.0</td>\n",
       "    </tr>\n",
       "    <tr>\n",
       "      <th>2</th>\n",
       "      <td>Singapore</td>\n",
       "      <td>3</td>\n",
       "      <td>82.6</td>\n",
       "      <td>88.1</td>\n",
       "      <td>85.2</td>\n",
       "      <td>16.0</td>\n",
       "      <td>SGP</td>\n",
       "      <td>5703569.0</td>\n",
       "    </tr>\n",
       "    <tr>\n",
       "      <th>3</th>\n",
       "      <td>San Marino</td>\n",
       "      <td>5</td>\n",
       "      <td>80.8</td>\n",
       "      <td>86.1</td>\n",
       "      <td>83.3</td>\n",
       "      <td>1.0</td>\n",
       "      <td>SMR</td>\n",
       "      <td>33860.0</td>\n",
       "    </tr>\n",
       "    <tr>\n",
       "      <th>4</th>\n",
       "      <td>Iceland</td>\n",
       "      <td>6</td>\n",
       "      <td>80.9</td>\n",
       "      <td>85.4</td>\n",
       "      <td>83.1</td>\n",
       "      <td>51.0</td>\n",
       "      <td>ISL</td>\n",
       "      <td>361313.0</td>\n",
       "    </tr>\n",
       "  </tbody>\n",
       "</table>\n",
       "</div>"
      ],
      "text/plain": [
       "  Country Name  Rank  Males  Females  Both sex  Forest area (1000 ha)  \\\n",
       "0       Monaco     1   85.6     93.5      89.4                    0.0   \n",
       "1        Japan     2   81.9     88.8      85.3                24935.0   \n",
       "2    Singapore     3   82.6     88.1      85.2                   16.0   \n",
       "3   San Marino     5   80.8     86.1      83.3                    1.0   \n",
       "4      Iceland     6   80.9     85.4      83.1                   51.0   \n",
       "\n",
       "  Country Code   Population  \n",
       "0          MCO      38964.0  \n",
       "1          JPN  126264931.0  \n",
       "2          SGP    5703569.0  \n",
       "3          SMR      33860.0  \n",
       "4          ISL     361313.0  "
      ]
     },
     "execution_count": 20,
     "metadata": {},
     "output_type": "execute_result"
    }
   ],
   "source": [
    "df3= pd.merge(final_data, pop, on=\"Country Name\")\n",
    "df3.head()"
   ]
  },
  {
   "cell_type": "code",
   "execution_count": 8,
   "metadata": {},
   "outputs": [],
   "source": [
    "df3.to_csv(\"Countries tree and life data.csv\", index=False)"
   ]
  },
  {
   "cell_type": "code",
   "execution_count": 25,
   "metadata": {},
   "outputs": [],
   "source": [
    "df3[\"Population\"]=df3[\"Population\"]/1000"
   ]
  },
  {
   "cell_type": "code",
   "execution_count": 42,
   "metadata": {},
   "outputs": [
    {
     "data": {
      "text/html": [
       "<div>\n",
       "<style scoped>\n",
       "    .dataframe tbody tr th:only-of-type {\n",
       "        vertical-align: middle;\n",
       "    }\n",
       "\n",
       "    .dataframe tbody tr th {\n",
       "        vertical-align: top;\n",
       "    }\n",
       "\n",
       "    .dataframe thead th {\n",
       "        text-align: right;\n",
       "    }\n",
       "</style>\n",
       "<table border=\"1\" class=\"dataframe\">\n",
       "  <thead>\n",
       "    <tr style=\"text-align: right;\">\n",
       "      <th></th>\n",
       "      <th>Country Name</th>\n",
       "      <th>Rank</th>\n",
       "      <th>Males</th>\n",
       "      <th>Females</th>\n",
       "      <th>Average</th>\n",
       "      <th>Forest area (1000 ha)</th>\n",
       "      <th>Country Code</th>\n",
       "      <th>Population (1000)</th>\n",
       "    </tr>\n",
       "  </thead>\n",
       "  <tbody>\n",
       "    <tr>\n",
       "      <th>0</th>\n",
       "      <td>Monaco</td>\n",
       "      <td>1</td>\n",
       "      <td>85.6</td>\n",
       "      <td>93.5</td>\n",
       "      <td>89.4</td>\n",
       "      <td>0.0</td>\n",
       "      <td>MCO</td>\n",
       "      <td>38.964</td>\n",
       "    </tr>\n",
       "    <tr>\n",
       "      <th>1</th>\n",
       "      <td>Japan</td>\n",
       "      <td>2</td>\n",
       "      <td>81.9</td>\n",
       "      <td>88.8</td>\n",
       "      <td>85.3</td>\n",
       "      <td>24935.0</td>\n",
       "      <td>JPN</td>\n",
       "      <td>126264.931</td>\n",
       "    </tr>\n",
       "    <tr>\n",
       "      <th>2</th>\n",
       "      <td>Singapore</td>\n",
       "      <td>3</td>\n",
       "      <td>82.6</td>\n",
       "      <td>88.1</td>\n",
       "      <td>85.2</td>\n",
       "      <td>16.0</td>\n",
       "      <td>SGP</td>\n",
       "      <td>5703.569</td>\n",
       "    </tr>\n",
       "    <tr>\n",
       "      <th>3</th>\n",
       "      <td>San Marino</td>\n",
       "      <td>5</td>\n",
       "      <td>80.8</td>\n",
       "      <td>86.1</td>\n",
       "      <td>83.3</td>\n",
       "      <td>1.0</td>\n",
       "      <td>SMR</td>\n",
       "      <td>33.860</td>\n",
       "    </tr>\n",
       "    <tr>\n",
       "      <th>4</th>\n",
       "      <td>Iceland</td>\n",
       "      <td>6</td>\n",
       "      <td>80.9</td>\n",
       "      <td>85.4</td>\n",
       "      <td>83.1</td>\n",
       "      <td>51.0</td>\n",
       "      <td>ISL</td>\n",
       "      <td>361.313</td>\n",
       "    </tr>\n",
       "  </tbody>\n",
       "</table>\n",
       "</div>"
      ],
      "text/plain": [
       "  Country Name  Rank  Males  Females  Average  Forest area (1000 ha)  \\\n",
       "0       Monaco     1   85.6     93.5     89.4                    0.0   \n",
       "1        Japan     2   81.9     88.8     85.3                24935.0   \n",
       "2    Singapore     3   82.6     88.1     85.2                   16.0   \n",
       "3   San Marino     5   80.8     86.1     83.3                    1.0   \n",
       "4      Iceland     6   80.9     85.4     83.1                   51.0   \n",
       "\n",
       "  Country Code  Population (1000)  \n",
       "0          MCO             38.964  \n",
       "1          JPN         126264.931  \n",
       "2          SGP           5703.569  \n",
       "3          SMR             33.860  \n",
       "4          ISL            361.313  "
      ]
     },
     "execution_count": 42,
     "metadata": {},
     "output_type": "execute_result"
    }
   ],
   "source": [
    "df3.rename(columns={\"Both sex\": \"Average\"}, inplace=True)\n",
    "df3.head()"
   ]
  },
  {
   "cell_type": "code",
   "execution_count": 9,
   "metadata": {},
   "outputs": [],
   "source": [
    "import plotly.express as px"
   ]
  },
  {
   "cell_type": "code",
   "execution_count": 30,
   "metadata": {},
   "outputs": [
    {
     "data": {
      "application/vnd.plotly.v1+json": {
       "config": {
        "plotlyServerURL": "https://plot.ly"
       },
       "data": [
        {
         "customdata": [
          [
           "Monaco",
           1
          ],
          [
           "Japan",
           2
          ],
          [
           "Singapore",
           3
          ],
          [
           "San Marino",
           5
          ],
          [
           "Iceland",
           6
          ],
          [
           "Andorra",
           8
          ],
          [
           "Switzerland",
           10
          ],
          [
           "Israel",
           11
          ],
          [
           "Luxembourg",
           13
          ],
          [
           "Australia",
           14
          ],
          [
           "Italy",
           15
          ],
          [
           "Sweden",
           16
          ],
          [
           "Canada",
           17
          ],
          [
           "Liechtenstein",
           19
          ],
          [
           "France",
           20
          ],
          [
           "Norway",
           21
          ],
          [
           "Spain",
           22
          ],
          [
           "Austria",
           23
          ],
          [
           "Bermuda",
           25
          ],
          [
           "Netherlands",
           26
          ],
          [
           "Cayman Islands",
           27
          ],
          [
           "New Zealand",
           29
          ],
          [
           "Belgium",
           30
          ],
          [
           "Finland",
           31
          ],
          [
           "Ireland",
           32
          ],
          [
           "Puerto Rico",
           33
          ],
          [
           "Germany",
           34
          ],
          [
           "United Kingdom",
           35
          ],
          [
           "Greece",
           36
          ],
          [
           "Qatar",
           43
          ],
          [
           "Denmark",
           47
          ],
          [
           "Portugal",
           48
          ],
          [
           "Chile",
           51
          ],
          [
           "Cuba",
           52
          ],
          [
           "Cyprus",
           53
          ],
          [
           "United States",
           54
          ],
          [
           "Panama",
           56
          ],
          [
           "Czech Republic",
           57
          ],
          [
           "Costa Rica",
           58
          ],
          [
           "Albania",
           59
          ],
          [
           "Slovenia",
           61
          ],
          [
           "Dominican Republic",
           62
          ],
          [
           "Dominican Republic",
           76
          ],
          [
           "Kuwait",
           64
          ],
          [
           "New Caledonia",
           65
          ],
          [
           "St. Lucia",
           66
          ],
          [
           "Lebanon",
           67
          ],
          [
           "Poland",
           68
          ],
          [
           "United Arab Emirates",
           69
          ],
          [
           "Paraguay",
           71
          ],
          [
           "Uruguay",
           72
          ],
          [
           "Brunei Darussalam",
           73
          ],
          [
           "Argentina",
           74
          ],
          [
           "Slovak Republic",
           75
          ],
          [
           "Morocco",
           77
          ],
          [
           "Algeria",
           78
          ],
          [
           "Ecuador",
           79
          ],
          [
           "Sri Lanka",
           81
          ],
          [
           "Estonia",
           83
          ],
          [
           "China",
           84
          ],
          [
           "Antigua and Barbuda",
           85
          ],
          [
           "Libya",
           86
          ],
          [
           "Georgia",
           87
          ],
          [
           "North Macedonia",
           88
          ],
          [
           "Tonga",
           89
          ],
          [
           "Croatia",
           90
          ],
          [
           "Hungary",
           91
          ],
          [
           "Mexico",
           92
          ],
          [
           "Venezuela, RB",
           93
          ],
          [
           "Colombia",
           96
          ],
          [
           "Maldives",
           98
          ],
          [
           "Mauritius",
           99
          ],
          [
           "Oman",
           100
          ],
          [
           "Serbia",
           101
          ],
          [
           "Tunisia",
           102
          ],
          [
           "Solomon Islands",
           103
          ],
          [
           "St. Vincent and the Grenadines",
           104
          ],
          [
           "Barbados",
           105
          ],
          [
           "Saudi Arabia",
           106
          ],
          [
           "Romania",
           108
          ],
          [
           "Malaysia",
           109
          ],
          [
           "Syrian Arab Republic",
           111
          ],
          [
           "Lithuania",
           112
          ],
          [
           "Turkey",
           113
          ],
          [
           "Iraq",
           114
          ],
          [
           "El Salvador",
           115
          ],
          [
           "Seychelles",
           116
          ],
          [
           "Thailand",
           117
          ],
          [
           "Armenia",
           118
          ],
          [
           "Jordan",
           119
          ],
          [
           "Bulgaria",
           120
          ],
          [
           "Latvia",
           121
          ],
          [
           "Grenada",
           123
          ],
          [
           "Samoa",
           125
          ],
          [
           "Brazil",
           126
          ],
          [
           "Uzbekistan",
           127
          ],
          [
           "Peru",
           128
          ],
          [
           "Iran, Islamic Rep.",
           129
          ],
          [
           "Jamaica",
           130
          ],
          [
           "Vanuatu",
           131
          ],
          [
           "Vietnam",
           132
          ],
          [
           "Bangladesh",
           133
          ],
          [
           "Nicaragua",
           134
          ],
          [
           "American Samoa",
           135
          ],
          [
           "Palau",
           137
          ],
          [
           "Trinidad and Tobago",
           139
          ],
          [
           "Belarus",
           140
          ],
          [
           "Egypt, Arab Rep.",
           141
          ],
          [
           "Fiji",
           142
          ],
          [
           "Indonesia",
           143
          ],
          [
           "Azerbaijan",
           144
          ],
          [
           "Guatemala",
           147
          ],
          [
           "Suriname",
           148
          ],
          [
           "Ukraine",
           150
          ],
          [
           "Honduras",
           151
          ],
          [
           "Kazakhstan",
           152
          ],
          [
           "Moldova",
           153
          ],
          [
           "Nepal",
           154
          ],
          [
           "Russian Federation",
           155
          ],
          [
           "Kyrgyz Republic",
           156
          ],
          [
           "Bhutan",
           158
          ],
          [
           "Turkmenistan",
           159
          ],
          [
           "Mongolia",
           160
          ],
          [
           "Bolivia",
           161
          ],
          [
           "Philippines",
           162
          ],
          [
           "Belize",
           163
          ],
          [
           "India",
           164
          ],
          [
           "Guyana",
           165
          ],
          [
           "Pakistan",
           168
          ],
          [
           "Tajikistan",
           169
          ],
          [
           "Papua New Guinea",
           171
          ],
          [
           "Ghana",
           172
          ],
          [
           "Tuvalu",
           173
          ],
          [
           "Kiribati",
           174
          ],
          [
           "Madagascar",
           175
          ],
          [
           "Togo",
           177
          ],
          [
           "Eritrea",
           179
          ],
          [
           "Cambodia",
           181
          ],
          [
           "Lao PDR",
           182
          ],
          [
           "Comoros",
           183
          ],
          [
           "Equatorial Guinea",
           184
          ],
          [
           "Sudan",
           185
          ],
          [
           "Kenya",
           186
          ],
          [
           "Rwanda",
           187
          ],
          [
           "Haiti",
           188
          ],
          [
           "Namibia",
           189
          ],
          [
           "South Africa",
           190
          ],
          [
           "Djibouti",
           191
          ],
          [
           "Mauritania",
           193
          ],
          [
           "Botswana",
           194
          ],
          [
           "Liberia",
           195
          ],
          [
           "Ethiopia",
           196
          ],
          [
           "Tanzania",
           197
          ],
          [
           "Benin",
           198
          ],
          [
           "Senegal",
           199
          ],
          [
           "Malawi",
           200
          ],
          [
           "Guinea",
           201
          ],
          [
           "Burundi",
           202
          ],
          [
           "Zimbabwe",
           203
          ],
          [
           "Mali",
           204
          ],
          [
           "Angola",
           205
          ],
          [
           "Congo, Rep.",
           206
          ],
          [
           "Cameroon",
           208
          ],
          [
           "Sierra Leone",
           209
          ],
          [
           "Congo, Dem. Rep.",
           210
          ],
          [
           "Burkina Faso",
           211
          ],
          [
           "Niger",
           212
          ],
          [
           "Uganda",
           213
          ],
          [
           "Nigeria",
           214
          ],
          [
           "Mozambique",
           215
          ],
          [
           "Lesotho",
           216
          ],
          [
           "Somalia",
           217
          ],
          [
           "Central African Republic",
           218
          ],
          [
           "Zambia",
           219
          ],
          [
           "Gabon",
           220
          ],
          [
           "Afghanistan",
           222
          ],
          [
           "Guinea-Bissau",
           223
          ],
          [
           "Chad",
           224
          ]
         ],
         "hovertemplate": "Males=%{x}<br>Females=%{y}<br>Country Name=%{customdata[0]}<br>Rank=%{customdata[1]}<extra></extra>",
         "legendgroup": "",
         "marker": {
          "color": "#636efa",
          "symbol": "circle"
         },
         "mode": "markers",
         "name": "",
         "orientation": "v",
         "showlegend": false,
         "type": "scatter",
         "x": [
          85.6,
          81.9,
          82.6,
          80.8,
          80.9,
          80.7,
          80.3,
          80.7,
          79.9,
          79.8,
          79.6,
          80.2,
          79.3,
          79.7,
          78.8,
          79.8,
          78.8,
          78.9,
          78.2,
          79.3,
          78.6,
          79.1,
          78.5,
          78,
          78.6,
          77.6,
          78.5,
          78.6,
          78,
          77.7,
          77.1,
          76.2,
          75.9,
          76.5,
          76,
          76.8,
          76,
          75.8,
          76.1,
          75.8,
          74.8,
          76,
          74.2,
          76.8,
          73.9,
          75.2,
          76.5,
          73.9,
          75,
          74.7,
          74.2,
          75,
          74.2,
          73.7,
          74,
          75.6,
          74,
          73.5,
          72.1,
          74.6,
          74.6,
          74.9,
          72.3,
          73.8,
          74.9,
          72.9,
          72.4,
          73.3,
          73,
          72.8,
          73.5,
          72.4,
          73.7,
          72.8,
          74.1,
          72.9,
          77.6,
          73.2,
          73.4,
          71.9,
          72.4,
          72.7,
          69.7,
          72.7,
          72.6,
          71.6,
          70.4,
          71.7,
          71.6,
          73.4,
          71.4,
          70.1,
          71.9,
          71.1,
          70.5,
          71,
          71.9,
          72.7,
          72.1,
          72.1,
          71.2,
          71.3,
          71.3,
          71.3,
          70.2,
          70.2,
          67.5,
          71.6,
          70.3,
          70.4,
          69.7,
          70.6,
          70.1,
          67.4,
          69.5,
          65.9,
          67.1,
          70.4,
          65.3,
          66.8,
          69.6,
          67.4,
          65.7,
          66.7,
          65.9,
          67.3,
          67.6,
          65.6,
          66.1,
          64.9,
          65.1,
          64.5,
          64.7,
          64,
          64.7,
          62.8,
          62.7,
          62.4,
          62.6,
          62.3,
          63.4,
          62.3,
          62.8,
          62.3,
          61.6,
          62.4,
          62.4,
          61,
          61.1,
          61.2,
          61.2,
          60.1,
          61.2,
          60.9,
          60,
          59.7,
          59.5,
          59.2,
          58.3,
          58.2,
          58.2,
          58.6,
          57.6,
          56,
          56.1,
          53.8,
          54.7,
          54.4,
          52.8,
          52.9,
          53,
          50.7,
          51.4,
          51.1,
          51.7,
          50.3,
          48.9,
          49.4
         ],
         "xaxis": "x",
         "y": [
          93.5,
          88.8,
          88.1,
          86.1,
          85.4,
          85.2,
          85.1,
          84.5,
          84.9,
          84.9,
          85.1,
          84.2,
          84.7,
          84.7,
          85.2,
          84,
          84.9,
          84.4,
          84.6,
          83.7,
          84.1,
          83.5,
          83.8,
          84.1,
          83.4,
          84.4,
          83.3,
          83.1,
          83.4,
          82.2,
          82.1,
          82.9,
          82.1,
          81.3,
          81.8,
          81,
          81.7,
          81.9,
          81.5,
          81.4,
          82.2,
          80.6,
          80.3,
          79.6,
          82,
          80.8,
          79.1,
          81.8,
          80.4,
          80.2,
          80.6,
          79.8,
          80.6,
          81.1,
          80.3,
          78.4,
          80.1,
          80.6,
          81.9,
          79,
          79,
          78.5,
          80.7,
          79.2,
          78.1,
          79.4,
          80,
          79,
          79.1,
          79.3,
          78.3,
          79.5,
          77.7,
          78.8,
          77.4,
          78.3,
          69.4,
          77.9,
          77.7,
          79,
          78.2,
          77.6,
          80.7,
          77.5,
          77.2,
          78.3,
          79.6,
          78.3,
          78.5,
          76.3,
          78.2,
          79.5,
          77.4,
          77,
          77.7,
          77.3,
          76.1,
          75.5,
          75.4,
          75.4,
          76.4,
          75.6,
          75.8,
          75.6,
          76.8,
          76.2,
          78.8,
          74.4,
          75.8,
          75.7,
          76.1,
          74.7,
          75.1,
          77.1,
          72.9,
          76,
          75.1,
          71.6,
          77.1,
          75.4,
          71.7,
          73.6,
          74.4,
          72.4,
          73.1,
          70.6,
          70.1,
          71.8,
          70.1,
          71.4,
          69.7,
          69.6,
          69.2,
          69.1,
          67.8,
          68.1,
          67.8,
          67.5,
          66.7,
          67,
          65.8,
          66.7,
          65.8,
          66.3,
          66.8,
          65.6,
          65.3,
          66.2,
          65.8,
          65.5,
          65.5,
          64.7,
          64.1,
          63.8,
          64.3,
          63.8,
          62.6,
          62.7,
          62.5,
          62.5,
          62.3,
          61.1,
          59.9,
          61.3,
          59.3,
          58,
          57.3,
          57.3,
          55,
          54.5,
          53.1,
          54.9,
          54.2,
          54.4,
          52.5,
          53.2,
          53.1,
          51.9
         ],
         "yaxis": "y"
        }
       ],
       "layout": {
        "legend": {
         "tracegroupgap": 0
        },
        "margin": {
         "t": 60
        },
        "template": {
         "data": {
          "bar": [
           {
            "error_x": {
             "color": "#2a3f5f"
            },
            "error_y": {
             "color": "#2a3f5f"
            },
            "marker": {
             "line": {
              "color": "#E5ECF6",
              "width": 0.5
             }
            },
            "type": "bar"
           }
          ],
          "barpolar": [
           {
            "marker": {
             "line": {
              "color": "#E5ECF6",
              "width": 0.5
             }
            },
            "type": "barpolar"
           }
          ],
          "carpet": [
           {
            "aaxis": {
             "endlinecolor": "#2a3f5f",
             "gridcolor": "white",
             "linecolor": "white",
             "minorgridcolor": "white",
             "startlinecolor": "#2a3f5f"
            },
            "baxis": {
             "endlinecolor": "#2a3f5f",
             "gridcolor": "white",
             "linecolor": "white",
             "minorgridcolor": "white",
             "startlinecolor": "#2a3f5f"
            },
            "type": "carpet"
           }
          ],
          "choropleth": [
           {
            "colorbar": {
             "outlinewidth": 0,
             "ticks": ""
            },
            "type": "choropleth"
           }
          ],
          "contour": [
           {
            "colorbar": {
             "outlinewidth": 0,
             "ticks": ""
            },
            "colorscale": [
             [
              0,
              "#0d0887"
             ],
             [
              0.1111111111111111,
              "#46039f"
             ],
             [
              0.2222222222222222,
              "#7201a8"
             ],
             [
              0.3333333333333333,
              "#9c179e"
             ],
             [
              0.4444444444444444,
              "#bd3786"
             ],
             [
              0.5555555555555556,
              "#d8576b"
             ],
             [
              0.6666666666666666,
              "#ed7953"
             ],
             [
              0.7777777777777778,
              "#fb9f3a"
             ],
             [
              0.8888888888888888,
              "#fdca26"
             ],
             [
              1,
              "#f0f921"
             ]
            ],
            "type": "contour"
           }
          ],
          "contourcarpet": [
           {
            "colorbar": {
             "outlinewidth": 0,
             "ticks": ""
            },
            "type": "contourcarpet"
           }
          ],
          "heatmap": [
           {
            "colorbar": {
             "outlinewidth": 0,
             "ticks": ""
            },
            "colorscale": [
             [
              0,
              "#0d0887"
             ],
             [
              0.1111111111111111,
              "#46039f"
             ],
             [
              0.2222222222222222,
              "#7201a8"
             ],
             [
              0.3333333333333333,
              "#9c179e"
             ],
             [
              0.4444444444444444,
              "#bd3786"
             ],
             [
              0.5555555555555556,
              "#d8576b"
             ],
             [
              0.6666666666666666,
              "#ed7953"
             ],
             [
              0.7777777777777778,
              "#fb9f3a"
             ],
             [
              0.8888888888888888,
              "#fdca26"
             ],
             [
              1,
              "#f0f921"
             ]
            ],
            "type": "heatmap"
           }
          ],
          "heatmapgl": [
           {
            "colorbar": {
             "outlinewidth": 0,
             "ticks": ""
            },
            "colorscale": [
             [
              0,
              "#0d0887"
             ],
             [
              0.1111111111111111,
              "#46039f"
             ],
             [
              0.2222222222222222,
              "#7201a8"
             ],
             [
              0.3333333333333333,
              "#9c179e"
             ],
             [
              0.4444444444444444,
              "#bd3786"
             ],
             [
              0.5555555555555556,
              "#d8576b"
             ],
             [
              0.6666666666666666,
              "#ed7953"
             ],
             [
              0.7777777777777778,
              "#fb9f3a"
             ],
             [
              0.8888888888888888,
              "#fdca26"
             ],
             [
              1,
              "#f0f921"
             ]
            ],
            "type": "heatmapgl"
           }
          ],
          "histogram": [
           {
            "marker": {
             "colorbar": {
              "outlinewidth": 0,
              "ticks": ""
             }
            },
            "type": "histogram"
           }
          ],
          "histogram2d": [
           {
            "colorbar": {
             "outlinewidth": 0,
             "ticks": ""
            },
            "colorscale": [
             [
              0,
              "#0d0887"
             ],
             [
              0.1111111111111111,
              "#46039f"
             ],
             [
              0.2222222222222222,
              "#7201a8"
             ],
             [
              0.3333333333333333,
              "#9c179e"
             ],
             [
              0.4444444444444444,
              "#bd3786"
             ],
             [
              0.5555555555555556,
              "#d8576b"
             ],
             [
              0.6666666666666666,
              "#ed7953"
             ],
             [
              0.7777777777777778,
              "#fb9f3a"
             ],
             [
              0.8888888888888888,
              "#fdca26"
             ],
             [
              1,
              "#f0f921"
             ]
            ],
            "type": "histogram2d"
           }
          ],
          "histogram2dcontour": [
           {
            "colorbar": {
             "outlinewidth": 0,
             "ticks": ""
            },
            "colorscale": [
             [
              0,
              "#0d0887"
             ],
             [
              0.1111111111111111,
              "#46039f"
             ],
             [
              0.2222222222222222,
              "#7201a8"
             ],
             [
              0.3333333333333333,
              "#9c179e"
             ],
             [
              0.4444444444444444,
              "#bd3786"
             ],
             [
              0.5555555555555556,
              "#d8576b"
             ],
             [
              0.6666666666666666,
              "#ed7953"
             ],
             [
              0.7777777777777778,
              "#fb9f3a"
             ],
             [
              0.8888888888888888,
              "#fdca26"
             ],
             [
              1,
              "#f0f921"
             ]
            ],
            "type": "histogram2dcontour"
           }
          ],
          "mesh3d": [
           {
            "colorbar": {
             "outlinewidth": 0,
             "ticks": ""
            },
            "type": "mesh3d"
           }
          ],
          "parcoords": [
           {
            "line": {
             "colorbar": {
              "outlinewidth": 0,
              "ticks": ""
             }
            },
            "type": "parcoords"
           }
          ],
          "pie": [
           {
            "automargin": true,
            "type": "pie"
           }
          ],
          "scatter": [
           {
            "marker": {
             "colorbar": {
              "outlinewidth": 0,
              "ticks": ""
             }
            },
            "type": "scatter"
           }
          ],
          "scatter3d": [
           {
            "line": {
             "colorbar": {
              "outlinewidth": 0,
              "ticks": ""
             }
            },
            "marker": {
             "colorbar": {
              "outlinewidth": 0,
              "ticks": ""
             }
            },
            "type": "scatter3d"
           }
          ],
          "scattercarpet": [
           {
            "marker": {
             "colorbar": {
              "outlinewidth": 0,
              "ticks": ""
             }
            },
            "type": "scattercarpet"
           }
          ],
          "scattergeo": [
           {
            "marker": {
             "colorbar": {
              "outlinewidth": 0,
              "ticks": ""
             }
            },
            "type": "scattergeo"
           }
          ],
          "scattergl": [
           {
            "marker": {
             "colorbar": {
              "outlinewidth": 0,
              "ticks": ""
             }
            },
            "type": "scattergl"
           }
          ],
          "scattermapbox": [
           {
            "marker": {
             "colorbar": {
              "outlinewidth": 0,
              "ticks": ""
             }
            },
            "type": "scattermapbox"
           }
          ],
          "scatterpolar": [
           {
            "marker": {
             "colorbar": {
              "outlinewidth": 0,
              "ticks": ""
             }
            },
            "type": "scatterpolar"
           }
          ],
          "scatterpolargl": [
           {
            "marker": {
             "colorbar": {
              "outlinewidth": 0,
              "ticks": ""
             }
            },
            "type": "scatterpolargl"
           }
          ],
          "scatterternary": [
           {
            "marker": {
             "colorbar": {
              "outlinewidth": 0,
              "ticks": ""
             }
            },
            "type": "scatterternary"
           }
          ],
          "surface": [
           {
            "colorbar": {
             "outlinewidth": 0,
             "ticks": ""
            },
            "colorscale": [
             [
              0,
              "#0d0887"
             ],
             [
              0.1111111111111111,
              "#46039f"
             ],
             [
              0.2222222222222222,
              "#7201a8"
             ],
             [
              0.3333333333333333,
              "#9c179e"
             ],
             [
              0.4444444444444444,
              "#bd3786"
             ],
             [
              0.5555555555555556,
              "#d8576b"
             ],
             [
              0.6666666666666666,
              "#ed7953"
             ],
             [
              0.7777777777777778,
              "#fb9f3a"
             ],
             [
              0.8888888888888888,
              "#fdca26"
             ],
             [
              1,
              "#f0f921"
             ]
            ],
            "type": "surface"
           }
          ],
          "table": [
           {
            "cells": {
             "fill": {
              "color": "#EBF0F8"
             },
             "line": {
              "color": "white"
             }
            },
            "header": {
             "fill": {
              "color": "#C8D4E3"
             },
             "line": {
              "color": "white"
             }
            },
            "type": "table"
           }
          ]
         },
         "layout": {
          "annotationdefaults": {
           "arrowcolor": "#2a3f5f",
           "arrowhead": 0,
           "arrowwidth": 1
          },
          "coloraxis": {
           "colorbar": {
            "outlinewidth": 0,
            "ticks": ""
           }
          },
          "colorscale": {
           "diverging": [
            [
             0,
             "#8e0152"
            ],
            [
             0.1,
             "#c51b7d"
            ],
            [
             0.2,
             "#de77ae"
            ],
            [
             0.3,
             "#f1b6da"
            ],
            [
             0.4,
             "#fde0ef"
            ],
            [
             0.5,
             "#f7f7f7"
            ],
            [
             0.6,
             "#e6f5d0"
            ],
            [
             0.7,
             "#b8e186"
            ],
            [
             0.8,
             "#7fbc41"
            ],
            [
             0.9,
             "#4d9221"
            ],
            [
             1,
             "#276419"
            ]
           ],
           "sequential": [
            [
             0,
             "#0d0887"
            ],
            [
             0.1111111111111111,
             "#46039f"
            ],
            [
             0.2222222222222222,
             "#7201a8"
            ],
            [
             0.3333333333333333,
             "#9c179e"
            ],
            [
             0.4444444444444444,
             "#bd3786"
            ],
            [
             0.5555555555555556,
             "#d8576b"
            ],
            [
             0.6666666666666666,
             "#ed7953"
            ],
            [
             0.7777777777777778,
             "#fb9f3a"
            ],
            [
             0.8888888888888888,
             "#fdca26"
            ],
            [
             1,
             "#f0f921"
            ]
           ],
           "sequentialminus": [
            [
             0,
             "#0d0887"
            ],
            [
             0.1111111111111111,
             "#46039f"
            ],
            [
             0.2222222222222222,
             "#7201a8"
            ],
            [
             0.3333333333333333,
             "#9c179e"
            ],
            [
             0.4444444444444444,
             "#bd3786"
            ],
            [
             0.5555555555555556,
             "#d8576b"
            ],
            [
             0.6666666666666666,
             "#ed7953"
            ],
            [
             0.7777777777777778,
             "#fb9f3a"
            ],
            [
             0.8888888888888888,
             "#fdca26"
            ],
            [
             1,
             "#f0f921"
            ]
           ]
          },
          "colorway": [
           "#636efa",
           "#EF553B",
           "#00cc96",
           "#ab63fa",
           "#FFA15A",
           "#19d3f3",
           "#FF6692",
           "#B6E880",
           "#FF97FF",
           "#FECB52"
          ],
          "font": {
           "color": "#2a3f5f"
          },
          "geo": {
           "bgcolor": "white",
           "lakecolor": "white",
           "landcolor": "#E5ECF6",
           "showlakes": true,
           "showland": true,
           "subunitcolor": "white"
          },
          "hoverlabel": {
           "align": "left"
          },
          "hovermode": "closest",
          "mapbox": {
           "style": "light"
          },
          "paper_bgcolor": "white",
          "plot_bgcolor": "#E5ECF6",
          "polar": {
           "angularaxis": {
            "gridcolor": "white",
            "linecolor": "white",
            "ticks": ""
           },
           "bgcolor": "#E5ECF6",
           "radialaxis": {
            "gridcolor": "white",
            "linecolor": "white",
            "ticks": ""
           }
          },
          "scene": {
           "xaxis": {
            "backgroundcolor": "#E5ECF6",
            "gridcolor": "white",
            "gridwidth": 2,
            "linecolor": "white",
            "showbackground": true,
            "ticks": "",
            "zerolinecolor": "white"
           },
           "yaxis": {
            "backgroundcolor": "#E5ECF6",
            "gridcolor": "white",
            "gridwidth": 2,
            "linecolor": "white",
            "showbackground": true,
            "ticks": "",
            "zerolinecolor": "white"
           },
           "zaxis": {
            "backgroundcolor": "#E5ECF6",
            "gridcolor": "white",
            "gridwidth": 2,
            "linecolor": "white",
            "showbackground": true,
            "ticks": "",
            "zerolinecolor": "white"
           }
          },
          "shapedefaults": {
           "line": {
            "color": "#2a3f5f"
           }
          },
          "ternary": {
           "aaxis": {
            "gridcolor": "white",
            "linecolor": "white",
            "ticks": ""
           },
           "baxis": {
            "gridcolor": "white",
            "linecolor": "white",
            "ticks": ""
           },
           "bgcolor": "#E5ECF6",
           "caxis": {
            "gridcolor": "white",
            "linecolor": "white",
            "ticks": ""
           }
          },
          "title": {
           "x": 0.05
          },
          "xaxis": {
           "automargin": true,
           "gridcolor": "white",
           "linecolor": "white",
           "ticks": "",
           "title": {
            "standoff": 15
           },
           "zerolinecolor": "white",
           "zerolinewidth": 2
          },
          "yaxis": {
           "automargin": true,
           "gridcolor": "white",
           "linecolor": "white",
           "ticks": "",
           "title": {
            "standoff": 15
           },
           "zerolinecolor": "white",
           "zerolinewidth": 2
          }
         }
        },
        "xaxis": {
         "anchor": "y",
         "domain": [
          0,
          1
         ],
         "title": {
          "text": "Males"
         }
        },
        "yaxis": {
         "anchor": "x",
         "domain": [
          0,
          1
         ],
         "title": {
          "text": "Females"
         }
        }
       }
      },
      "text/html": [
       "<div>\n",
       "        \n",
       "        \n",
       "            <div id=\"a96c4d87-bb0b-44ec-a3b4-75286dfc4daf\" class=\"plotly-graph-div\" style=\"height:525px; width:100%;\"></div>\n",
       "            <script type=\"text/javascript\">\n",
       "                require([\"plotly\"], function(Plotly) {\n",
       "                    window.PLOTLYENV=window.PLOTLYENV || {};\n",
       "                    \n",
       "                if (document.getElementById(\"a96c4d87-bb0b-44ec-a3b4-75286dfc4daf\")) {\n",
       "                    Plotly.newPlot(\n",
       "                        'a96c4d87-bb0b-44ec-a3b4-75286dfc4daf',\n",
       "                        [{\"customdata\": [[\"Monaco\", 1], [\"Japan\", 2], [\"Singapore\", 3], [\"San Marino\", 5], [\"Iceland\", 6], [\"Andorra\", 8], [\"Switzerland\", 10], [\"Israel\", 11], [\"Luxembourg\", 13], [\"Australia\", 14], [\"Italy\", 15], [\"Sweden\", 16], [\"Canada\", 17], [\"Liechtenstein\", 19], [\"France\", 20], [\"Norway\", 21], [\"Spain\", 22], [\"Austria\", 23], [\"Bermuda\", 25], [\"Netherlands\", 26], [\"Cayman Islands\", 27], [\"New Zealand\", 29], [\"Belgium\", 30], [\"Finland\", 31], [\"Ireland\", 32], [\"Puerto Rico\", 33], [\"Germany\", 34], [\"United Kingdom\", 35], [\"Greece\", 36], [\"Qatar\", 43], [\"Denmark\", 47], [\"Portugal\", 48], [\"Chile\", 51], [\"Cuba\", 52], [\"Cyprus\", 53], [\"United States\", 54], [\"Panama\", 56], [\"Czech Republic\", 57], [\"Costa Rica\", 58], [\"Albania\", 59], [\"Slovenia\", 61], [\"Dominican Republic\", 62], [\"Dominican Republic\", 76], [\"Kuwait\", 64], [\"New Caledonia\", 65], [\"St. Lucia\", 66], [\"Lebanon\", 67], [\"Poland\", 68], [\"United Arab Emirates\", 69], [\"Paraguay\", 71], [\"Uruguay\", 72], [\"Brunei Darussalam\", 73], [\"Argentina\", 74], [\"Slovak Republic\", 75], [\"Morocco\", 77], [\"Algeria\", 78], [\"Ecuador\", 79], [\"Sri Lanka\", 81], [\"Estonia\", 83], [\"China\", 84], [\"Antigua and Barbuda\", 85], [\"Libya\", 86], [\"Georgia\", 87], [\"North Macedonia\", 88], [\"Tonga\", 89], [\"Croatia\", 90], [\"Hungary\", 91], [\"Mexico\", 92], [\"Venezuela, RB\", 93], [\"Colombia\", 96], [\"Maldives\", 98], [\"Mauritius\", 99], [\"Oman\", 100], [\"Serbia\", 101], [\"Tunisia\", 102], [\"Solomon Islands\", 103], [\"St. Vincent and the Grenadines\", 104], [\"Barbados\", 105], [\"Saudi Arabia\", 106], [\"Romania\", 108], [\"Malaysia\", 109], [\"Syrian Arab Republic\", 111], [\"Lithuania\", 112], [\"Turkey\", 113], [\"Iraq\", 114], [\"El Salvador\", 115], [\"Seychelles\", 116], [\"Thailand\", 117], [\"Armenia\", 118], [\"Jordan\", 119], [\"Bulgaria\", 120], [\"Latvia\", 121], [\"Grenada\", 123], [\"Samoa\", 125], [\"Brazil\", 126], [\"Uzbekistan\", 127], [\"Peru\", 128], [\"Iran, Islamic Rep.\", 129], [\"Jamaica\", 130], [\"Vanuatu\", 131], [\"Vietnam\", 132], [\"Bangladesh\", 133], [\"Nicaragua\", 134], [\"American Samoa\", 135], [\"Palau\", 137], [\"Trinidad and Tobago\", 139], [\"Belarus\", 140], [\"Egypt, Arab Rep.\", 141], [\"Fiji\", 142], [\"Indonesia\", 143], [\"Azerbaijan\", 144], [\"Guatemala\", 147], [\"Suriname\", 148], [\"Ukraine\", 150], [\"Honduras\", 151], [\"Kazakhstan\", 152], [\"Moldova\", 153], [\"Nepal\", 154], [\"Russian Federation\", 155], [\"Kyrgyz Republic\", 156], [\"Bhutan\", 158], [\"Turkmenistan\", 159], [\"Mongolia\", 160], [\"Bolivia\", 161], [\"Philippines\", 162], [\"Belize\", 163], [\"India\", 164], [\"Guyana\", 165], [\"Pakistan\", 168], [\"Tajikistan\", 169], [\"Papua New Guinea\", 171], [\"Ghana\", 172], [\"Tuvalu\", 173], [\"Kiribati\", 174], [\"Madagascar\", 175], [\"Togo\", 177], [\"Eritrea\", 179], [\"Cambodia\", 181], [\"Lao PDR\", 182], [\"Comoros\", 183], [\"Equatorial Guinea\", 184], [\"Sudan\", 185], [\"Kenya\", 186], [\"Rwanda\", 187], [\"Haiti\", 188], [\"Namibia\", 189], [\"South Africa\", 190], [\"Djibouti\", 191], [\"Mauritania\", 193], [\"Botswana\", 194], [\"Liberia\", 195], [\"Ethiopia\", 196], [\"Tanzania\", 197], [\"Benin\", 198], [\"Senegal\", 199], [\"Malawi\", 200], [\"Guinea\", 201], [\"Burundi\", 202], [\"Zimbabwe\", 203], [\"Mali\", 204], [\"Angola\", 205], [\"Congo, Rep.\", 206], [\"Cameroon\", 208], [\"Sierra Leone\", 209], [\"Congo, Dem. Rep.\", 210], [\"Burkina Faso\", 211], [\"Niger\", 212], [\"Uganda\", 213], [\"Nigeria\", 214], [\"Mozambique\", 215], [\"Lesotho\", 216], [\"Somalia\", 217], [\"Central African Republic\", 218], [\"Zambia\", 219], [\"Gabon\", 220], [\"Afghanistan\", 222], [\"Guinea-Bissau\", 223], [\"Chad\", 224]], \"hovertemplate\": \"Males=%{x}<br>Females=%{y}<br>Country Name=%{customdata[0]}<br>Rank=%{customdata[1]}<extra></extra>\", \"legendgroup\": \"\", \"marker\": {\"color\": \"#636efa\", \"symbol\": \"circle\"}, \"mode\": \"markers\", \"name\": \"\", \"orientation\": \"v\", \"showlegend\": false, \"type\": \"scatter\", \"x\": [85.6, 81.9, 82.6, 80.8, 80.9, 80.7, 80.3, 80.7, 79.9, 79.8, 79.6, 80.2, 79.3, 79.7, 78.8, 79.8, 78.8, 78.9, 78.2, 79.3, 78.6, 79.1, 78.5, 78.0, 78.6, 77.6, 78.5, 78.6, 78.0, 77.7, 77.1, 76.2, 75.9, 76.5, 76.0, 76.8, 76.0, 75.8, 76.1, 75.8, 74.8, 76.0, 74.2, 76.8, 73.9, 75.2, 76.5, 73.9, 75.0, 74.7, 74.2, 75.0, 74.2, 73.7, 74.0, 75.6, 74.0, 73.5, 72.1, 74.6, 74.6, 74.9, 72.3, 73.8, 74.9, 72.9, 72.4, 73.3, 73.0, 72.8, 73.5, 72.4, 73.7, 72.8, 74.1, 72.9, 77.6, 73.2, 73.4, 71.9, 72.4, 72.7, 69.7, 72.7, 72.6, 71.6, 70.4, 71.7, 71.6, 73.4, 71.4, 70.1, 71.9, 71.1, 70.5, 71.0, 71.9, 72.7, 72.1, 72.1, 71.2, 71.3, 71.3, 71.3, 70.2, 70.2, 67.5, 71.6, 70.3, 70.4, 69.7, 70.6, 70.1, 67.4, 69.5, 65.9, 67.1, 70.4, 65.3, 66.8, 69.6, 67.4, 65.7, 66.7, 65.9, 67.3, 67.6, 65.6, 66.1, 64.9, 65.1, 64.5, 64.7, 64.0, 64.7, 62.8, 62.7, 62.4, 62.6, 62.3, 63.4, 62.3, 62.8, 62.3, 61.6, 62.4, 62.4, 61.0, 61.1, 61.2, 61.2, 60.1, 61.2, 60.9, 60.0, 59.7, 59.5, 59.2, 58.3, 58.2, 58.2, 58.6, 57.6, 56.0, 56.1, 53.8, 54.7, 54.4, 52.8, 52.9, 53.0, 50.7, 51.4, 51.1, 51.7, 50.3, 48.9, 49.4], \"xaxis\": \"x\", \"y\": [93.5, 88.8, 88.1, 86.1, 85.4, 85.2, 85.1, 84.5, 84.9, 84.9, 85.1, 84.2, 84.7, 84.7, 85.2, 84.0, 84.9, 84.4, 84.6, 83.7, 84.1, 83.5, 83.8, 84.1, 83.4, 84.4, 83.3, 83.1, 83.4, 82.2, 82.1, 82.9, 82.1, 81.3, 81.8, 81.0, 81.7, 81.9, 81.5, 81.4, 82.2, 80.6, 80.3, 79.6, 82.0, 80.8, 79.1, 81.8, 80.4, 80.2, 80.6, 79.8, 80.6, 81.1, 80.3, 78.4, 80.1, 80.6, 81.9, 79.0, 79.0, 78.5, 80.7, 79.2, 78.1, 79.4, 80.0, 79.0, 79.1, 79.3, 78.3, 79.5, 77.7, 78.8, 77.4, 78.3, 69.4, 77.9, 77.7, 79.0, 78.2, 77.6, 80.7, 77.5, 77.2, 78.3, 79.6, 78.3, 78.5, 76.3, 78.2, 79.5, 77.4, 77.0, 77.7, 77.3, 76.1, 75.5, 75.4, 75.4, 76.4, 75.6, 75.8, 75.6, 76.8, 76.2, 78.8, 74.4, 75.8, 75.7, 76.1, 74.7, 75.1, 77.1, 72.9, 76.0, 75.1, 71.6, 77.1, 75.4, 71.7, 73.6, 74.4, 72.4, 73.1, 70.6, 70.1, 71.8, 70.1, 71.4, 69.7, 69.6, 69.2, 69.1, 67.8, 68.1, 67.8, 67.5, 66.7, 67.0, 65.8, 66.7, 65.8, 66.3, 66.8, 65.6, 65.3, 66.2, 65.8, 65.5, 65.5, 64.7, 64.1, 63.8, 64.3, 63.8, 62.6, 62.7, 62.5, 62.5, 62.3, 61.1, 59.9, 61.3, 59.3, 58.0, 57.3, 57.3, 55.0, 54.5, 53.1, 54.9, 54.2, 54.4, 52.5, 53.2, 53.1, 51.9], \"yaxis\": \"y\"}],\n",
       "                        {\"legend\": {\"tracegroupgap\": 0}, \"margin\": {\"t\": 60}, \"template\": {\"data\": {\"bar\": [{\"error_x\": {\"color\": \"#2a3f5f\"}, \"error_y\": {\"color\": \"#2a3f5f\"}, \"marker\": {\"line\": {\"color\": \"#E5ECF6\", \"width\": 0.5}}, \"type\": \"bar\"}], \"barpolar\": [{\"marker\": {\"line\": {\"color\": \"#E5ECF6\", \"width\": 0.5}}, \"type\": \"barpolar\"}], \"carpet\": [{\"aaxis\": {\"endlinecolor\": \"#2a3f5f\", \"gridcolor\": \"white\", \"linecolor\": \"white\", \"minorgridcolor\": \"white\", \"startlinecolor\": \"#2a3f5f\"}, \"baxis\": {\"endlinecolor\": \"#2a3f5f\", \"gridcolor\": \"white\", \"linecolor\": \"white\", \"minorgridcolor\": \"white\", \"startlinecolor\": \"#2a3f5f\"}, \"type\": \"carpet\"}], \"choropleth\": [{\"colorbar\": {\"outlinewidth\": 0, \"ticks\": \"\"}, \"type\": \"choropleth\"}], \"contour\": [{\"colorbar\": {\"outlinewidth\": 0, \"ticks\": \"\"}, \"colorscale\": [[0.0, \"#0d0887\"], [0.1111111111111111, \"#46039f\"], [0.2222222222222222, \"#7201a8\"], [0.3333333333333333, \"#9c179e\"], [0.4444444444444444, \"#bd3786\"], [0.5555555555555556, \"#d8576b\"], [0.6666666666666666, \"#ed7953\"], [0.7777777777777778, \"#fb9f3a\"], [0.8888888888888888, \"#fdca26\"], [1.0, \"#f0f921\"]], \"type\": \"contour\"}], \"contourcarpet\": [{\"colorbar\": {\"outlinewidth\": 0, \"ticks\": \"\"}, \"type\": \"contourcarpet\"}], \"heatmap\": [{\"colorbar\": {\"outlinewidth\": 0, \"ticks\": \"\"}, \"colorscale\": [[0.0, \"#0d0887\"], [0.1111111111111111, \"#46039f\"], [0.2222222222222222, \"#7201a8\"], [0.3333333333333333, \"#9c179e\"], [0.4444444444444444, \"#bd3786\"], [0.5555555555555556, \"#d8576b\"], [0.6666666666666666, \"#ed7953\"], [0.7777777777777778, \"#fb9f3a\"], [0.8888888888888888, \"#fdca26\"], [1.0, \"#f0f921\"]], \"type\": \"heatmap\"}], \"heatmapgl\": [{\"colorbar\": {\"outlinewidth\": 0, \"ticks\": \"\"}, \"colorscale\": [[0.0, \"#0d0887\"], [0.1111111111111111, \"#46039f\"], [0.2222222222222222, \"#7201a8\"], [0.3333333333333333, \"#9c179e\"], [0.4444444444444444, \"#bd3786\"], [0.5555555555555556, \"#d8576b\"], [0.6666666666666666, \"#ed7953\"], [0.7777777777777778, \"#fb9f3a\"], [0.8888888888888888, \"#fdca26\"], [1.0, \"#f0f921\"]], \"type\": \"heatmapgl\"}], \"histogram\": [{\"marker\": {\"colorbar\": {\"outlinewidth\": 0, \"ticks\": \"\"}}, \"type\": \"histogram\"}], \"histogram2d\": [{\"colorbar\": {\"outlinewidth\": 0, \"ticks\": \"\"}, \"colorscale\": [[0.0, \"#0d0887\"], [0.1111111111111111, \"#46039f\"], [0.2222222222222222, \"#7201a8\"], [0.3333333333333333, \"#9c179e\"], [0.4444444444444444, \"#bd3786\"], [0.5555555555555556, \"#d8576b\"], [0.6666666666666666, \"#ed7953\"], [0.7777777777777778, \"#fb9f3a\"], [0.8888888888888888, \"#fdca26\"], [1.0, \"#f0f921\"]], \"type\": \"histogram2d\"}], \"histogram2dcontour\": [{\"colorbar\": {\"outlinewidth\": 0, \"ticks\": \"\"}, \"colorscale\": [[0.0, \"#0d0887\"], [0.1111111111111111, \"#46039f\"], [0.2222222222222222, \"#7201a8\"], [0.3333333333333333, \"#9c179e\"], [0.4444444444444444, \"#bd3786\"], [0.5555555555555556, \"#d8576b\"], [0.6666666666666666, \"#ed7953\"], [0.7777777777777778, \"#fb9f3a\"], [0.8888888888888888, \"#fdca26\"], [1.0, \"#f0f921\"]], \"type\": \"histogram2dcontour\"}], \"mesh3d\": [{\"colorbar\": {\"outlinewidth\": 0, \"ticks\": \"\"}, \"type\": \"mesh3d\"}], \"parcoords\": [{\"line\": {\"colorbar\": {\"outlinewidth\": 0, \"ticks\": \"\"}}, \"type\": \"parcoords\"}], \"pie\": [{\"automargin\": true, \"type\": \"pie\"}], \"scatter\": [{\"marker\": {\"colorbar\": {\"outlinewidth\": 0, \"ticks\": \"\"}}, \"type\": \"scatter\"}], \"scatter3d\": [{\"line\": {\"colorbar\": {\"outlinewidth\": 0, \"ticks\": \"\"}}, \"marker\": {\"colorbar\": {\"outlinewidth\": 0, \"ticks\": \"\"}}, \"type\": \"scatter3d\"}], \"scattercarpet\": [{\"marker\": {\"colorbar\": {\"outlinewidth\": 0, \"ticks\": \"\"}}, \"type\": \"scattercarpet\"}], \"scattergeo\": [{\"marker\": {\"colorbar\": {\"outlinewidth\": 0, \"ticks\": \"\"}}, \"type\": \"scattergeo\"}], \"scattergl\": [{\"marker\": {\"colorbar\": {\"outlinewidth\": 0, \"ticks\": \"\"}}, \"type\": \"scattergl\"}], \"scattermapbox\": [{\"marker\": {\"colorbar\": {\"outlinewidth\": 0, \"ticks\": \"\"}}, \"type\": \"scattermapbox\"}], \"scatterpolar\": [{\"marker\": {\"colorbar\": {\"outlinewidth\": 0, \"ticks\": \"\"}}, \"type\": \"scatterpolar\"}], \"scatterpolargl\": [{\"marker\": {\"colorbar\": {\"outlinewidth\": 0, \"ticks\": \"\"}}, \"type\": \"scatterpolargl\"}], \"scatterternary\": [{\"marker\": {\"colorbar\": {\"outlinewidth\": 0, \"ticks\": \"\"}}, \"type\": \"scatterternary\"}], \"surface\": [{\"colorbar\": {\"outlinewidth\": 0, \"ticks\": \"\"}, \"colorscale\": [[0.0, \"#0d0887\"], [0.1111111111111111, \"#46039f\"], [0.2222222222222222, \"#7201a8\"], [0.3333333333333333, \"#9c179e\"], [0.4444444444444444, \"#bd3786\"], [0.5555555555555556, \"#d8576b\"], [0.6666666666666666, \"#ed7953\"], [0.7777777777777778, \"#fb9f3a\"], [0.8888888888888888, \"#fdca26\"], [1.0, \"#f0f921\"]], \"type\": \"surface\"}], \"table\": [{\"cells\": {\"fill\": {\"color\": \"#EBF0F8\"}, \"line\": {\"color\": \"white\"}}, \"header\": {\"fill\": {\"color\": \"#C8D4E3\"}, \"line\": {\"color\": \"white\"}}, \"type\": \"table\"}]}, \"layout\": {\"annotationdefaults\": {\"arrowcolor\": \"#2a3f5f\", \"arrowhead\": 0, \"arrowwidth\": 1}, \"coloraxis\": {\"colorbar\": {\"outlinewidth\": 0, \"ticks\": \"\"}}, \"colorscale\": {\"diverging\": [[0, \"#8e0152\"], [0.1, \"#c51b7d\"], [0.2, \"#de77ae\"], [0.3, \"#f1b6da\"], [0.4, \"#fde0ef\"], [0.5, \"#f7f7f7\"], [0.6, \"#e6f5d0\"], [0.7, \"#b8e186\"], [0.8, \"#7fbc41\"], [0.9, \"#4d9221\"], [1, \"#276419\"]], \"sequential\": [[0.0, \"#0d0887\"], [0.1111111111111111, \"#46039f\"], [0.2222222222222222, \"#7201a8\"], [0.3333333333333333, \"#9c179e\"], [0.4444444444444444, \"#bd3786\"], [0.5555555555555556, \"#d8576b\"], [0.6666666666666666, \"#ed7953\"], [0.7777777777777778, \"#fb9f3a\"], [0.8888888888888888, \"#fdca26\"], [1.0, \"#f0f921\"]], \"sequentialminus\": [[0.0, \"#0d0887\"], [0.1111111111111111, \"#46039f\"], [0.2222222222222222, \"#7201a8\"], [0.3333333333333333, \"#9c179e\"], [0.4444444444444444, \"#bd3786\"], [0.5555555555555556, \"#d8576b\"], [0.6666666666666666, \"#ed7953\"], [0.7777777777777778, \"#fb9f3a\"], [0.8888888888888888, \"#fdca26\"], [1.0, \"#f0f921\"]]}, \"colorway\": [\"#636efa\", \"#EF553B\", \"#00cc96\", \"#ab63fa\", \"#FFA15A\", \"#19d3f3\", \"#FF6692\", \"#B6E880\", \"#FF97FF\", \"#FECB52\"], \"font\": {\"color\": \"#2a3f5f\"}, \"geo\": {\"bgcolor\": \"white\", \"lakecolor\": \"white\", \"landcolor\": \"#E5ECF6\", \"showlakes\": true, \"showland\": true, \"subunitcolor\": \"white\"}, \"hoverlabel\": {\"align\": \"left\"}, \"hovermode\": \"closest\", \"mapbox\": {\"style\": \"light\"}, \"paper_bgcolor\": \"white\", \"plot_bgcolor\": \"#E5ECF6\", \"polar\": {\"angularaxis\": {\"gridcolor\": \"white\", \"linecolor\": \"white\", \"ticks\": \"\"}, \"bgcolor\": \"#E5ECF6\", \"radialaxis\": {\"gridcolor\": \"white\", \"linecolor\": \"white\", \"ticks\": \"\"}}, \"scene\": {\"xaxis\": {\"backgroundcolor\": \"#E5ECF6\", \"gridcolor\": \"white\", \"gridwidth\": 2, \"linecolor\": \"white\", \"showbackground\": true, \"ticks\": \"\", \"zerolinecolor\": \"white\"}, \"yaxis\": {\"backgroundcolor\": \"#E5ECF6\", \"gridcolor\": \"white\", \"gridwidth\": 2, \"linecolor\": \"white\", \"showbackground\": true, \"ticks\": \"\", \"zerolinecolor\": \"white\"}, \"zaxis\": {\"backgroundcolor\": \"#E5ECF6\", \"gridcolor\": \"white\", \"gridwidth\": 2, \"linecolor\": \"white\", \"showbackground\": true, \"ticks\": \"\", \"zerolinecolor\": \"white\"}}, \"shapedefaults\": {\"line\": {\"color\": \"#2a3f5f\"}}, \"ternary\": {\"aaxis\": {\"gridcolor\": \"white\", \"linecolor\": \"white\", \"ticks\": \"\"}, \"baxis\": {\"gridcolor\": \"white\", \"linecolor\": \"white\", \"ticks\": \"\"}, \"bgcolor\": \"#E5ECF6\", \"caxis\": {\"gridcolor\": \"white\", \"linecolor\": \"white\", \"ticks\": \"\"}}, \"title\": {\"x\": 0.05}, \"xaxis\": {\"automargin\": true, \"gridcolor\": \"white\", \"linecolor\": \"white\", \"ticks\": \"\", \"title\": {\"standoff\": 15}, \"zerolinecolor\": \"white\", \"zerolinewidth\": 2}, \"yaxis\": {\"automargin\": true, \"gridcolor\": \"white\", \"linecolor\": \"white\", \"ticks\": \"\", \"title\": {\"standoff\": 15}, \"zerolinecolor\": \"white\", \"zerolinewidth\": 2}}}, \"xaxis\": {\"anchor\": \"y\", \"domain\": [0.0, 1.0], \"title\": {\"text\": \"Males\"}}, \"yaxis\": {\"anchor\": \"x\", \"domain\": [0.0, 1.0], \"title\": {\"text\": \"Females\"}}},\n",
       "                        {\"responsive\": true}\n",
       "                    ).then(function(){\n",
       "                            \n",
       "var gd = document.getElementById('a96c4d87-bb0b-44ec-a3b4-75286dfc4daf');\n",
       "var x = new MutationObserver(function (mutations, observer) {{\n",
       "        var display = window.getComputedStyle(gd).display;\n",
       "        if (!display || display === 'none') {{\n",
       "            console.log([gd, 'removed!']);\n",
       "            Plotly.purge(gd);\n",
       "            observer.disconnect();\n",
       "        }}\n",
       "}});\n",
       "\n",
       "// Listen for the removal of the full notebook cells\n",
       "var notebookContainer = gd.closest('#notebook-container');\n",
       "if (notebookContainer) {{\n",
       "    x.observe(notebookContainer, {childList: true});\n",
       "}}\n",
       "\n",
       "// Listen for the clearing of the current output cell\n",
       "var outputEl = gd.closest('.output');\n",
       "if (outputEl) {{\n",
       "    x.observe(outputEl, {childList: true});\n",
       "}}\n",
       "\n",
       "                        })\n",
       "                };\n",
       "                });\n",
       "            </script>\n",
       "        </div>"
      ]
     },
     "metadata": {},
     "output_type": "display_data"
    }
   ],
   "source": [
    "#showing ratio of male to femaleslife expectancy\n",
    "fig = px.scatter(df3, x=\"Males\", y=\"Females\", hover_data=[\"Country Name\", \"Rank\"])\n",
    "fig.show()"
   ]
  },
  {
   "cell_type": "code",
   "execution_count": 43,
   "metadata": {},
   "outputs": [
    {
     "data": {
      "application/vnd.plotly.v1+json": {
       "config": {
        "plotlyServerURL": "https://plot.ly"
       },
       "data": [
        {
         "customdata": [
          [
           "Monaco",
           1
          ],
          [
           "Japan",
           2
          ],
          [
           "Singapore",
           3
          ],
          [
           "San Marino",
           5
          ],
          [
           "Iceland",
           6
          ],
          [
           "Andorra",
           8
          ],
          [
           "Switzerland",
           10
          ],
          [
           "Israel",
           11
          ],
          [
           "Luxembourg",
           13
          ],
          [
           "Australia",
           14
          ],
          [
           "Italy",
           15
          ],
          [
           "Sweden",
           16
          ],
          [
           "Canada",
           17
          ],
          [
           "Liechtenstein",
           19
          ],
          [
           "France",
           20
          ],
          [
           "Norway",
           21
          ],
          [
           "Spain",
           22
          ],
          [
           "Austria",
           23
          ],
          [
           "Bermuda",
           25
          ],
          [
           "Netherlands",
           26
          ],
          [
           "Cayman Islands",
           27
          ],
          [
           "New Zealand",
           29
          ],
          [
           "Belgium",
           30
          ],
          [
           "Finland",
           31
          ],
          [
           "Ireland",
           32
          ],
          [
           "Puerto Rico",
           33
          ],
          [
           "Germany",
           34
          ],
          [
           "United Kingdom",
           35
          ],
          [
           "Greece",
           36
          ],
          [
           "Qatar",
           43
          ],
          [
           "Denmark",
           47
          ],
          [
           "Portugal",
           48
          ],
          [
           "Chile",
           51
          ],
          [
           "Cuba",
           52
          ],
          [
           "Cyprus",
           53
          ],
          [
           "United States",
           54
          ],
          [
           "Panama",
           56
          ],
          [
           "Czech Republic",
           57
          ],
          [
           "Costa Rica",
           58
          ],
          [
           "Albania",
           59
          ],
          [
           "Slovenia",
           61
          ],
          [
           "Dominican Republic",
           62
          ],
          [
           "Dominican Republic",
           76
          ],
          [
           "Kuwait",
           64
          ],
          [
           "New Caledonia",
           65
          ],
          [
           "St. Lucia",
           66
          ],
          [
           "Lebanon",
           67
          ],
          [
           "Poland",
           68
          ],
          [
           "United Arab Emirates",
           69
          ],
          [
           "Paraguay",
           71
          ],
          [
           "Uruguay",
           72
          ],
          [
           "Brunei Darussalam",
           73
          ],
          [
           "Argentina",
           74
          ],
          [
           "Slovak Republic",
           75
          ],
          [
           "Morocco",
           77
          ],
          [
           "Algeria",
           78
          ],
          [
           "Ecuador",
           79
          ],
          [
           "Sri Lanka",
           81
          ],
          [
           "Estonia",
           83
          ],
          [
           "China",
           84
          ],
          [
           "Antigua and Barbuda",
           85
          ],
          [
           "Libya",
           86
          ],
          [
           "Georgia",
           87
          ],
          [
           "North Macedonia",
           88
          ],
          [
           "Tonga",
           89
          ],
          [
           "Croatia",
           90
          ],
          [
           "Hungary",
           91
          ],
          [
           "Mexico",
           92
          ],
          [
           "Venezuela, RB",
           93
          ],
          [
           "Colombia",
           96
          ],
          [
           "Maldives",
           98
          ],
          [
           "Mauritius",
           99
          ],
          [
           "Oman",
           100
          ],
          [
           "Serbia",
           101
          ],
          [
           "Tunisia",
           102
          ],
          [
           "Solomon Islands",
           103
          ],
          [
           "St. Vincent and the Grenadines",
           104
          ],
          [
           "Barbados",
           105
          ],
          [
           "Saudi Arabia",
           106
          ],
          [
           "Romania",
           108
          ],
          [
           "Malaysia",
           109
          ],
          [
           "Syrian Arab Republic",
           111
          ],
          [
           "Lithuania",
           112
          ],
          [
           "Turkey",
           113
          ],
          [
           "Iraq",
           114
          ],
          [
           "El Salvador",
           115
          ],
          [
           "Seychelles",
           116
          ],
          [
           "Thailand",
           117
          ],
          [
           "Armenia",
           118
          ],
          [
           "Jordan",
           119
          ],
          [
           "Bulgaria",
           120
          ],
          [
           "Latvia",
           121
          ],
          [
           "Grenada",
           123
          ],
          [
           "Samoa",
           125
          ],
          [
           "Brazil",
           126
          ],
          [
           "Uzbekistan",
           127
          ],
          [
           "Peru",
           128
          ],
          [
           "Iran, Islamic Rep.",
           129
          ],
          [
           "Jamaica",
           130
          ],
          [
           "Vanuatu",
           131
          ],
          [
           "Vietnam",
           132
          ],
          [
           "Bangladesh",
           133
          ],
          [
           "Nicaragua",
           134
          ],
          [
           "American Samoa",
           135
          ],
          [
           "Palau",
           137
          ],
          [
           "Trinidad and Tobago",
           139
          ],
          [
           "Belarus",
           140
          ],
          [
           "Egypt, Arab Rep.",
           141
          ],
          [
           "Fiji",
           142
          ],
          [
           "Indonesia",
           143
          ],
          [
           "Azerbaijan",
           144
          ],
          [
           "Guatemala",
           147
          ],
          [
           "Suriname",
           148
          ],
          [
           "Ukraine",
           150
          ],
          [
           "Honduras",
           151
          ],
          [
           "Kazakhstan",
           152
          ],
          [
           "Moldova",
           153
          ],
          [
           "Nepal",
           154
          ],
          [
           "Russian Federation",
           155
          ],
          [
           "Kyrgyz Republic",
           156
          ],
          [
           "Bhutan",
           158
          ],
          [
           "Turkmenistan",
           159
          ],
          [
           "Mongolia",
           160
          ],
          [
           "Bolivia",
           161
          ],
          [
           "Philippines",
           162
          ],
          [
           "Belize",
           163
          ],
          [
           "India",
           164
          ],
          [
           "Guyana",
           165
          ],
          [
           "Pakistan",
           168
          ],
          [
           "Tajikistan",
           169
          ],
          [
           "Papua New Guinea",
           171
          ],
          [
           "Ghana",
           172
          ],
          [
           "Tuvalu",
           173
          ],
          [
           "Kiribati",
           174
          ],
          [
           "Madagascar",
           175
          ],
          [
           "Togo",
           177
          ],
          [
           "Eritrea",
           179
          ],
          [
           "Cambodia",
           181
          ],
          [
           "Lao PDR",
           182
          ],
          [
           "Comoros",
           183
          ],
          [
           "Equatorial Guinea",
           184
          ],
          [
           "Sudan",
           185
          ],
          [
           "Kenya",
           186
          ],
          [
           "Rwanda",
           187
          ],
          [
           "Haiti",
           188
          ],
          [
           "Namibia",
           189
          ],
          [
           "South Africa",
           190
          ],
          [
           "Djibouti",
           191
          ],
          [
           "Mauritania",
           193
          ],
          [
           "Botswana",
           194
          ],
          [
           "Liberia",
           195
          ],
          [
           "Ethiopia",
           196
          ],
          [
           "Tanzania",
           197
          ],
          [
           "Benin",
           198
          ],
          [
           "Senegal",
           199
          ],
          [
           "Malawi",
           200
          ],
          [
           "Guinea",
           201
          ],
          [
           "Burundi",
           202
          ],
          [
           "Zimbabwe",
           203
          ],
          [
           "Mali",
           204
          ],
          [
           "Angola",
           205
          ],
          [
           "Congo, Rep.",
           206
          ],
          [
           "Cameroon",
           208
          ],
          [
           "Sierra Leone",
           209
          ],
          [
           "Congo, Dem. Rep.",
           210
          ],
          [
           "Burkina Faso",
           211
          ],
          [
           "Niger",
           212
          ],
          [
           "Uganda",
           213
          ],
          [
           "Nigeria",
           214
          ],
          [
           "Mozambique",
           215
          ],
          [
           "Lesotho",
           216
          ],
          [
           "Somalia",
           217
          ],
          [
           "Central African Republic",
           218
          ],
          [
           "Zambia",
           219
          ],
          [
           "Gabon",
           220
          ],
          [
           "Afghanistan",
           222
          ],
          [
           "Guinea-Bissau",
           223
          ],
          [
           "Chad",
           224
          ]
         ],
         "hovertemplate": "Average=%{x}<br>Forest area (1000 ha)=%{y}<br>Country Name=%{customdata[0]}<br>Rank=%{customdata[1]}<extra></extra>",
         "legendgroup": "",
         "marker": {
          "color": "#636efa",
          "symbol": "circle"
         },
         "mode": "markers",
         "name": "",
         "orientation": "v",
         "showlegend": false,
         "type": "scatter",
         "x": [
          89.4,
          85.3,
          85.2,
          83.3,
          83.1,
          82.9,
          82.6,
          82.5,
          82.3,
          82.3,
          82.3,
          82.1,
          81.9,
          81.9,
          81.9,
          81.9,
          81.8,
          81.6,
          81.4,
          81.4,
          81.3,
          81.3,
          81.1,
          81,
          80.9,
          80.9,
          80.8,
          80.8,
          80.7,
          80,
          79.5,
          79.4,
          78.9,
          78.8,
          78.8,
          78.8,
          78.8,
          78.8,
          78.7,
          78.5,
          78.3,
          78.3,
          77.2,
          78.2,
          77.9,
          77.9,
          77.8,
          77.8,
          77.7,
          77.4,
          77.4,
          77.3,
          77.3,
          77.3,
          77.1,
          77,
          77,
          76.9,
          76.9,
          76.7,
          76.7,
          76.7,
          76.4,
          76.4,
          76.4,
          76.1,
          76.1,
          76.1,
          76,
          75.9,
          75.8,
          75.8,
          75.7,
          75.7,
          75.7,
          75.6,
          73.5,
          75.5,
          75.5,
          75.4,
          75.2,
          75.1,
          75,
          75,
          74.9,
          74.9,
          74.9,
          74.9,
          74.9,
          74.8,
          74.7,
          74.7,
          74.5,
          74,
          74,
          74,
          74,
          74,
          73.7,
          73.7,
          73.7,
          73.4,
          73.4,
          73.4,
          73.4,
          73.1,
          73,
          73,
          73,
          73,
          72.8,
          72.6,
          72.5,
          72.1,
          71.2,
          71.1,
          71,
          71,
          71,
          70.9,
          70.6,
          70.4,
          69.9,
          69.5,
          69.4,
          68.9,
          68.8,
          68.6,
          68.1,
          68.1,
          67.3,
          67,
          66.9,
          66.5,
          66.3,
          65.4,
          65.2,
          64.9,
          64.6,
          64.6,
          64.6,
          64.4,
          64.3,
          64.3,
          64.2,
          64,
          63.8,
          63.6,
          63.4,
          63.3,
          63.3,
          62.6,
          62.6,
          62.3,
          62.1,
          61.7,
          61,
          60.9,
          60.4,
          60.3,
          60.2,
          59.8,
          59,
          58.6,
          57.7,
          55.9,
          55.9,
          55.9,
          53.8,
          53.7,
          53,
          52.8,
          52.8,
          52.7,
          52.1,
          51.7,
          51,
          50.6
         ],
         "xaxis": "x",
         "y": [
          0,
          24935,
          16,
          1,
          51,
          16,
          1269,
          140,
          89,
          134005,
          9566,
          27980,
          346928,
          7,
          17253,
          12180,
          18572,
          3899,
          1,
          370,
          13,
          9893,
          689,
          22409,
          782,
          496,
          11419,
          3190,
          3902,
          0,
          628,
          3312,
          18211,
          3242,
          173,
          309795,
          4214,
          2677,
          3035,
          789,
          1238,
          2144,
          48,
          6,
          838,
          21,
          143,
          9483,
          317,
          16102,
          2031,
          380,
          28573,
          1926,
          5742,
          1949,
          12498,
          2113,
          2438,
          219978,
          8,
          217,
          2822,
          1001,
          9,
          1939,
          2053,
          65692,
          46231,
          59142,
          1,
          39,
          3,
          2723,
          703,
          2523,
          29,
          6,
          977,
          6929,
          19114,
          522,
          2201,
          22220,
          825,
          584,
          34,
          19873,
          328,
          98,
          3893,
          3411,
          18,
          162,
          496620,
          3690,
          72330,
          10752,
          597,
          442,
          14643,
          1883,
          3408,
          17,
          41,
          228,
          8768,
          45,
          1140,
          92133,
          1132,
          3528,
          15196,
          9690,
          6359,
          3455,
          387,
          5962,
          815312,
          1315,
          2725,
          4127,
          14173,
          50834,
          7189,
          1277,
          72160,
          18415,
          3726,
          424,
          35856,
          7986,
          1,
          1,
          12430,
          1209,
          1055,
          8068,
          16596,
          33,
          2448,
          18360,
          3611,
          276,
          347,
          6639,
          17050,
          6,
          313,
          15255,
          7617,
          17069,
          45745,
          3135,
          8068,
          2242,
          6189,
          280,
          17445,
          13296,
          66607,
          21946,
          20340,
          2535,
          126155,
          6216,
          1080,
          2338,
          21627,
          36744,
          35,
          5980,
          22303,
          44814,
          23531,
          1208,
          1980,
          4313
         ],
         "yaxis": "y"
        }
       ],
       "layout": {
        "legend": {
         "tracegroupgap": 0
        },
        "margin": {
         "t": 60
        },
        "template": {
         "data": {
          "bar": [
           {
            "error_x": {
             "color": "#2a3f5f"
            },
            "error_y": {
             "color": "#2a3f5f"
            },
            "marker": {
             "line": {
              "color": "#E5ECF6",
              "width": 0.5
             }
            },
            "type": "bar"
           }
          ],
          "barpolar": [
           {
            "marker": {
             "line": {
              "color": "#E5ECF6",
              "width": 0.5
             }
            },
            "type": "barpolar"
           }
          ],
          "carpet": [
           {
            "aaxis": {
             "endlinecolor": "#2a3f5f",
             "gridcolor": "white",
             "linecolor": "white",
             "minorgridcolor": "white",
             "startlinecolor": "#2a3f5f"
            },
            "baxis": {
             "endlinecolor": "#2a3f5f",
             "gridcolor": "white",
             "linecolor": "white",
             "minorgridcolor": "white",
             "startlinecolor": "#2a3f5f"
            },
            "type": "carpet"
           }
          ],
          "choropleth": [
           {
            "colorbar": {
             "outlinewidth": 0,
             "ticks": ""
            },
            "type": "choropleth"
           }
          ],
          "contour": [
           {
            "colorbar": {
             "outlinewidth": 0,
             "ticks": ""
            },
            "colorscale": [
             [
              0,
              "#0d0887"
             ],
             [
              0.1111111111111111,
              "#46039f"
             ],
             [
              0.2222222222222222,
              "#7201a8"
             ],
             [
              0.3333333333333333,
              "#9c179e"
             ],
             [
              0.4444444444444444,
              "#bd3786"
             ],
             [
              0.5555555555555556,
              "#d8576b"
             ],
             [
              0.6666666666666666,
              "#ed7953"
             ],
             [
              0.7777777777777778,
              "#fb9f3a"
             ],
             [
              0.8888888888888888,
              "#fdca26"
             ],
             [
              1,
              "#f0f921"
             ]
            ],
            "type": "contour"
           }
          ],
          "contourcarpet": [
           {
            "colorbar": {
             "outlinewidth": 0,
             "ticks": ""
            },
            "type": "contourcarpet"
           }
          ],
          "heatmap": [
           {
            "colorbar": {
             "outlinewidth": 0,
             "ticks": ""
            },
            "colorscale": [
             [
              0,
              "#0d0887"
             ],
             [
              0.1111111111111111,
              "#46039f"
             ],
             [
              0.2222222222222222,
              "#7201a8"
             ],
             [
              0.3333333333333333,
              "#9c179e"
             ],
             [
              0.4444444444444444,
              "#bd3786"
             ],
             [
              0.5555555555555556,
              "#d8576b"
             ],
             [
              0.6666666666666666,
              "#ed7953"
             ],
             [
              0.7777777777777778,
              "#fb9f3a"
             ],
             [
              0.8888888888888888,
              "#fdca26"
             ],
             [
              1,
              "#f0f921"
             ]
            ],
            "type": "heatmap"
           }
          ],
          "heatmapgl": [
           {
            "colorbar": {
             "outlinewidth": 0,
             "ticks": ""
            },
            "colorscale": [
             [
              0,
              "#0d0887"
             ],
             [
              0.1111111111111111,
              "#46039f"
             ],
             [
              0.2222222222222222,
              "#7201a8"
             ],
             [
              0.3333333333333333,
              "#9c179e"
             ],
             [
              0.4444444444444444,
              "#bd3786"
             ],
             [
              0.5555555555555556,
              "#d8576b"
             ],
             [
              0.6666666666666666,
              "#ed7953"
             ],
             [
              0.7777777777777778,
              "#fb9f3a"
             ],
             [
              0.8888888888888888,
              "#fdca26"
             ],
             [
              1,
              "#f0f921"
             ]
            ],
            "type": "heatmapgl"
           }
          ],
          "histogram": [
           {
            "marker": {
             "colorbar": {
              "outlinewidth": 0,
              "ticks": ""
             }
            },
            "type": "histogram"
           }
          ],
          "histogram2d": [
           {
            "colorbar": {
             "outlinewidth": 0,
             "ticks": ""
            },
            "colorscale": [
             [
              0,
              "#0d0887"
             ],
             [
              0.1111111111111111,
              "#46039f"
             ],
             [
              0.2222222222222222,
              "#7201a8"
             ],
             [
              0.3333333333333333,
              "#9c179e"
             ],
             [
              0.4444444444444444,
              "#bd3786"
             ],
             [
              0.5555555555555556,
              "#d8576b"
             ],
             [
              0.6666666666666666,
              "#ed7953"
             ],
             [
              0.7777777777777778,
              "#fb9f3a"
             ],
             [
              0.8888888888888888,
              "#fdca26"
             ],
             [
              1,
              "#f0f921"
             ]
            ],
            "type": "histogram2d"
           }
          ],
          "histogram2dcontour": [
           {
            "colorbar": {
             "outlinewidth": 0,
             "ticks": ""
            },
            "colorscale": [
             [
              0,
              "#0d0887"
             ],
             [
              0.1111111111111111,
              "#46039f"
             ],
             [
              0.2222222222222222,
              "#7201a8"
             ],
             [
              0.3333333333333333,
              "#9c179e"
             ],
             [
              0.4444444444444444,
              "#bd3786"
             ],
             [
              0.5555555555555556,
              "#d8576b"
             ],
             [
              0.6666666666666666,
              "#ed7953"
             ],
             [
              0.7777777777777778,
              "#fb9f3a"
             ],
             [
              0.8888888888888888,
              "#fdca26"
             ],
             [
              1,
              "#f0f921"
             ]
            ],
            "type": "histogram2dcontour"
           }
          ],
          "mesh3d": [
           {
            "colorbar": {
             "outlinewidth": 0,
             "ticks": ""
            },
            "type": "mesh3d"
           }
          ],
          "parcoords": [
           {
            "line": {
             "colorbar": {
              "outlinewidth": 0,
              "ticks": ""
             }
            },
            "type": "parcoords"
           }
          ],
          "pie": [
           {
            "automargin": true,
            "type": "pie"
           }
          ],
          "scatter": [
           {
            "marker": {
             "colorbar": {
              "outlinewidth": 0,
              "ticks": ""
             }
            },
            "type": "scatter"
           }
          ],
          "scatter3d": [
           {
            "line": {
             "colorbar": {
              "outlinewidth": 0,
              "ticks": ""
             }
            },
            "marker": {
             "colorbar": {
              "outlinewidth": 0,
              "ticks": ""
             }
            },
            "type": "scatter3d"
           }
          ],
          "scattercarpet": [
           {
            "marker": {
             "colorbar": {
              "outlinewidth": 0,
              "ticks": ""
             }
            },
            "type": "scattercarpet"
           }
          ],
          "scattergeo": [
           {
            "marker": {
             "colorbar": {
              "outlinewidth": 0,
              "ticks": ""
             }
            },
            "type": "scattergeo"
           }
          ],
          "scattergl": [
           {
            "marker": {
             "colorbar": {
              "outlinewidth": 0,
              "ticks": ""
             }
            },
            "type": "scattergl"
           }
          ],
          "scattermapbox": [
           {
            "marker": {
             "colorbar": {
              "outlinewidth": 0,
              "ticks": ""
             }
            },
            "type": "scattermapbox"
           }
          ],
          "scatterpolar": [
           {
            "marker": {
             "colorbar": {
              "outlinewidth": 0,
              "ticks": ""
             }
            },
            "type": "scatterpolar"
           }
          ],
          "scatterpolargl": [
           {
            "marker": {
             "colorbar": {
              "outlinewidth": 0,
              "ticks": ""
             }
            },
            "type": "scatterpolargl"
           }
          ],
          "scatterternary": [
           {
            "marker": {
             "colorbar": {
              "outlinewidth": 0,
              "ticks": ""
             }
            },
            "type": "scatterternary"
           }
          ],
          "surface": [
           {
            "colorbar": {
             "outlinewidth": 0,
             "ticks": ""
            },
            "colorscale": [
             [
              0,
              "#0d0887"
             ],
             [
              0.1111111111111111,
              "#46039f"
             ],
             [
              0.2222222222222222,
              "#7201a8"
             ],
             [
              0.3333333333333333,
              "#9c179e"
             ],
             [
              0.4444444444444444,
              "#bd3786"
             ],
             [
              0.5555555555555556,
              "#d8576b"
             ],
             [
              0.6666666666666666,
              "#ed7953"
             ],
             [
              0.7777777777777778,
              "#fb9f3a"
             ],
             [
              0.8888888888888888,
              "#fdca26"
             ],
             [
              1,
              "#f0f921"
             ]
            ],
            "type": "surface"
           }
          ],
          "table": [
           {
            "cells": {
             "fill": {
              "color": "#EBF0F8"
             },
             "line": {
              "color": "white"
             }
            },
            "header": {
             "fill": {
              "color": "#C8D4E3"
             },
             "line": {
              "color": "white"
             }
            },
            "type": "table"
           }
          ]
         },
         "layout": {
          "annotationdefaults": {
           "arrowcolor": "#2a3f5f",
           "arrowhead": 0,
           "arrowwidth": 1
          },
          "coloraxis": {
           "colorbar": {
            "outlinewidth": 0,
            "ticks": ""
           }
          },
          "colorscale": {
           "diverging": [
            [
             0,
             "#8e0152"
            ],
            [
             0.1,
             "#c51b7d"
            ],
            [
             0.2,
             "#de77ae"
            ],
            [
             0.3,
             "#f1b6da"
            ],
            [
             0.4,
             "#fde0ef"
            ],
            [
             0.5,
             "#f7f7f7"
            ],
            [
             0.6,
             "#e6f5d0"
            ],
            [
             0.7,
             "#b8e186"
            ],
            [
             0.8,
             "#7fbc41"
            ],
            [
             0.9,
             "#4d9221"
            ],
            [
             1,
             "#276419"
            ]
           ],
           "sequential": [
            [
             0,
             "#0d0887"
            ],
            [
             0.1111111111111111,
             "#46039f"
            ],
            [
             0.2222222222222222,
             "#7201a8"
            ],
            [
             0.3333333333333333,
             "#9c179e"
            ],
            [
             0.4444444444444444,
             "#bd3786"
            ],
            [
             0.5555555555555556,
             "#d8576b"
            ],
            [
             0.6666666666666666,
             "#ed7953"
            ],
            [
             0.7777777777777778,
             "#fb9f3a"
            ],
            [
             0.8888888888888888,
             "#fdca26"
            ],
            [
             1,
             "#f0f921"
            ]
           ],
           "sequentialminus": [
            [
             0,
             "#0d0887"
            ],
            [
             0.1111111111111111,
             "#46039f"
            ],
            [
             0.2222222222222222,
             "#7201a8"
            ],
            [
             0.3333333333333333,
             "#9c179e"
            ],
            [
             0.4444444444444444,
             "#bd3786"
            ],
            [
             0.5555555555555556,
             "#d8576b"
            ],
            [
             0.6666666666666666,
             "#ed7953"
            ],
            [
             0.7777777777777778,
             "#fb9f3a"
            ],
            [
             0.8888888888888888,
             "#fdca26"
            ],
            [
             1,
             "#f0f921"
            ]
           ]
          },
          "colorway": [
           "#636efa",
           "#EF553B",
           "#00cc96",
           "#ab63fa",
           "#FFA15A",
           "#19d3f3",
           "#FF6692",
           "#B6E880",
           "#FF97FF",
           "#FECB52"
          ],
          "font": {
           "color": "#2a3f5f"
          },
          "geo": {
           "bgcolor": "white",
           "lakecolor": "white",
           "landcolor": "#E5ECF6",
           "showlakes": true,
           "showland": true,
           "subunitcolor": "white"
          },
          "hoverlabel": {
           "align": "left"
          },
          "hovermode": "closest",
          "mapbox": {
           "style": "light"
          },
          "paper_bgcolor": "white",
          "plot_bgcolor": "#E5ECF6",
          "polar": {
           "angularaxis": {
            "gridcolor": "white",
            "linecolor": "white",
            "ticks": ""
           },
           "bgcolor": "#E5ECF6",
           "radialaxis": {
            "gridcolor": "white",
            "linecolor": "white",
            "ticks": ""
           }
          },
          "scene": {
           "xaxis": {
            "backgroundcolor": "#E5ECF6",
            "gridcolor": "white",
            "gridwidth": 2,
            "linecolor": "white",
            "showbackground": true,
            "ticks": "",
            "zerolinecolor": "white"
           },
           "yaxis": {
            "backgroundcolor": "#E5ECF6",
            "gridcolor": "white",
            "gridwidth": 2,
            "linecolor": "white",
            "showbackground": true,
            "ticks": "",
            "zerolinecolor": "white"
           },
           "zaxis": {
            "backgroundcolor": "#E5ECF6",
            "gridcolor": "white",
            "gridwidth": 2,
            "linecolor": "white",
            "showbackground": true,
            "ticks": "",
            "zerolinecolor": "white"
           }
          },
          "shapedefaults": {
           "line": {
            "color": "#2a3f5f"
           }
          },
          "ternary": {
           "aaxis": {
            "gridcolor": "white",
            "linecolor": "white",
            "ticks": ""
           },
           "baxis": {
            "gridcolor": "white",
            "linecolor": "white",
            "ticks": ""
           },
           "bgcolor": "#E5ECF6",
           "caxis": {
            "gridcolor": "white",
            "linecolor": "white",
            "ticks": ""
           }
          },
          "title": {
           "x": 0.05
          },
          "xaxis": {
           "automargin": true,
           "gridcolor": "white",
           "linecolor": "white",
           "ticks": "",
           "title": {
            "standoff": 15
           },
           "zerolinecolor": "white",
           "zerolinewidth": 2
          },
          "yaxis": {
           "automargin": true,
           "gridcolor": "white",
           "linecolor": "white",
           "ticks": "",
           "title": {
            "standoff": 15
           },
           "zerolinecolor": "white",
           "zerolinewidth": 2
          }
         }
        },
        "xaxis": {
         "anchor": "y",
         "domain": [
          0,
          1
         ],
         "title": {
          "text": "Average"
         }
        },
        "yaxis": {
         "anchor": "x",
         "domain": [
          0,
          1
         ],
         "title": {
          "text": "Forest area (1000 ha)"
         }
        }
       }
      },
      "text/html": [
       "<div>\n",
       "        \n",
       "        \n",
       "            <div id=\"20ef3567-2dbd-4368-9087-e7eabb385322\" class=\"plotly-graph-div\" style=\"height:525px; width:100%;\"></div>\n",
       "            <script type=\"text/javascript\">\n",
       "                require([\"plotly\"], function(Plotly) {\n",
       "                    window.PLOTLYENV=window.PLOTLYENV || {};\n",
       "                    \n",
       "                if (document.getElementById(\"20ef3567-2dbd-4368-9087-e7eabb385322\")) {\n",
       "                    Plotly.newPlot(\n",
       "                        '20ef3567-2dbd-4368-9087-e7eabb385322',\n",
       "                        [{\"customdata\": [[\"Monaco\", 1], [\"Japan\", 2], [\"Singapore\", 3], [\"San Marino\", 5], [\"Iceland\", 6], [\"Andorra\", 8], [\"Switzerland\", 10], [\"Israel\", 11], [\"Luxembourg\", 13], [\"Australia\", 14], [\"Italy\", 15], [\"Sweden\", 16], [\"Canada\", 17], [\"Liechtenstein\", 19], [\"France\", 20], [\"Norway\", 21], [\"Spain\", 22], [\"Austria\", 23], [\"Bermuda\", 25], [\"Netherlands\", 26], [\"Cayman Islands\", 27], [\"New Zealand\", 29], [\"Belgium\", 30], [\"Finland\", 31], [\"Ireland\", 32], [\"Puerto Rico\", 33], [\"Germany\", 34], [\"United Kingdom\", 35], [\"Greece\", 36], [\"Qatar\", 43], [\"Denmark\", 47], [\"Portugal\", 48], [\"Chile\", 51], [\"Cuba\", 52], [\"Cyprus\", 53], [\"United States\", 54], [\"Panama\", 56], [\"Czech Republic\", 57], [\"Costa Rica\", 58], [\"Albania\", 59], [\"Slovenia\", 61], [\"Dominican Republic\", 62], [\"Dominican Republic\", 76], [\"Kuwait\", 64], [\"New Caledonia\", 65], [\"St. Lucia\", 66], [\"Lebanon\", 67], [\"Poland\", 68], [\"United Arab Emirates\", 69], [\"Paraguay\", 71], [\"Uruguay\", 72], [\"Brunei Darussalam\", 73], [\"Argentina\", 74], [\"Slovak Republic\", 75], [\"Morocco\", 77], [\"Algeria\", 78], [\"Ecuador\", 79], [\"Sri Lanka\", 81], [\"Estonia\", 83], [\"China\", 84], [\"Antigua and Barbuda\", 85], [\"Libya\", 86], [\"Georgia\", 87], [\"North Macedonia\", 88], [\"Tonga\", 89], [\"Croatia\", 90], [\"Hungary\", 91], [\"Mexico\", 92], [\"Venezuela, RB\", 93], [\"Colombia\", 96], [\"Maldives\", 98], [\"Mauritius\", 99], [\"Oman\", 100], [\"Serbia\", 101], [\"Tunisia\", 102], [\"Solomon Islands\", 103], [\"St. Vincent and the Grenadines\", 104], [\"Barbados\", 105], [\"Saudi Arabia\", 106], [\"Romania\", 108], [\"Malaysia\", 109], [\"Syrian Arab Republic\", 111], [\"Lithuania\", 112], [\"Turkey\", 113], [\"Iraq\", 114], [\"El Salvador\", 115], [\"Seychelles\", 116], [\"Thailand\", 117], [\"Armenia\", 118], [\"Jordan\", 119], [\"Bulgaria\", 120], [\"Latvia\", 121], [\"Grenada\", 123], [\"Samoa\", 125], [\"Brazil\", 126], [\"Uzbekistan\", 127], [\"Peru\", 128], [\"Iran, Islamic Rep.\", 129], [\"Jamaica\", 130], [\"Vanuatu\", 131], [\"Vietnam\", 132], [\"Bangladesh\", 133], [\"Nicaragua\", 134], [\"American Samoa\", 135], [\"Palau\", 137], [\"Trinidad and Tobago\", 139], [\"Belarus\", 140], [\"Egypt, Arab Rep.\", 141], [\"Fiji\", 142], [\"Indonesia\", 143], [\"Azerbaijan\", 144], [\"Guatemala\", 147], [\"Suriname\", 148], [\"Ukraine\", 150], [\"Honduras\", 151], [\"Kazakhstan\", 152], [\"Moldova\", 153], [\"Nepal\", 154], [\"Russian Federation\", 155], [\"Kyrgyz Republic\", 156], [\"Bhutan\", 158], [\"Turkmenistan\", 159], [\"Mongolia\", 160], [\"Bolivia\", 161], [\"Philippines\", 162], [\"Belize\", 163], [\"India\", 164], [\"Guyana\", 165], [\"Pakistan\", 168], [\"Tajikistan\", 169], [\"Papua New Guinea\", 171], [\"Ghana\", 172], [\"Tuvalu\", 173], [\"Kiribati\", 174], [\"Madagascar\", 175], [\"Togo\", 177], [\"Eritrea\", 179], [\"Cambodia\", 181], [\"Lao PDR\", 182], [\"Comoros\", 183], [\"Equatorial Guinea\", 184], [\"Sudan\", 185], [\"Kenya\", 186], [\"Rwanda\", 187], [\"Haiti\", 188], [\"Namibia\", 189], [\"South Africa\", 190], [\"Djibouti\", 191], [\"Mauritania\", 193], [\"Botswana\", 194], [\"Liberia\", 195], [\"Ethiopia\", 196], [\"Tanzania\", 197], [\"Benin\", 198], [\"Senegal\", 199], [\"Malawi\", 200], [\"Guinea\", 201], [\"Burundi\", 202], [\"Zimbabwe\", 203], [\"Mali\", 204], [\"Angola\", 205], [\"Congo, Rep.\", 206], [\"Cameroon\", 208], [\"Sierra Leone\", 209], [\"Congo, Dem. Rep.\", 210], [\"Burkina Faso\", 211], [\"Niger\", 212], [\"Uganda\", 213], [\"Nigeria\", 214], [\"Mozambique\", 215], [\"Lesotho\", 216], [\"Somalia\", 217], [\"Central African Republic\", 218], [\"Zambia\", 219], [\"Gabon\", 220], [\"Afghanistan\", 222], [\"Guinea-Bissau\", 223], [\"Chad\", 224]], \"hovertemplate\": \"Average=%{x}<br>Forest area (1000 ha)=%{y}<br>Country Name=%{customdata[0]}<br>Rank=%{customdata[1]}<extra></extra>\", \"legendgroup\": \"\", \"marker\": {\"color\": \"#636efa\", \"symbol\": \"circle\"}, \"mode\": \"markers\", \"name\": \"\", \"orientation\": \"v\", \"showlegend\": false, \"type\": \"scatter\", \"x\": [89.4, 85.3, 85.2, 83.3, 83.1, 82.9, 82.6, 82.5, 82.3, 82.3, 82.3, 82.1, 81.9, 81.9, 81.9, 81.9, 81.8, 81.6, 81.4, 81.4, 81.3, 81.3, 81.1, 81.0, 80.9, 80.9, 80.8, 80.8, 80.7, 80.0, 79.5, 79.4, 78.9, 78.8, 78.8, 78.8, 78.8, 78.8, 78.7, 78.5, 78.3, 78.3, 77.2, 78.2, 77.9, 77.9, 77.8, 77.8, 77.7, 77.4, 77.4, 77.3, 77.3, 77.3, 77.1, 77.0, 77.0, 76.9, 76.9, 76.7, 76.7, 76.7, 76.4, 76.4, 76.4, 76.1, 76.1, 76.1, 76.0, 75.9, 75.8, 75.8, 75.7, 75.7, 75.7, 75.6, 73.5, 75.5, 75.5, 75.4, 75.2, 75.1, 75.0, 75.0, 74.9, 74.9, 74.9, 74.9, 74.9, 74.8, 74.7, 74.7, 74.5, 74.0, 74.0, 74.0, 74.0, 74.0, 73.7, 73.7, 73.7, 73.4, 73.4, 73.4, 73.4, 73.1, 73.0, 73.0, 73.0, 73.0, 72.8, 72.6, 72.5, 72.1, 71.2, 71.1, 71.0, 71.0, 71.0, 70.9, 70.6, 70.4, 69.9, 69.5, 69.4, 68.9, 68.8, 68.6, 68.1, 68.1, 67.3, 67.0, 66.9, 66.5, 66.3, 65.4, 65.2, 64.9, 64.6, 64.6, 64.6, 64.4, 64.3, 64.3, 64.2, 64.0, 63.8, 63.6, 63.4, 63.3, 63.3, 62.6, 62.6, 62.3, 62.1, 61.7, 61.0, 60.9, 60.4, 60.3, 60.2, 59.8, 59.0, 58.6, 57.7, 55.9, 55.9, 55.9, 53.8, 53.7, 53.0, 52.8, 52.8, 52.7, 52.1, 51.7, 51.0, 50.6], \"xaxis\": \"x\", \"y\": [0.0, 24935.0, 16.0, 1.0, 51.0, 16.0, 1269.0, 140.0, 89.0, 134005.0, 9566.0, 27980.0, 346928.0, 7.0, 17253.0, 12180.0, 18572.0, 3899.0, 1.0, 370.0, 13.0, 9893.0, 689.0, 22409.0, 782.0, 496.0, 11419.0, 3190.0, 3902.0, 0.0, 628.0, 3312.0, 18211.0, 3242.0, 173.0, 309795.0, 4214.0, 2677.0, 3035.0, 789.0, 1238.0, 2144.0, 48.0, 6.0, 838.0, 21.0, 143.0, 9483.0, 317.0, 16102.0, 2031.0, 380.0, 28573.0, 1926.0, 5742.0, 1949.0, 12498.0, 2113.0, 2438.0, 219978.0, 8.0, 217.0, 2822.0, 1001.0, 9.0, 1939.0, 2053.0, 65692.0, 46231.0, 59142.0, 1.0, 39.0, 3.0, 2723.0, 703.0, 2523.0, 29.0, 6.0, 977.0, 6929.0, 19114.0, 522.0, 2201.0, 22220.0, 825.0, 584.0, 34.0, 19873.0, 328.0, 98.0, 3893.0, 3411.0, 18.0, 162.0, 496620.0, 3690.0, 72330.0, 10752.0, 597.0, 442.0, 14643.0, 1883.0, 3408.0, 17.0, 41.0, 228.0, 8768.0, 45.0, 1140.0, 92133.0, 1132.0, 3528.0, 15196.0, 9690.0, 6359.0, 3455.0, 387.0, 5962.0, 815312.0, 1315.0, 2725.0, 4127.0, 14173.0, 50834.0, 7189.0, 1277.0, 72160.0, 18415.0, 3726.0, 424.0, 35856.0, 7986.0, 1.0, 1.0, 12430.0, 1209.0, 1055.0, 8068.0, 16596.0, 33.0, 2448.0, 18360.0, 3611.0, 276.0, 347.0, 6639.0, 17050.0, 6.0, 313.0, 15255.0, 7617.0, 17069.0, 45745.0, 3135.0, 8068.0, 2242.0, 6189.0, 280.0, 17445.0, 13296.0, 66607.0, 21946.0, 20340.0, 2535.0, 126155.0, 6216.0, 1080.0, 2338.0, 21627.0, 36744.0, 35.0, 5980.0, 22303.0, 44814.0, 23531.0, 1208.0, 1980.0, 4313.0], \"yaxis\": \"y\"}],\n",
       "                        {\"legend\": {\"tracegroupgap\": 0}, \"margin\": {\"t\": 60}, \"template\": {\"data\": {\"bar\": [{\"error_x\": {\"color\": \"#2a3f5f\"}, \"error_y\": {\"color\": \"#2a3f5f\"}, \"marker\": {\"line\": {\"color\": \"#E5ECF6\", \"width\": 0.5}}, \"type\": \"bar\"}], \"barpolar\": [{\"marker\": {\"line\": {\"color\": \"#E5ECF6\", \"width\": 0.5}}, \"type\": \"barpolar\"}], \"carpet\": [{\"aaxis\": {\"endlinecolor\": \"#2a3f5f\", \"gridcolor\": \"white\", \"linecolor\": \"white\", \"minorgridcolor\": \"white\", \"startlinecolor\": \"#2a3f5f\"}, \"baxis\": {\"endlinecolor\": \"#2a3f5f\", \"gridcolor\": \"white\", \"linecolor\": \"white\", \"minorgridcolor\": \"white\", \"startlinecolor\": \"#2a3f5f\"}, \"type\": \"carpet\"}], \"choropleth\": [{\"colorbar\": {\"outlinewidth\": 0, \"ticks\": \"\"}, \"type\": \"choropleth\"}], \"contour\": [{\"colorbar\": {\"outlinewidth\": 0, \"ticks\": \"\"}, \"colorscale\": [[0.0, \"#0d0887\"], [0.1111111111111111, \"#46039f\"], [0.2222222222222222, \"#7201a8\"], [0.3333333333333333, \"#9c179e\"], [0.4444444444444444, \"#bd3786\"], [0.5555555555555556, \"#d8576b\"], [0.6666666666666666, \"#ed7953\"], [0.7777777777777778, \"#fb9f3a\"], [0.8888888888888888, \"#fdca26\"], [1.0, \"#f0f921\"]], \"type\": \"contour\"}], \"contourcarpet\": [{\"colorbar\": {\"outlinewidth\": 0, \"ticks\": \"\"}, \"type\": \"contourcarpet\"}], \"heatmap\": [{\"colorbar\": {\"outlinewidth\": 0, \"ticks\": \"\"}, \"colorscale\": [[0.0, \"#0d0887\"], [0.1111111111111111, \"#46039f\"], [0.2222222222222222, \"#7201a8\"], [0.3333333333333333, \"#9c179e\"], [0.4444444444444444, \"#bd3786\"], [0.5555555555555556, \"#d8576b\"], [0.6666666666666666, \"#ed7953\"], [0.7777777777777778, \"#fb9f3a\"], [0.8888888888888888, \"#fdca26\"], [1.0, \"#f0f921\"]], \"type\": \"heatmap\"}], \"heatmapgl\": [{\"colorbar\": {\"outlinewidth\": 0, \"ticks\": \"\"}, \"colorscale\": [[0.0, \"#0d0887\"], [0.1111111111111111, \"#46039f\"], [0.2222222222222222, \"#7201a8\"], [0.3333333333333333, \"#9c179e\"], [0.4444444444444444, \"#bd3786\"], [0.5555555555555556, \"#d8576b\"], [0.6666666666666666, \"#ed7953\"], [0.7777777777777778, \"#fb9f3a\"], [0.8888888888888888, \"#fdca26\"], [1.0, \"#f0f921\"]], \"type\": \"heatmapgl\"}], \"histogram\": [{\"marker\": {\"colorbar\": {\"outlinewidth\": 0, \"ticks\": \"\"}}, \"type\": \"histogram\"}], \"histogram2d\": [{\"colorbar\": {\"outlinewidth\": 0, \"ticks\": \"\"}, \"colorscale\": [[0.0, \"#0d0887\"], [0.1111111111111111, \"#46039f\"], [0.2222222222222222, \"#7201a8\"], [0.3333333333333333, \"#9c179e\"], [0.4444444444444444, \"#bd3786\"], [0.5555555555555556, \"#d8576b\"], [0.6666666666666666, \"#ed7953\"], [0.7777777777777778, \"#fb9f3a\"], [0.8888888888888888, \"#fdca26\"], [1.0, \"#f0f921\"]], \"type\": \"histogram2d\"}], \"histogram2dcontour\": [{\"colorbar\": {\"outlinewidth\": 0, \"ticks\": \"\"}, \"colorscale\": [[0.0, \"#0d0887\"], [0.1111111111111111, \"#46039f\"], [0.2222222222222222, \"#7201a8\"], [0.3333333333333333, \"#9c179e\"], [0.4444444444444444, \"#bd3786\"], [0.5555555555555556, \"#d8576b\"], [0.6666666666666666, \"#ed7953\"], [0.7777777777777778, \"#fb9f3a\"], [0.8888888888888888, \"#fdca26\"], [1.0, \"#f0f921\"]], \"type\": \"histogram2dcontour\"}], \"mesh3d\": [{\"colorbar\": {\"outlinewidth\": 0, \"ticks\": \"\"}, \"type\": \"mesh3d\"}], \"parcoords\": [{\"line\": {\"colorbar\": {\"outlinewidth\": 0, \"ticks\": \"\"}}, \"type\": \"parcoords\"}], \"pie\": [{\"automargin\": true, \"type\": \"pie\"}], \"scatter\": [{\"marker\": {\"colorbar\": {\"outlinewidth\": 0, \"ticks\": \"\"}}, \"type\": \"scatter\"}], \"scatter3d\": [{\"line\": {\"colorbar\": {\"outlinewidth\": 0, \"ticks\": \"\"}}, \"marker\": {\"colorbar\": {\"outlinewidth\": 0, \"ticks\": \"\"}}, \"type\": \"scatter3d\"}], \"scattercarpet\": [{\"marker\": {\"colorbar\": {\"outlinewidth\": 0, \"ticks\": \"\"}}, \"type\": \"scattercarpet\"}], \"scattergeo\": [{\"marker\": {\"colorbar\": {\"outlinewidth\": 0, \"ticks\": \"\"}}, \"type\": \"scattergeo\"}], \"scattergl\": [{\"marker\": {\"colorbar\": {\"outlinewidth\": 0, \"ticks\": \"\"}}, \"type\": \"scattergl\"}], \"scattermapbox\": [{\"marker\": {\"colorbar\": {\"outlinewidth\": 0, \"ticks\": \"\"}}, \"type\": \"scattermapbox\"}], \"scatterpolar\": [{\"marker\": {\"colorbar\": {\"outlinewidth\": 0, \"ticks\": \"\"}}, \"type\": \"scatterpolar\"}], \"scatterpolargl\": [{\"marker\": {\"colorbar\": {\"outlinewidth\": 0, \"ticks\": \"\"}}, \"type\": \"scatterpolargl\"}], \"scatterternary\": [{\"marker\": {\"colorbar\": {\"outlinewidth\": 0, \"ticks\": \"\"}}, \"type\": \"scatterternary\"}], \"surface\": [{\"colorbar\": {\"outlinewidth\": 0, \"ticks\": \"\"}, \"colorscale\": [[0.0, \"#0d0887\"], [0.1111111111111111, \"#46039f\"], [0.2222222222222222, \"#7201a8\"], [0.3333333333333333, \"#9c179e\"], [0.4444444444444444, \"#bd3786\"], [0.5555555555555556, \"#d8576b\"], [0.6666666666666666, \"#ed7953\"], [0.7777777777777778, \"#fb9f3a\"], [0.8888888888888888, \"#fdca26\"], [1.0, \"#f0f921\"]], \"type\": \"surface\"}], \"table\": [{\"cells\": {\"fill\": {\"color\": \"#EBF0F8\"}, \"line\": {\"color\": \"white\"}}, \"header\": {\"fill\": {\"color\": \"#C8D4E3\"}, \"line\": {\"color\": \"white\"}}, \"type\": \"table\"}]}, \"layout\": {\"annotationdefaults\": {\"arrowcolor\": \"#2a3f5f\", \"arrowhead\": 0, \"arrowwidth\": 1}, \"coloraxis\": {\"colorbar\": {\"outlinewidth\": 0, \"ticks\": \"\"}}, \"colorscale\": {\"diverging\": [[0, \"#8e0152\"], [0.1, \"#c51b7d\"], [0.2, \"#de77ae\"], [0.3, \"#f1b6da\"], [0.4, \"#fde0ef\"], [0.5, \"#f7f7f7\"], [0.6, \"#e6f5d0\"], [0.7, \"#b8e186\"], [0.8, \"#7fbc41\"], [0.9, \"#4d9221\"], [1, \"#276419\"]], \"sequential\": [[0.0, \"#0d0887\"], [0.1111111111111111, \"#46039f\"], [0.2222222222222222, \"#7201a8\"], [0.3333333333333333, \"#9c179e\"], [0.4444444444444444, \"#bd3786\"], [0.5555555555555556, \"#d8576b\"], [0.6666666666666666, \"#ed7953\"], [0.7777777777777778, \"#fb9f3a\"], [0.8888888888888888, \"#fdca26\"], [1.0, \"#f0f921\"]], \"sequentialminus\": [[0.0, \"#0d0887\"], [0.1111111111111111, \"#46039f\"], [0.2222222222222222, \"#7201a8\"], [0.3333333333333333, \"#9c179e\"], [0.4444444444444444, \"#bd3786\"], [0.5555555555555556, \"#d8576b\"], [0.6666666666666666, \"#ed7953\"], [0.7777777777777778, \"#fb9f3a\"], [0.8888888888888888, \"#fdca26\"], [1.0, \"#f0f921\"]]}, \"colorway\": [\"#636efa\", \"#EF553B\", \"#00cc96\", \"#ab63fa\", \"#FFA15A\", \"#19d3f3\", \"#FF6692\", \"#B6E880\", \"#FF97FF\", \"#FECB52\"], \"font\": {\"color\": \"#2a3f5f\"}, \"geo\": {\"bgcolor\": \"white\", \"lakecolor\": \"white\", \"landcolor\": \"#E5ECF6\", \"showlakes\": true, \"showland\": true, \"subunitcolor\": \"white\"}, \"hoverlabel\": {\"align\": \"left\"}, \"hovermode\": \"closest\", \"mapbox\": {\"style\": \"light\"}, \"paper_bgcolor\": \"white\", \"plot_bgcolor\": \"#E5ECF6\", \"polar\": {\"angularaxis\": {\"gridcolor\": \"white\", \"linecolor\": \"white\", \"ticks\": \"\"}, \"bgcolor\": \"#E5ECF6\", \"radialaxis\": {\"gridcolor\": \"white\", \"linecolor\": \"white\", \"ticks\": \"\"}}, \"scene\": {\"xaxis\": {\"backgroundcolor\": \"#E5ECF6\", \"gridcolor\": \"white\", \"gridwidth\": 2, \"linecolor\": \"white\", \"showbackground\": true, \"ticks\": \"\", \"zerolinecolor\": \"white\"}, \"yaxis\": {\"backgroundcolor\": \"#E5ECF6\", \"gridcolor\": \"white\", \"gridwidth\": 2, \"linecolor\": \"white\", \"showbackground\": true, \"ticks\": \"\", \"zerolinecolor\": \"white\"}, \"zaxis\": {\"backgroundcolor\": \"#E5ECF6\", \"gridcolor\": \"white\", \"gridwidth\": 2, \"linecolor\": \"white\", \"showbackground\": true, \"ticks\": \"\", \"zerolinecolor\": \"white\"}}, \"shapedefaults\": {\"line\": {\"color\": \"#2a3f5f\"}}, \"ternary\": {\"aaxis\": {\"gridcolor\": \"white\", \"linecolor\": \"white\", \"ticks\": \"\"}, \"baxis\": {\"gridcolor\": \"white\", \"linecolor\": \"white\", \"ticks\": \"\"}, \"bgcolor\": \"#E5ECF6\", \"caxis\": {\"gridcolor\": \"white\", \"linecolor\": \"white\", \"ticks\": \"\"}}, \"title\": {\"x\": 0.05}, \"xaxis\": {\"automargin\": true, \"gridcolor\": \"white\", \"linecolor\": \"white\", \"ticks\": \"\", \"title\": {\"standoff\": 15}, \"zerolinecolor\": \"white\", \"zerolinewidth\": 2}, \"yaxis\": {\"automargin\": true, \"gridcolor\": \"white\", \"linecolor\": \"white\", \"ticks\": \"\", \"title\": {\"standoff\": 15}, \"zerolinecolor\": \"white\", \"zerolinewidth\": 2}}}, \"xaxis\": {\"anchor\": \"y\", \"domain\": [0.0, 1.0], \"title\": {\"text\": \"Average\"}}, \"yaxis\": {\"anchor\": \"x\", \"domain\": [0.0, 1.0], \"title\": {\"text\": \"Forest area (1000 ha)\"}}},\n",
       "                        {\"responsive\": true}\n",
       "                    ).then(function(){\n",
       "                            \n",
       "var gd = document.getElementById('20ef3567-2dbd-4368-9087-e7eabb385322');\n",
       "var x = new MutationObserver(function (mutations, observer) {{\n",
       "        var display = window.getComputedStyle(gd).display;\n",
       "        if (!display || display === 'none') {{\n",
       "            console.log([gd, 'removed!']);\n",
       "            Plotly.purge(gd);\n",
       "            observer.disconnect();\n",
       "        }}\n",
       "}});\n",
       "\n",
       "// Listen for the removal of the full notebook cells\n",
       "var notebookContainer = gd.closest('#notebook-container');\n",
       "if (notebookContainer) {{\n",
       "    x.observe(notebookContainer, {childList: true});\n",
       "}}\n",
       "\n",
       "// Listen for the clearing of the current output cell\n",
       "var outputEl = gd.closest('.output');\n",
       "if (outputEl) {{\n",
       "    x.observe(outputEl, {childList: true});\n",
       "}}\n",
       "\n",
       "                        })\n",
       "                };\n",
       "                });\n",
       "            </script>\n",
       "        </div>"
      ]
     },
     "metadata": {},
     "output_type": "display_data"
    }
   ],
   "source": [
    "#showing life expectancy ratio tree planted\n",
    "fig=px.scatter(df3, x=\"Average\", y=\"Forest area (1000 ha)\", hover_data=[\"Country Name\", \"Rank\"])\n",
    "fig.show()"
   ]
  },
  {
   "cell_type": "code",
   "execution_count": 44,
   "metadata": {},
   "outputs": [
    {
     "data": {
      "application/vnd.plotly.v1+json": {
       "config": {
        "plotlyServerURL": "https://plot.ly"
       },
       "data": [
        {
         "customdata": [
          [
           "Monaco",
           89.4
          ],
          [
           "Japan",
           85.3
          ],
          [
           "Singapore",
           85.2
          ],
          [
           "San Marino",
           83.3
          ],
          [
           "Iceland",
           83.1
          ],
          [
           "Andorra",
           82.9
          ],
          [
           "Switzerland",
           82.6
          ],
          [
           "Israel",
           82.5
          ],
          [
           "Luxembourg",
           82.3
          ],
          [
           "Australia",
           82.3
          ],
          [
           "Italy",
           82.3
          ],
          [
           "Sweden",
           82.1
          ],
          [
           "Canada",
           81.9
          ],
          [
           "Liechtenstein",
           81.9
          ],
          [
           "France",
           81.9
          ],
          [
           "Norway",
           81.9
          ],
          [
           "Spain",
           81.8
          ],
          [
           "Austria",
           81.6
          ],
          [
           "Bermuda",
           81.4
          ],
          [
           "Netherlands",
           81.4
          ],
          [
           "Cayman Islands",
           81.3
          ],
          [
           "New Zealand",
           81.3
          ],
          [
           "Belgium",
           81.1
          ],
          [
           "Finland",
           81
          ],
          [
           "Ireland",
           80.9
          ],
          [
           "Puerto Rico",
           80.9
          ],
          [
           "Germany",
           80.8
          ],
          [
           "United Kingdom",
           80.8
          ],
          [
           "Greece",
           80.7
          ],
          [
           "Qatar",
           80
          ],
          [
           "Denmark",
           79.5
          ],
          [
           "Portugal",
           79.4
          ],
          [
           "Chile",
           78.9
          ],
          [
           "Cuba",
           78.8
          ],
          [
           "Cyprus",
           78.8
          ],
          [
           "United States",
           78.8
          ],
          [
           "Panama",
           78.8
          ],
          [
           "Czech Republic",
           78.8
          ],
          [
           "Costa Rica",
           78.7
          ],
          [
           "Albania",
           78.5
          ],
          [
           "Slovenia",
           78.3
          ],
          [
           "Dominican Republic",
           78.3
          ],
          [
           "Dominican Republic",
           77.2
          ],
          [
           "Kuwait",
           78.2
          ],
          [
           "New Caledonia",
           77.9
          ],
          [
           "St. Lucia",
           77.9
          ],
          [
           "Lebanon",
           77.8
          ],
          [
           "Poland",
           77.8
          ],
          [
           "United Arab Emirates",
           77.7
          ],
          [
           "Paraguay",
           77.4
          ],
          [
           "Uruguay",
           77.4
          ],
          [
           "Brunei Darussalam",
           77.3
          ],
          [
           "Argentina",
           77.3
          ],
          [
           "Slovak Republic",
           77.3
          ],
          [
           "Morocco",
           77.1
          ],
          [
           "Algeria",
           77
          ],
          [
           "Ecuador",
           77
          ],
          [
           "Sri Lanka",
           76.9
          ],
          [
           "Estonia",
           76.9
          ],
          [
           "China",
           76.7
          ],
          [
           "Antigua and Barbuda",
           76.7
          ],
          [
           "Libya",
           76.7
          ],
          [
           "Georgia",
           76.4
          ],
          [
           "North Macedonia",
           76.4
          ],
          [
           "Tonga",
           76.4
          ],
          [
           "Croatia",
           76.1
          ],
          [
           "Hungary",
           76.1
          ],
          [
           "Mexico",
           76.1
          ],
          [
           "Venezuela, RB",
           76
          ],
          [
           "Colombia",
           75.9
          ],
          [
           "Maldives",
           75.8
          ],
          [
           "Mauritius",
           75.8
          ],
          [
           "Oman",
           75.7
          ],
          [
           "Serbia",
           75.7
          ],
          [
           "Tunisia",
           75.7
          ],
          [
           "Solomon Islands",
           75.6
          ],
          [
           "St. Vincent and the Grenadines",
           73.5
          ],
          [
           "Barbados",
           75.5
          ],
          [
           "Saudi Arabia",
           75.5
          ],
          [
           "Romania",
           75.4
          ],
          [
           "Malaysia",
           75.2
          ],
          [
           "Syrian Arab Republic",
           75.1
          ],
          [
           "Lithuania",
           75
          ],
          [
           "Turkey",
           75
          ],
          [
           "Iraq",
           74.9
          ],
          [
           "El Salvador",
           74.9
          ],
          [
           "Seychelles",
           74.9
          ],
          [
           "Thailand",
           74.9
          ],
          [
           "Armenia",
           74.9
          ],
          [
           "Jordan",
           74.8
          ],
          [
           "Bulgaria",
           74.7
          ],
          [
           "Latvia",
           74.7
          ],
          [
           "Grenada",
           74.5
          ],
          [
           "Samoa",
           74
          ],
          [
           "Brazil",
           74
          ],
          [
           "Uzbekistan",
           74
          ],
          [
           "Peru",
           74
          ],
          [
           "Iran, Islamic Rep.",
           74
          ],
          [
           "Jamaica",
           73.7
          ],
          [
           "Vanuatu",
           73.7
          ],
          [
           "Vietnam",
           73.7
          ],
          [
           "Bangladesh",
           73.4
          ],
          [
           "Nicaragua",
           73.4
          ],
          [
           "American Samoa",
           73.4
          ],
          [
           "Palau",
           73.4
          ],
          [
           "Trinidad and Tobago",
           73.1
          ],
          [
           "Belarus",
           73
          ],
          [
           "Egypt, Arab Rep.",
           73
          ],
          [
           "Fiji",
           73
          ],
          [
           "Indonesia",
           73
          ],
          [
           "Azerbaijan",
           72.8
          ],
          [
           "Guatemala",
           72.6
          ],
          [
           "Suriname",
           72.5
          ],
          [
           "Ukraine",
           72.1
          ],
          [
           "Honduras",
           71.2
          ],
          [
           "Kazakhstan",
           71.1
          ],
          [
           "Moldova",
           71
          ],
          [
           "Nepal",
           71
          ],
          [
           "Russian Federation",
           71
          ],
          [
           "Kyrgyz Republic",
           70.9
          ],
          [
           "Bhutan",
           70.6
          ],
          [
           "Turkmenistan",
           70.4
          ],
          [
           "Mongolia",
           69.9
          ],
          [
           "Bolivia",
           69.5
          ],
          [
           "Philippines",
           69.4
          ],
          [
           "Belize",
           68.9
          ],
          [
           "India",
           68.8
          ],
          [
           "Guyana",
           68.6
          ],
          [
           "Pakistan",
           68.1
          ],
          [
           "Tajikistan",
           68.1
          ],
          [
           "Papua New Guinea",
           67.3
          ],
          [
           "Ghana",
           67
          ],
          [
           "Tuvalu",
           66.9
          ],
          [
           "Kiribati",
           66.5
          ],
          [
           "Madagascar",
           66.3
          ],
          [
           "Togo",
           65.4
          ],
          [
           "Eritrea",
           65.2
          ],
          [
           "Cambodia",
           64.9
          ],
          [
           "Lao PDR",
           64.6
          ],
          [
           "Comoros",
           64.6
          ],
          [
           "Equatorial Guinea",
           64.6
          ],
          [
           "Sudan",
           64.4
          ],
          [
           "Kenya",
           64.3
          ],
          [
           "Rwanda",
           64.3
          ],
          [
           "Haiti",
           64.2
          ],
          [
           "Namibia",
           64
          ],
          [
           "South Africa",
           63.8
          ],
          [
           "Djibouti",
           63.6
          ],
          [
           "Mauritania",
           63.4
          ],
          [
           "Botswana",
           63.3
          ],
          [
           "Liberia",
           63.3
          ],
          [
           "Ethiopia",
           62.6
          ],
          [
           "Tanzania",
           62.6
          ],
          [
           "Benin",
           62.3
          ],
          [
           "Senegal",
           62.1
          ],
          [
           "Malawi",
           61.7
          ],
          [
           "Guinea",
           61
          ],
          [
           "Burundi",
           60.9
          ],
          [
           "Zimbabwe",
           60.4
          ],
          [
           "Mali",
           60.3
          ],
          [
           "Angola",
           60.2
          ],
          [
           "Congo, Rep.",
           59.8
          ],
          [
           "Cameroon",
           59
          ],
          [
           "Sierra Leone",
           58.6
          ],
          [
           "Congo, Dem. Rep.",
           57.7
          ],
          [
           "Burkina Faso",
           55.9
          ],
          [
           "Niger",
           55.9
          ],
          [
           "Uganda",
           55.9
          ],
          [
           "Nigeria",
           53.8
          ],
          [
           "Mozambique",
           53.7
          ],
          [
           "Lesotho",
           53
          ],
          [
           "Somalia",
           52.8
          ],
          [
           "Central African Republic",
           52.8
          ],
          [
           "Zambia",
           52.7
          ],
          [
           "Gabon",
           52.1
          ],
          [
           "Afghanistan",
           51.7
          ],
          [
           "Guinea-Bissau",
           51
          ],
          [
           "Chad",
           50.6
          ]
         ],
         "hovertemplate": "Population (1000)=%{x}<br>Forest area (1000 ha)=%{y}<br>Country Name=%{customdata[0]}<br>Average=%{customdata[1]}<extra></extra>",
         "legendgroup": "",
         "marker": {
          "color": "#636efa",
          "symbol": "circle"
         },
         "mode": "markers",
         "name": "",
         "orientation": "v",
         "showlegend": false,
         "type": "scatter",
         "x": [
          38.964,
          126264.931,
          5703.569,
          33.86,
          361.313,
          77.142,
          8574.832,
          9053.3,
          619.896,
          25364.307,
          60297.396,
          10285.453,
          37589.262,
          38.019,
          67059.887,
          5347.896,
          47076.781,
          8877.067,
          63.918,
          17332.85,
          64.948,
          4917,
          11484.055,
          5520.314,
          4941.444,
          3193.694,
          83132.799,
          66834.405,
          10716.322,
          2832.067,
          5818.553,
          10269.417,
          18952.038,
          11333.483,
          1198.575,
          328239.523,
          4246.439,
          10669.709,
          5047.561,
          2854.191,
          2087.946,
          10738.958,
          10738.958,
          4207.083,
          287.8,
          182.79,
          6855.713,
          37970.874,
          9770.529,
          7044.636,
          3461.734,
          433.285,
          44938.712,
          5454.073,
          36471.769,
          43053.054,
          17373.662,
          21803,
          1326.59,
          1397715,
          97.118,
          6777.452,
          3720.382,
          2083.459,
          104.494,
          4067.5,
          9769.949,
          127575.529,
          28515.829,
          50339.443,
          530.953,
          1265.711,
          4974.986,
          6944.975,
          11694.719,
          669.823,
          110.589,
          287.025,
          34268.528,
          19356.544,
          31949.777,
          17070.135,
          2786.844,
          83429.615,
          39309.783,
          6453.553,
          97.625,
          69625.582,
          2957.731,
          10101.694,
          6975.761,
          1912.789,
          112.003,
          197.097,
          211049.527,
          33580.65,
          32510.453,
          82913.906,
          2948.279,
          299.882,
          96462.106,
          163046.161,
          6545.502,
          55.312,
          18.008,
          1394.973,
          9466.856,
          100388.073,
          889.953,
          270625.568,
          10023.318,
          16604.026,
          581.372,
          44385.155,
          9746.117,
          18513.93,
          2657.637,
          28608.71,
          144373.535,
          6456.9,
          763.092,
          5942.089,
          3225.167,
          11513.1,
          108116.615,
          390.353,
          1366417.754,
          782.766,
          216565.318,
          9321.018,
          8776.109,
          30417.856,
          11.646,
          117.606,
          26969.307,
          8082.366,
          null,
          16486.542,
          7169.455,
          850.886,
          1355.986,
          42813.238,
          52573.973,
          12626.95,
          11263.077,
          2494.53,
          58558.27,
          973.56,
          4525.696,
          2303.697,
          4937.374,
          112078.73,
          58005.463,
          11801.151,
          16296.364,
          18628.747,
          12771.246,
          11530.58,
          14645.468,
          19658.031,
          31825.295,
          5380.508,
          25876.38,
          7813.215,
          86790.567,
          20321.378,
          23310.715,
          44269.594,
          200963.599,
          30366.036,
          2125.268,
          15442.905,
          4745.185,
          17861.03,
          2172.579,
          38041.754,
          1920.922,
          15946.876
         ],
         "xaxis": "x",
         "y": [
          0,
          24935,
          16,
          1,
          51,
          16,
          1269,
          140,
          89,
          134005,
          9566,
          27980,
          346928,
          7,
          17253,
          12180,
          18572,
          3899,
          1,
          370,
          13,
          9893,
          689,
          22409,
          782,
          496,
          11419,
          3190,
          3902,
          0,
          628,
          3312,
          18211,
          3242,
          173,
          309795,
          4214,
          2677,
          3035,
          789,
          1238,
          2144,
          48,
          6,
          838,
          21,
          143,
          9483,
          317,
          16102,
          2031,
          380,
          28573,
          1926,
          5742,
          1949,
          12498,
          2113,
          2438,
          219978,
          8,
          217,
          2822,
          1001,
          9,
          1939,
          2053,
          65692,
          46231,
          59142,
          1,
          39,
          3,
          2723,
          703,
          2523,
          29,
          6,
          977,
          6929,
          19114,
          522,
          2201,
          22220,
          825,
          584,
          34,
          19873,
          328,
          98,
          3893,
          3411,
          18,
          162,
          496620,
          3690,
          72330,
          10752,
          597,
          442,
          14643,
          1883,
          3408,
          17,
          41,
          228,
          8768,
          45,
          1140,
          92133,
          1132,
          3528,
          15196,
          9690,
          6359,
          3455,
          387,
          5962,
          815312,
          1315,
          2725,
          4127,
          14173,
          50834,
          7189,
          1277,
          72160,
          18415,
          3726,
          424,
          35856,
          7986,
          1,
          1,
          12430,
          1209,
          1055,
          8068,
          16596,
          33,
          2448,
          18360,
          3611,
          276,
          347,
          6639,
          17050,
          6,
          313,
          15255,
          7617,
          17069,
          45745,
          3135,
          8068,
          2242,
          6189,
          280,
          17445,
          13296,
          66607,
          21946,
          20340,
          2535,
          126155,
          6216,
          1080,
          2338,
          21627,
          36744,
          35,
          5980,
          22303,
          44814,
          23531,
          1208,
          1980,
          4313
         ],
         "yaxis": "y"
        }
       ],
       "layout": {
        "legend": {
         "tracegroupgap": 0
        },
        "margin": {
         "t": 60
        },
        "template": {
         "data": {
          "bar": [
           {
            "error_x": {
             "color": "#2a3f5f"
            },
            "error_y": {
             "color": "#2a3f5f"
            },
            "marker": {
             "line": {
              "color": "#E5ECF6",
              "width": 0.5
             }
            },
            "type": "bar"
           }
          ],
          "barpolar": [
           {
            "marker": {
             "line": {
              "color": "#E5ECF6",
              "width": 0.5
             }
            },
            "type": "barpolar"
           }
          ],
          "carpet": [
           {
            "aaxis": {
             "endlinecolor": "#2a3f5f",
             "gridcolor": "white",
             "linecolor": "white",
             "minorgridcolor": "white",
             "startlinecolor": "#2a3f5f"
            },
            "baxis": {
             "endlinecolor": "#2a3f5f",
             "gridcolor": "white",
             "linecolor": "white",
             "minorgridcolor": "white",
             "startlinecolor": "#2a3f5f"
            },
            "type": "carpet"
           }
          ],
          "choropleth": [
           {
            "colorbar": {
             "outlinewidth": 0,
             "ticks": ""
            },
            "type": "choropleth"
           }
          ],
          "contour": [
           {
            "colorbar": {
             "outlinewidth": 0,
             "ticks": ""
            },
            "colorscale": [
             [
              0,
              "#0d0887"
             ],
             [
              0.1111111111111111,
              "#46039f"
             ],
             [
              0.2222222222222222,
              "#7201a8"
             ],
             [
              0.3333333333333333,
              "#9c179e"
             ],
             [
              0.4444444444444444,
              "#bd3786"
             ],
             [
              0.5555555555555556,
              "#d8576b"
             ],
             [
              0.6666666666666666,
              "#ed7953"
             ],
             [
              0.7777777777777778,
              "#fb9f3a"
             ],
             [
              0.8888888888888888,
              "#fdca26"
             ],
             [
              1,
              "#f0f921"
             ]
            ],
            "type": "contour"
           }
          ],
          "contourcarpet": [
           {
            "colorbar": {
             "outlinewidth": 0,
             "ticks": ""
            },
            "type": "contourcarpet"
           }
          ],
          "heatmap": [
           {
            "colorbar": {
             "outlinewidth": 0,
             "ticks": ""
            },
            "colorscale": [
             [
              0,
              "#0d0887"
             ],
             [
              0.1111111111111111,
              "#46039f"
             ],
             [
              0.2222222222222222,
              "#7201a8"
             ],
             [
              0.3333333333333333,
              "#9c179e"
             ],
             [
              0.4444444444444444,
              "#bd3786"
             ],
             [
              0.5555555555555556,
              "#d8576b"
             ],
             [
              0.6666666666666666,
              "#ed7953"
             ],
             [
              0.7777777777777778,
              "#fb9f3a"
             ],
             [
              0.8888888888888888,
              "#fdca26"
             ],
             [
              1,
              "#f0f921"
             ]
            ],
            "type": "heatmap"
           }
          ],
          "heatmapgl": [
           {
            "colorbar": {
             "outlinewidth": 0,
             "ticks": ""
            },
            "colorscale": [
             [
              0,
              "#0d0887"
             ],
             [
              0.1111111111111111,
              "#46039f"
             ],
             [
              0.2222222222222222,
              "#7201a8"
             ],
             [
              0.3333333333333333,
              "#9c179e"
             ],
             [
              0.4444444444444444,
              "#bd3786"
             ],
             [
              0.5555555555555556,
              "#d8576b"
             ],
             [
              0.6666666666666666,
              "#ed7953"
             ],
             [
              0.7777777777777778,
              "#fb9f3a"
             ],
             [
              0.8888888888888888,
              "#fdca26"
             ],
             [
              1,
              "#f0f921"
             ]
            ],
            "type": "heatmapgl"
           }
          ],
          "histogram": [
           {
            "marker": {
             "colorbar": {
              "outlinewidth": 0,
              "ticks": ""
             }
            },
            "type": "histogram"
           }
          ],
          "histogram2d": [
           {
            "colorbar": {
             "outlinewidth": 0,
             "ticks": ""
            },
            "colorscale": [
             [
              0,
              "#0d0887"
             ],
             [
              0.1111111111111111,
              "#46039f"
             ],
             [
              0.2222222222222222,
              "#7201a8"
             ],
             [
              0.3333333333333333,
              "#9c179e"
             ],
             [
              0.4444444444444444,
              "#bd3786"
             ],
             [
              0.5555555555555556,
              "#d8576b"
             ],
             [
              0.6666666666666666,
              "#ed7953"
             ],
             [
              0.7777777777777778,
              "#fb9f3a"
             ],
             [
              0.8888888888888888,
              "#fdca26"
             ],
             [
              1,
              "#f0f921"
             ]
            ],
            "type": "histogram2d"
           }
          ],
          "histogram2dcontour": [
           {
            "colorbar": {
             "outlinewidth": 0,
             "ticks": ""
            },
            "colorscale": [
             [
              0,
              "#0d0887"
             ],
             [
              0.1111111111111111,
              "#46039f"
             ],
             [
              0.2222222222222222,
              "#7201a8"
             ],
             [
              0.3333333333333333,
              "#9c179e"
             ],
             [
              0.4444444444444444,
              "#bd3786"
             ],
             [
              0.5555555555555556,
              "#d8576b"
             ],
             [
              0.6666666666666666,
              "#ed7953"
             ],
             [
              0.7777777777777778,
              "#fb9f3a"
             ],
             [
              0.8888888888888888,
              "#fdca26"
             ],
             [
              1,
              "#f0f921"
             ]
            ],
            "type": "histogram2dcontour"
           }
          ],
          "mesh3d": [
           {
            "colorbar": {
             "outlinewidth": 0,
             "ticks": ""
            },
            "type": "mesh3d"
           }
          ],
          "parcoords": [
           {
            "line": {
             "colorbar": {
              "outlinewidth": 0,
              "ticks": ""
             }
            },
            "type": "parcoords"
           }
          ],
          "pie": [
           {
            "automargin": true,
            "type": "pie"
           }
          ],
          "scatter": [
           {
            "marker": {
             "colorbar": {
              "outlinewidth": 0,
              "ticks": ""
             }
            },
            "type": "scatter"
           }
          ],
          "scatter3d": [
           {
            "line": {
             "colorbar": {
              "outlinewidth": 0,
              "ticks": ""
             }
            },
            "marker": {
             "colorbar": {
              "outlinewidth": 0,
              "ticks": ""
             }
            },
            "type": "scatter3d"
           }
          ],
          "scattercarpet": [
           {
            "marker": {
             "colorbar": {
              "outlinewidth": 0,
              "ticks": ""
             }
            },
            "type": "scattercarpet"
           }
          ],
          "scattergeo": [
           {
            "marker": {
             "colorbar": {
              "outlinewidth": 0,
              "ticks": ""
             }
            },
            "type": "scattergeo"
           }
          ],
          "scattergl": [
           {
            "marker": {
             "colorbar": {
              "outlinewidth": 0,
              "ticks": ""
             }
            },
            "type": "scattergl"
           }
          ],
          "scattermapbox": [
           {
            "marker": {
             "colorbar": {
              "outlinewidth": 0,
              "ticks": ""
             }
            },
            "type": "scattermapbox"
           }
          ],
          "scatterpolar": [
           {
            "marker": {
             "colorbar": {
              "outlinewidth": 0,
              "ticks": ""
             }
            },
            "type": "scatterpolar"
           }
          ],
          "scatterpolargl": [
           {
            "marker": {
             "colorbar": {
              "outlinewidth": 0,
              "ticks": ""
             }
            },
            "type": "scatterpolargl"
           }
          ],
          "scatterternary": [
           {
            "marker": {
             "colorbar": {
              "outlinewidth": 0,
              "ticks": ""
             }
            },
            "type": "scatterternary"
           }
          ],
          "surface": [
           {
            "colorbar": {
             "outlinewidth": 0,
             "ticks": ""
            },
            "colorscale": [
             [
              0,
              "#0d0887"
             ],
             [
              0.1111111111111111,
              "#46039f"
             ],
             [
              0.2222222222222222,
              "#7201a8"
             ],
             [
              0.3333333333333333,
              "#9c179e"
             ],
             [
              0.4444444444444444,
              "#bd3786"
             ],
             [
              0.5555555555555556,
              "#d8576b"
             ],
             [
              0.6666666666666666,
              "#ed7953"
             ],
             [
              0.7777777777777778,
              "#fb9f3a"
             ],
             [
              0.8888888888888888,
              "#fdca26"
             ],
             [
              1,
              "#f0f921"
             ]
            ],
            "type": "surface"
           }
          ],
          "table": [
           {
            "cells": {
             "fill": {
              "color": "#EBF0F8"
             },
             "line": {
              "color": "white"
             }
            },
            "header": {
             "fill": {
              "color": "#C8D4E3"
             },
             "line": {
              "color": "white"
             }
            },
            "type": "table"
           }
          ]
         },
         "layout": {
          "annotationdefaults": {
           "arrowcolor": "#2a3f5f",
           "arrowhead": 0,
           "arrowwidth": 1
          },
          "coloraxis": {
           "colorbar": {
            "outlinewidth": 0,
            "ticks": ""
           }
          },
          "colorscale": {
           "diverging": [
            [
             0,
             "#8e0152"
            ],
            [
             0.1,
             "#c51b7d"
            ],
            [
             0.2,
             "#de77ae"
            ],
            [
             0.3,
             "#f1b6da"
            ],
            [
             0.4,
             "#fde0ef"
            ],
            [
             0.5,
             "#f7f7f7"
            ],
            [
             0.6,
             "#e6f5d0"
            ],
            [
             0.7,
             "#b8e186"
            ],
            [
             0.8,
             "#7fbc41"
            ],
            [
             0.9,
             "#4d9221"
            ],
            [
             1,
             "#276419"
            ]
           ],
           "sequential": [
            [
             0,
             "#0d0887"
            ],
            [
             0.1111111111111111,
             "#46039f"
            ],
            [
             0.2222222222222222,
             "#7201a8"
            ],
            [
             0.3333333333333333,
             "#9c179e"
            ],
            [
             0.4444444444444444,
             "#bd3786"
            ],
            [
             0.5555555555555556,
             "#d8576b"
            ],
            [
             0.6666666666666666,
             "#ed7953"
            ],
            [
             0.7777777777777778,
             "#fb9f3a"
            ],
            [
             0.8888888888888888,
             "#fdca26"
            ],
            [
             1,
             "#f0f921"
            ]
           ],
           "sequentialminus": [
            [
             0,
             "#0d0887"
            ],
            [
             0.1111111111111111,
             "#46039f"
            ],
            [
             0.2222222222222222,
             "#7201a8"
            ],
            [
             0.3333333333333333,
             "#9c179e"
            ],
            [
             0.4444444444444444,
             "#bd3786"
            ],
            [
             0.5555555555555556,
             "#d8576b"
            ],
            [
             0.6666666666666666,
             "#ed7953"
            ],
            [
             0.7777777777777778,
             "#fb9f3a"
            ],
            [
             0.8888888888888888,
             "#fdca26"
            ],
            [
             1,
             "#f0f921"
            ]
           ]
          },
          "colorway": [
           "#636efa",
           "#EF553B",
           "#00cc96",
           "#ab63fa",
           "#FFA15A",
           "#19d3f3",
           "#FF6692",
           "#B6E880",
           "#FF97FF",
           "#FECB52"
          ],
          "font": {
           "color": "#2a3f5f"
          },
          "geo": {
           "bgcolor": "white",
           "lakecolor": "white",
           "landcolor": "#E5ECF6",
           "showlakes": true,
           "showland": true,
           "subunitcolor": "white"
          },
          "hoverlabel": {
           "align": "left"
          },
          "hovermode": "closest",
          "mapbox": {
           "style": "light"
          },
          "paper_bgcolor": "white",
          "plot_bgcolor": "#E5ECF6",
          "polar": {
           "angularaxis": {
            "gridcolor": "white",
            "linecolor": "white",
            "ticks": ""
           },
           "bgcolor": "#E5ECF6",
           "radialaxis": {
            "gridcolor": "white",
            "linecolor": "white",
            "ticks": ""
           }
          },
          "scene": {
           "xaxis": {
            "backgroundcolor": "#E5ECF6",
            "gridcolor": "white",
            "gridwidth": 2,
            "linecolor": "white",
            "showbackground": true,
            "ticks": "",
            "zerolinecolor": "white"
           },
           "yaxis": {
            "backgroundcolor": "#E5ECF6",
            "gridcolor": "white",
            "gridwidth": 2,
            "linecolor": "white",
            "showbackground": true,
            "ticks": "",
            "zerolinecolor": "white"
           },
           "zaxis": {
            "backgroundcolor": "#E5ECF6",
            "gridcolor": "white",
            "gridwidth": 2,
            "linecolor": "white",
            "showbackground": true,
            "ticks": "",
            "zerolinecolor": "white"
           }
          },
          "shapedefaults": {
           "line": {
            "color": "#2a3f5f"
           }
          },
          "ternary": {
           "aaxis": {
            "gridcolor": "white",
            "linecolor": "white",
            "ticks": ""
           },
           "baxis": {
            "gridcolor": "white",
            "linecolor": "white",
            "ticks": ""
           },
           "bgcolor": "#E5ECF6",
           "caxis": {
            "gridcolor": "white",
            "linecolor": "white",
            "ticks": ""
           }
          },
          "title": {
           "x": 0.05
          },
          "xaxis": {
           "automargin": true,
           "gridcolor": "white",
           "linecolor": "white",
           "ticks": "",
           "title": {
            "standoff": 15
           },
           "zerolinecolor": "white",
           "zerolinewidth": 2
          },
          "yaxis": {
           "automargin": true,
           "gridcolor": "white",
           "linecolor": "white",
           "ticks": "",
           "title": {
            "standoff": 15
           },
           "zerolinecolor": "white",
           "zerolinewidth": 2
          }
         }
        },
        "xaxis": {
         "anchor": "y",
         "domain": [
          0,
          1
         ],
         "title": {
          "text": "Population (1000)"
         },
         "type": "log"
        },
        "yaxis": {
         "anchor": "x",
         "domain": [
          0,
          1
         ],
         "title": {
          "text": "Forest area (1000 ha)"
         }
        }
       }
      },
      "text/html": [
       "<div>\n",
       "        \n",
       "        \n",
       "            <div id=\"b8f1df16-514b-4c42-8708-8593176740f0\" class=\"plotly-graph-div\" style=\"height:525px; width:100%;\"></div>\n",
       "            <script type=\"text/javascript\">\n",
       "                require([\"plotly\"], function(Plotly) {\n",
       "                    window.PLOTLYENV=window.PLOTLYENV || {};\n",
       "                    \n",
       "                if (document.getElementById(\"b8f1df16-514b-4c42-8708-8593176740f0\")) {\n",
       "                    Plotly.newPlot(\n",
       "                        'b8f1df16-514b-4c42-8708-8593176740f0',\n",
       "                        [{\"customdata\": [[\"Monaco\", 89.4], [\"Japan\", 85.3], [\"Singapore\", 85.2], [\"San Marino\", 83.3], [\"Iceland\", 83.1], [\"Andorra\", 82.9], [\"Switzerland\", 82.6], [\"Israel\", 82.5], [\"Luxembourg\", 82.3], [\"Australia\", 82.3], [\"Italy\", 82.3], [\"Sweden\", 82.1], [\"Canada\", 81.9], [\"Liechtenstein\", 81.9], [\"France\", 81.9], [\"Norway\", 81.9], [\"Spain\", 81.8], [\"Austria\", 81.6], [\"Bermuda\", 81.4], [\"Netherlands\", 81.4], [\"Cayman Islands\", 81.3], [\"New Zealand\", 81.3], [\"Belgium\", 81.1], [\"Finland\", 81.0], [\"Ireland\", 80.9], [\"Puerto Rico\", 80.9], [\"Germany\", 80.8], [\"United Kingdom\", 80.8], [\"Greece\", 80.7], [\"Qatar\", 80.0], [\"Denmark\", 79.5], [\"Portugal\", 79.4], [\"Chile\", 78.9], [\"Cuba\", 78.8], [\"Cyprus\", 78.8], [\"United States\", 78.8], [\"Panama\", 78.8], [\"Czech Republic\", 78.8], [\"Costa Rica\", 78.7], [\"Albania\", 78.5], [\"Slovenia\", 78.3], [\"Dominican Republic\", 78.3], [\"Dominican Republic\", 77.2], [\"Kuwait\", 78.2], [\"New Caledonia\", 77.9], [\"St. Lucia\", 77.9], [\"Lebanon\", 77.8], [\"Poland\", 77.8], [\"United Arab Emirates\", 77.7], [\"Paraguay\", 77.4], [\"Uruguay\", 77.4], [\"Brunei Darussalam\", 77.3], [\"Argentina\", 77.3], [\"Slovak Republic\", 77.3], [\"Morocco\", 77.1], [\"Algeria\", 77.0], [\"Ecuador\", 77.0], [\"Sri Lanka\", 76.9], [\"Estonia\", 76.9], [\"China\", 76.7], [\"Antigua and Barbuda\", 76.7], [\"Libya\", 76.7], [\"Georgia\", 76.4], [\"North Macedonia\", 76.4], [\"Tonga\", 76.4], [\"Croatia\", 76.1], [\"Hungary\", 76.1], [\"Mexico\", 76.1], [\"Venezuela, RB\", 76.0], [\"Colombia\", 75.9], [\"Maldives\", 75.8], [\"Mauritius\", 75.8], [\"Oman\", 75.7], [\"Serbia\", 75.7], [\"Tunisia\", 75.7], [\"Solomon Islands\", 75.6], [\"St. Vincent and the Grenadines\", 73.5], [\"Barbados\", 75.5], [\"Saudi Arabia\", 75.5], [\"Romania\", 75.4], [\"Malaysia\", 75.2], [\"Syrian Arab Republic\", 75.1], [\"Lithuania\", 75.0], [\"Turkey\", 75.0], [\"Iraq\", 74.9], [\"El Salvador\", 74.9], [\"Seychelles\", 74.9], [\"Thailand\", 74.9], [\"Armenia\", 74.9], [\"Jordan\", 74.8], [\"Bulgaria\", 74.7], [\"Latvia\", 74.7], [\"Grenada\", 74.5], [\"Samoa\", 74.0], [\"Brazil\", 74.0], [\"Uzbekistan\", 74.0], [\"Peru\", 74.0], [\"Iran, Islamic Rep.\", 74.0], [\"Jamaica\", 73.7], [\"Vanuatu\", 73.7], [\"Vietnam\", 73.7], [\"Bangladesh\", 73.4], [\"Nicaragua\", 73.4], [\"American Samoa\", 73.4], [\"Palau\", 73.4], [\"Trinidad and Tobago\", 73.1], [\"Belarus\", 73.0], [\"Egypt, Arab Rep.\", 73.0], [\"Fiji\", 73.0], [\"Indonesia\", 73.0], [\"Azerbaijan\", 72.8], [\"Guatemala\", 72.6], [\"Suriname\", 72.5], [\"Ukraine\", 72.1], [\"Honduras\", 71.2], [\"Kazakhstan\", 71.1], [\"Moldova\", 71.0], [\"Nepal\", 71.0], [\"Russian Federation\", 71.0], [\"Kyrgyz Republic\", 70.9], [\"Bhutan\", 70.6], [\"Turkmenistan\", 70.4], [\"Mongolia\", 69.9], [\"Bolivia\", 69.5], [\"Philippines\", 69.4], [\"Belize\", 68.9], [\"India\", 68.8], [\"Guyana\", 68.6], [\"Pakistan\", 68.1], [\"Tajikistan\", 68.1], [\"Papua New Guinea\", 67.3], [\"Ghana\", 67.0], [\"Tuvalu\", 66.9], [\"Kiribati\", 66.5], [\"Madagascar\", 66.3], [\"Togo\", 65.4], [\"Eritrea\", 65.2], [\"Cambodia\", 64.9], [\"Lao PDR\", 64.6], [\"Comoros\", 64.6], [\"Equatorial Guinea\", 64.6], [\"Sudan\", 64.4], [\"Kenya\", 64.3], [\"Rwanda\", 64.3], [\"Haiti\", 64.2], [\"Namibia\", 64.0], [\"South Africa\", 63.8], [\"Djibouti\", 63.6], [\"Mauritania\", 63.4], [\"Botswana\", 63.3], [\"Liberia\", 63.3], [\"Ethiopia\", 62.6], [\"Tanzania\", 62.6], [\"Benin\", 62.3], [\"Senegal\", 62.1], [\"Malawi\", 61.7], [\"Guinea\", 61.0], [\"Burundi\", 60.9], [\"Zimbabwe\", 60.4], [\"Mali\", 60.3], [\"Angola\", 60.2], [\"Congo, Rep.\", 59.8], [\"Cameroon\", 59.0], [\"Sierra Leone\", 58.6], [\"Congo, Dem. Rep.\", 57.7], [\"Burkina Faso\", 55.9], [\"Niger\", 55.9], [\"Uganda\", 55.9], [\"Nigeria\", 53.8], [\"Mozambique\", 53.7], [\"Lesotho\", 53.0], [\"Somalia\", 52.8], [\"Central African Republic\", 52.8], [\"Zambia\", 52.7], [\"Gabon\", 52.1], [\"Afghanistan\", 51.7], [\"Guinea-Bissau\", 51.0], [\"Chad\", 50.6]], \"hovertemplate\": \"Population (1000)=%{x}<br>Forest area (1000 ha)=%{y}<br>Country Name=%{customdata[0]}<br>Average=%{customdata[1]}<extra></extra>\", \"legendgroup\": \"\", \"marker\": {\"color\": \"#636efa\", \"symbol\": \"circle\"}, \"mode\": \"markers\", \"name\": \"\", \"orientation\": \"v\", \"showlegend\": false, \"type\": \"scatter\", \"x\": [38.964, 126264.931, 5703.569, 33.86, 361.313, 77.142, 8574.832, 9053.3, 619.896, 25364.307, 60297.396, 10285.453, 37589.262, 38.019, 67059.887, 5347.896, 47076.781, 8877.067, 63.918, 17332.85, 64.948, 4917.0, 11484.055, 5520.314, 4941.444, 3193.694, 83132.799, 66834.405, 10716.322, 2832.067, 5818.553, 10269.417, 18952.038, 11333.483, 1198.575, 328239.523, 4246.439, 10669.709, 5047.561, 2854.191, 2087.946, 10738.958, 10738.958, 4207.083, 287.8, 182.79, 6855.713, 37970.874, 9770.529, 7044.636, 3461.734, 433.285, 44938.712, 5454.073, 36471.769, 43053.054, 17373.662, 21803.0, 1326.59, 1397715.0, 97.118, 6777.452, 3720.382, 2083.459, 104.494, 4067.5, 9769.949, 127575.529, 28515.829, 50339.443, 530.953, 1265.711, 4974.986, 6944.975, 11694.719, 669.823, 110.589, 287.025, 34268.528, 19356.544, 31949.777, 17070.135, 2786.844, 83429.615, 39309.783, 6453.553, 97.625, 69625.582, 2957.731, 10101.694, 6975.761, 1912.789, 112.003, 197.097, 211049.527, 33580.65, 32510.453, 82913.906, 2948.279, 299.882, 96462.106, 163046.161, 6545.502, 55.312, 18.008, 1394.973, 9466.856, 100388.073, 889.953, 270625.568, 10023.318, 16604.026, 581.372, 44385.155, 9746.117, 18513.93, 2657.637, 28608.71, 144373.535, 6456.9, 763.092, 5942.089, 3225.167, 11513.1, 108116.615, 390.353, 1366417.754, 782.766, 216565.318, 9321.018, 8776.109, 30417.856, 11.646, 117.606, 26969.307, 8082.366, null, 16486.542, 7169.455, 850.886, 1355.986, 42813.238, 52573.973, 12626.95, 11263.077, 2494.53, 58558.27, 973.56, 4525.696, 2303.697, 4937.374, 112078.73, 58005.463, 11801.151, 16296.364, 18628.747, 12771.246, 11530.58, 14645.468, 19658.031, 31825.295, 5380.508, 25876.38, 7813.215, 86790.567, 20321.378, 23310.715, 44269.594, 200963.599, 30366.036, 2125.268, 15442.905, 4745.185, 17861.03, 2172.579, 38041.754, 1920.922, 15946.876], \"xaxis\": \"x\", \"y\": [0.0, 24935.0, 16.0, 1.0, 51.0, 16.0, 1269.0, 140.0, 89.0, 134005.0, 9566.0, 27980.0, 346928.0, 7.0, 17253.0, 12180.0, 18572.0, 3899.0, 1.0, 370.0, 13.0, 9893.0, 689.0, 22409.0, 782.0, 496.0, 11419.0, 3190.0, 3902.0, 0.0, 628.0, 3312.0, 18211.0, 3242.0, 173.0, 309795.0, 4214.0, 2677.0, 3035.0, 789.0, 1238.0, 2144.0, 48.0, 6.0, 838.0, 21.0, 143.0, 9483.0, 317.0, 16102.0, 2031.0, 380.0, 28573.0, 1926.0, 5742.0, 1949.0, 12498.0, 2113.0, 2438.0, 219978.0, 8.0, 217.0, 2822.0, 1001.0, 9.0, 1939.0, 2053.0, 65692.0, 46231.0, 59142.0, 1.0, 39.0, 3.0, 2723.0, 703.0, 2523.0, 29.0, 6.0, 977.0, 6929.0, 19114.0, 522.0, 2201.0, 22220.0, 825.0, 584.0, 34.0, 19873.0, 328.0, 98.0, 3893.0, 3411.0, 18.0, 162.0, 496620.0, 3690.0, 72330.0, 10752.0, 597.0, 442.0, 14643.0, 1883.0, 3408.0, 17.0, 41.0, 228.0, 8768.0, 45.0, 1140.0, 92133.0, 1132.0, 3528.0, 15196.0, 9690.0, 6359.0, 3455.0, 387.0, 5962.0, 815312.0, 1315.0, 2725.0, 4127.0, 14173.0, 50834.0, 7189.0, 1277.0, 72160.0, 18415.0, 3726.0, 424.0, 35856.0, 7986.0, 1.0, 1.0, 12430.0, 1209.0, 1055.0, 8068.0, 16596.0, 33.0, 2448.0, 18360.0, 3611.0, 276.0, 347.0, 6639.0, 17050.0, 6.0, 313.0, 15255.0, 7617.0, 17069.0, 45745.0, 3135.0, 8068.0, 2242.0, 6189.0, 280.0, 17445.0, 13296.0, 66607.0, 21946.0, 20340.0, 2535.0, 126155.0, 6216.0, 1080.0, 2338.0, 21627.0, 36744.0, 35.0, 5980.0, 22303.0, 44814.0, 23531.0, 1208.0, 1980.0, 4313.0], \"yaxis\": \"y\"}],\n",
       "                        {\"legend\": {\"tracegroupgap\": 0}, \"margin\": {\"t\": 60}, \"template\": {\"data\": {\"bar\": [{\"error_x\": {\"color\": \"#2a3f5f\"}, \"error_y\": {\"color\": \"#2a3f5f\"}, \"marker\": {\"line\": {\"color\": \"#E5ECF6\", \"width\": 0.5}}, \"type\": \"bar\"}], \"barpolar\": [{\"marker\": {\"line\": {\"color\": \"#E5ECF6\", \"width\": 0.5}}, \"type\": \"barpolar\"}], \"carpet\": [{\"aaxis\": {\"endlinecolor\": \"#2a3f5f\", \"gridcolor\": \"white\", \"linecolor\": \"white\", \"minorgridcolor\": \"white\", \"startlinecolor\": \"#2a3f5f\"}, \"baxis\": {\"endlinecolor\": \"#2a3f5f\", \"gridcolor\": \"white\", \"linecolor\": \"white\", \"minorgridcolor\": \"white\", \"startlinecolor\": \"#2a3f5f\"}, \"type\": \"carpet\"}], \"choropleth\": [{\"colorbar\": {\"outlinewidth\": 0, \"ticks\": \"\"}, \"type\": \"choropleth\"}], \"contour\": [{\"colorbar\": {\"outlinewidth\": 0, \"ticks\": \"\"}, \"colorscale\": [[0.0, \"#0d0887\"], [0.1111111111111111, \"#46039f\"], [0.2222222222222222, \"#7201a8\"], [0.3333333333333333, \"#9c179e\"], [0.4444444444444444, \"#bd3786\"], [0.5555555555555556, \"#d8576b\"], [0.6666666666666666, \"#ed7953\"], [0.7777777777777778, \"#fb9f3a\"], [0.8888888888888888, \"#fdca26\"], [1.0, \"#f0f921\"]], \"type\": \"contour\"}], \"contourcarpet\": [{\"colorbar\": {\"outlinewidth\": 0, \"ticks\": \"\"}, \"type\": \"contourcarpet\"}], \"heatmap\": [{\"colorbar\": {\"outlinewidth\": 0, \"ticks\": \"\"}, \"colorscale\": [[0.0, \"#0d0887\"], [0.1111111111111111, \"#46039f\"], [0.2222222222222222, \"#7201a8\"], [0.3333333333333333, \"#9c179e\"], [0.4444444444444444, \"#bd3786\"], [0.5555555555555556, \"#d8576b\"], [0.6666666666666666, \"#ed7953\"], [0.7777777777777778, \"#fb9f3a\"], [0.8888888888888888, \"#fdca26\"], [1.0, \"#f0f921\"]], \"type\": \"heatmap\"}], \"heatmapgl\": [{\"colorbar\": {\"outlinewidth\": 0, \"ticks\": \"\"}, \"colorscale\": [[0.0, \"#0d0887\"], [0.1111111111111111, \"#46039f\"], [0.2222222222222222, \"#7201a8\"], [0.3333333333333333, \"#9c179e\"], [0.4444444444444444, \"#bd3786\"], [0.5555555555555556, \"#d8576b\"], [0.6666666666666666, \"#ed7953\"], [0.7777777777777778, \"#fb9f3a\"], [0.8888888888888888, \"#fdca26\"], [1.0, \"#f0f921\"]], \"type\": \"heatmapgl\"}], \"histogram\": [{\"marker\": {\"colorbar\": {\"outlinewidth\": 0, \"ticks\": \"\"}}, \"type\": \"histogram\"}], \"histogram2d\": [{\"colorbar\": {\"outlinewidth\": 0, \"ticks\": \"\"}, \"colorscale\": [[0.0, \"#0d0887\"], [0.1111111111111111, \"#46039f\"], [0.2222222222222222, \"#7201a8\"], [0.3333333333333333, \"#9c179e\"], [0.4444444444444444, \"#bd3786\"], [0.5555555555555556, \"#d8576b\"], [0.6666666666666666, \"#ed7953\"], [0.7777777777777778, \"#fb9f3a\"], [0.8888888888888888, \"#fdca26\"], [1.0, \"#f0f921\"]], \"type\": \"histogram2d\"}], \"histogram2dcontour\": [{\"colorbar\": {\"outlinewidth\": 0, \"ticks\": \"\"}, \"colorscale\": [[0.0, \"#0d0887\"], [0.1111111111111111, \"#46039f\"], [0.2222222222222222, \"#7201a8\"], [0.3333333333333333, \"#9c179e\"], [0.4444444444444444, \"#bd3786\"], [0.5555555555555556, \"#d8576b\"], [0.6666666666666666, \"#ed7953\"], [0.7777777777777778, \"#fb9f3a\"], [0.8888888888888888, \"#fdca26\"], [1.0, \"#f0f921\"]], \"type\": \"histogram2dcontour\"}], \"mesh3d\": [{\"colorbar\": {\"outlinewidth\": 0, \"ticks\": \"\"}, \"type\": \"mesh3d\"}], \"parcoords\": [{\"line\": {\"colorbar\": {\"outlinewidth\": 0, \"ticks\": \"\"}}, \"type\": \"parcoords\"}], \"pie\": [{\"automargin\": true, \"type\": \"pie\"}], \"scatter\": [{\"marker\": {\"colorbar\": {\"outlinewidth\": 0, \"ticks\": \"\"}}, \"type\": \"scatter\"}], \"scatter3d\": [{\"line\": {\"colorbar\": {\"outlinewidth\": 0, \"ticks\": \"\"}}, \"marker\": {\"colorbar\": {\"outlinewidth\": 0, \"ticks\": \"\"}}, \"type\": \"scatter3d\"}], \"scattercarpet\": [{\"marker\": {\"colorbar\": {\"outlinewidth\": 0, \"ticks\": \"\"}}, \"type\": \"scattercarpet\"}], \"scattergeo\": [{\"marker\": {\"colorbar\": {\"outlinewidth\": 0, \"ticks\": \"\"}}, \"type\": \"scattergeo\"}], \"scattergl\": [{\"marker\": {\"colorbar\": {\"outlinewidth\": 0, \"ticks\": \"\"}}, \"type\": \"scattergl\"}], \"scattermapbox\": [{\"marker\": {\"colorbar\": {\"outlinewidth\": 0, \"ticks\": \"\"}}, \"type\": \"scattermapbox\"}], \"scatterpolar\": [{\"marker\": {\"colorbar\": {\"outlinewidth\": 0, \"ticks\": \"\"}}, \"type\": \"scatterpolar\"}], \"scatterpolargl\": [{\"marker\": {\"colorbar\": {\"outlinewidth\": 0, \"ticks\": \"\"}}, \"type\": \"scatterpolargl\"}], \"scatterternary\": [{\"marker\": {\"colorbar\": {\"outlinewidth\": 0, \"ticks\": \"\"}}, \"type\": \"scatterternary\"}], \"surface\": [{\"colorbar\": {\"outlinewidth\": 0, \"ticks\": \"\"}, \"colorscale\": [[0.0, \"#0d0887\"], [0.1111111111111111, \"#46039f\"], [0.2222222222222222, \"#7201a8\"], [0.3333333333333333, \"#9c179e\"], [0.4444444444444444, \"#bd3786\"], [0.5555555555555556, \"#d8576b\"], [0.6666666666666666, \"#ed7953\"], [0.7777777777777778, \"#fb9f3a\"], [0.8888888888888888, \"#fdca26\"], [1.0, \"#f0f921\"]], \"type\": \"surface\"}], \"table\": [{\"cells\": {\"fill\": {\"color\": \"#EBF0F8\"}, \"line\": {\"color\": \"white\"}}, \"header\": {\"fill\": {\"color\": \"#C8D4E3\"}, \"line\": {\"color\": \"white\"}}, \"type\": \"table\"}]}, \"layout\": {\"annotationdefaults\": {\"arrowcolor\": \"#2a3f5f\", \"arrowhead\": 0, \"arrowwidth\": 1}, \"coloraxis\": {\"colorbar\": {\"outlinewidth\": 0, \"ticks\": \"\"}}, \"colorscale\": {\"diverging\": [[0, \"#8e0152\"], [0.1, \"#c51b7d\"], [0.2, \"#de77ae\"], [0.3, \"#f1b6da\"], [0.4, \"#fde0ef\"], [0.5, \"#f7f7f7\"], [0.6, \"#e6f5d0\"], [0.7, \"#b8e186\"], [0.8, \"#7fbc41\"], [0.9, \"#4d9221\"], [1, \"#276419\"]], \"sequential\": [[0.0, \"#0d0887\"], [0.1111111111111111, \"#46039f\"], [0.2222222222222222, \"#7201a8\"], [0.3333333333333333, \"#9c179e\"], [0.4444444444444444, \"#bd3786\"], [0.5555555555555556, \"#d8576b\"], [0.6666666666666666, \"#ed7953\"], [0.7777777777777778, \"#fb9f3a\"], [0.8888888888888888, \"#fdca26\"], [1.0, \"#f0f921\"]], \"sequentialminus\": [[0.0, \"#0d0887\"], [0.1111111111111111, \"#46039f\"], [0.2222222222222222, \"#7201a8\"], [0.3333333333333333, \"#9c179e\"], [0.4444444444444444, \"#bd3786\"], [0.5555555555555556, \"#d8576b\"], [0.6666666666666666, \"#ed7953\"], [0.7777777777777778, \"#fb9f3a\"], [0.8888888888888888, \"#fdca26\"], [1.0, \"#f0f921\"]]}, \"colorway\": [\"#636efa\", \"#EF553B\", \"#00cc96\", \"#ab63fa\", \"#FFA15A\", \"#19d3f3\", \"#FF6692\", \"#B6E880\", \"#FF97FF\", \"#FECB52\"], \"font\": {\"color\": \"#2a3f5f\"}, \"geo\": {\"bgcolor\": \"white\", \"lakecolor\": \"white\", \"landcolor\": \"#E5ECF6\", \"showlakes\": true, \"showland\": true, \"subunitcolor\": \"white\"}, \"hoverlabel\": {\"align\": \"left\"}, \"hovermode\": \"closest\", \"mapbox\": {\"style\": \"light\"}, \"paper_bgcolor\": \"white\", \"plot_bgcolor\": \"#E5ECF6\", \"polar\": {\"angularaxis\": {\"gridcolor\": \"white\", \"linecolor\": \"white\", \"ticks\": \"\"}, \"bgcolor\": \"#E5ECF6\", \"radialaxis\": {\"gridcolor\": \"white\", \"linecolor\": \"white\", \"ticks\": \"\"}}, \"scene\": {\"xaxis\": {\"backgroundcolor\": \"#E5ECF6\", \"gridcolor\": \"white\", \"gridwidth\": 2, \"linecolor\": \"white\", \"showbackground\": true, \"ticks\": \"\", \"zerolinecolor\": \"white\"}, \"yaxis\": {\"backgroundcolor\": \"#E5ECF6\", \"gridcolor\": \"white\", \"gridwidth\": 2, \"linecolor\": \"white\", \"showbackground\": true, \"ticks\": \"\", \"zerolinecolor\": \"white\"}, \"zaxis\": {\"backgroundcolor\": \"#E5ECF6\", \"gridcolor\": \"white\", \"gridwidth\": 2, \"linecolor\": \"white\", \"showbackground\": true, \"ticks\": \"\", \"zerolinecolor\": \"white\"}}, \"shapedefaults\": {\"line\": {\"color\": \"#2a3f5f\"}}, \"ternary\": {\"aaxis\": {\"gridcolor\": \"white\", \"linecolor\": \"white\", \"ticks\": \"\"}, \"baxis\": {\"gridcolor\": \"white\", \"linecolor\": \"white\", \"ticks\": \"\"}, \"bgcolor\": \"#E5ECF6\", \"caxis\": {\"gridcolor\": \"white\", \"linecolor\": \"white\", \"ticks\": \"\"}}, \"title\": {\"x\": 0.05}, \"xaxis\": {\"automargin\": true, \"gridcolor\": \"white\", \"linecolor\": \"white\", \"ticks\": \"\", \"title\": {\"standoff\": 15}, \"zerolinecolor\": \"white\", \"zerolinewidth\": 2}, \"yaxis\": {\"automargin\": true, \"gridcolor\": \"white\", \"linecolor\": \"white\", \"ticks\": \"\", \"title\": {\"standoff\": 15}, \"zerolinecolor\": \"white\", \"zerolinewidth\": 2}}}, \"xaxis\": {\"anchor\": \"y\", \"domain\": [0.0, 1.0], \"title\": {\"text\": \"Population (1000)\"}, \"type\": \"log\"}, \"yaxis\": {\"anchor\": \"x\", \"domain\": [0.0, 1.0], \"title\": {\"text\": \"Forest area (1000 ha)\"}}},\n",
       "                        {\"responsive\": true}\n",
       "                    ).then(function(){\n",
       "                            \n",
       "var gd = document.getElementById('b8f1df16-514b-4c42-8708-8593176740f0');\n",
       "var x = new MutationObserver(function (mutations, observer) {{\n",
       "        var display = window.getComputedStyle(gd).display;\n",
       "        if (!display || display === 'none') {{\n",
       "            console.log([gd, 'removed!']);\n",
       "            Plotly.purge(gd);\n",
       "            observer.disconnect();\n",
       "        }}\n",
       "}});\n",
       "\n",
       "// Listen for the removal of the full notebook cells\n",
       "var notebookContainer = gd.closest('#notebook-container');\n",
       "if (notebookContainer) {{\n",
       "    x.observe(notebookContainer, {childList: true});\n",
       "}}\n",
       "\n",
       "// Listen for the clearing of the current output cell\n",
       "var outputEl = gd.closest('.output');\n",
       "if (outputEl) {{\n",
       "    x.observe(outputEl, {childList: true});\n",
       "}}\n",
       "\n",
       "                        })\n",
       "                };\n",
       "                });\n",
       "            </script>\n",
       "        </div>"
      ]
     },
     "metadata": {},
     "output_type": "display_data"
    }
   ],
   "source": [
    "#showing population ratio tree planted\n",
    "fig=px.scatter(df3, x=\"Population (1000)\", y=\"Forest area (1000 ha)\", hover_data=[\"Country Name\", \"Average\"], log_x=True)\n",
    "fig.show()"
   ]
  },
  {
   "cell_type": "code",
   "execution_count": 51,
   "metadata": {},
   "outputs": [
    {
     "data": {
      "application/vnd.plotly.v1+json": {
       "config": {
        "plotlyServerURL": "https://plot.ly"
       },
       "data": [
        {
         "coloraxis": "coloraxis",
         "geo": "geo",
         "hovertemplate": "<b>%{hovertext}</b><br><br>Country Code=%{location}<br>Population (1000)=%{z}<extra></extra>",
         "hovertext": [
          "Monaco",
          "Japan",
          "Singapore",
          "San Marino",
          "Iceland",
          "Andorra",
          "Switzerland",
          "Israel",
          "Luxembourg",
          "Australia",
          "Italy",
          "Sweden",
          "Canada",
          "Liechtenstein",
          "France",
          "Norway",
          "Spain",
          "Austria",
          "Bermuda",
          "Netherlands",
          "Cayman Islands",
          "New Zealand",
          "Belgium",
          "Finland",
          "Ireland",
          "Puerto Rico",
          "Germany",
          "United Kingdom",
          "Greece",
          "Qatar",
          "Denmark",
          "Portugal",
          "Chile",
          "Cuba",
          "Cyprus",
          "United States",
          "Panama",
          "Czech Republic",
          "Costa Rica",
          "Albania",
          "Slovenia",
          "Dominican Republic",
          "Dominican Republic",
          "Kuwait",
          "New Caledonia",
          "St. Lucia",
          "Lebanon",
          "Poland",
          "United Arab Emirates",
          "Paraguay",
          "Uruguay",
          "Brunei Darussalam",
          "Argentina",
          "Slovak Republic",
          "Morocco",
          "Algeria",
          "Ecuador",
          "Sri Lanka",
          "Estonia",
          "China",
          "Antigua and Barbuda",
          "Libya",
          "Georgia",
          "North Macedonia",
          "Tonga",
          "Croatia",
          "Hungary",
          "Mexico",
          "Venezuela, RB",
          "Colombia",
          "Maldives",
          "Mauritius",
          "Oman",
          "Serbia",
          "Tunisia",
          "Solomon Islands",
          "St. Vincent and the Grenadines",
          "Barbados",
          "Saudi Arabia",
          "Romania",
          "Malaysia",
          "Syrian Arab Republic",
          "Lithuania",
          "Turkey",
          "Iraq",
          "El Salvador",
          "Seychelles",
          "Thailand",
          "Armenia",
          "Jordan",
          "Bulgaria",
          "Latvia",
          "Grenada",
          "Samoa",
          "Brazil",
          "Uzbekistan",
          "Peru",
          "Iran, Islamic Rep.",
          "Jamaica",
          "Vanuatu",
          "Vietnam",
          "Bangladesh",
          "Nicaragua",
          "American Samoa",
          "Palau",
          "Trinidad and Tobago",
          "Belarus",
          "Egypt, Arab Rep.",
          "Fiji",
          "Indonesia",
          "Azerbaijan",
          "Guatemala",
          "Suriname",
          "Ukraine",
          "Honduras",
          "Kazakhstan",
          "Moldova",
          "Nepal",
          "Russian Federation",
          "Kyrgyz Republic",
          "Bhutan",
          "Turkmenistan",
          "Mongolia",
          "Bolivia",
          "Philippines",
          "Belize",
          "India",
          "Guyana",
          "Pakistan",
          "Tajikistan",
          "Papua New Guinea",
          "Ghana",
          "Tuvalu",
          "Kiribati",
          "Madagascar",
          "Togo",
          "Eritrea",
          "Cambodia",
          "Lao PDR",
          "Comoros",
          "Equatorial Guinea",
          "Sudan",
          "Kenya",
          "Rwanda",
          "Haiti",
          "Namibia",
          "South Africa",
          "Djibouti",
          "Mauritania",
          "Botswana",
          "Liberia",
          "Ethiopia",
          "Tanzania",
          "Benin",
          "Senegal",
          "Malawi",
          "Guinea",
          "Burundi",
          "Zimbabwe",
          "Mali",
          "Angola",
          "Congo, Rep.",
          "Cameroon",
          "Sierra Leone",
          "Congo, Dem. Rep.",
          "Burkina Faso",
          "Niger",
          "Uganda",
          "Nigeria",
          "Mozambique",
          "Lesotho",
          "Somalia",
          "Central African Republic",
          "Zambia",
          "Gabon",
          "Afghanistan",
          "Guinea-Bissau",
          "Chad"
         ],
         "locations": [
          "MCO",
          "JPN",
          "SGP",
          "SMR",
          "ISL",
          "AND",
          "CHE",
          "ISR",
          "LUX",
          "AUS",
          "ITA",
          "SWE",
          "CAN",
          "LIE",
          "FRA",
          "NOR",
          "ESP",
          "AUT",
          "BMU",
          "NLD",
          "CYM",
          "NZL",
          "BEL",
          "FIN",
          "IRL",
          "PRI",
          "DEU",
          "GBR",
          "GRC",
          "QAT",
          "DNK",
          "PRT",
          "CHL",
          "CUB",
          "CYP",
          "USA",
          "PAN",
          "CZE",
          "CRI",
          "ALB",
          "SVN",
          "DOM",
          "DOM",
          "KWT",
          "NCL",
          "LCA",
          "LBN",
          "POL",
          "ARE",
          "PRY",
          "URY",
          "BRN",
          "ARG",
          "SVK",
          "MAR",
          "DZA",
          "ECU",
          "LKA",
          "EST",
          "CHN",
          "ATG",
          "LBY",
          "GEO",
          "MKD",
          "TON",
          "HRV",
          "HUN",
          "MEX",
          "VEN",
          "COL",
          "MDV",
          "MUS",
          "OMN",
          "SRB",
          "TUN",
          "SLB",
          "VCT",
          "BRB",
          "SAU",
          "ROU",
          "MYS",
          "SYR",
          "LTU",
          "TUR",
          "IRQ",
          "SLV",
          "SYC",
          "THA",
          "ARM",
          "JOR",
          "BGR",
          "LVA",
          "GRD",
          "WSM",
          "BRA",
          "UZB",
          "PER",
          "IRN",
          "JAM",
          "VUT",
          "VNM",
          "BGD",
          "NIC",
          "ASM",
          "PLW",
          "TTO",
          "BLR",
          "EGY",
          "FJI",
          "IDN",
          "AZE",
          "GTM",
          "SUR",
          "UKR",
          "HND",
          "KAZ",
          "MDA",
          "NPL",
          "RUS",
          "KGZ",
          "BTN",
          "TKM",
          "MNG",
          "BOL",
          "PHL",
          "BLZ",
          "IND",
          "GUY",
          "PAK",
          "TJK",
          "PNG",
          "GHA",
          "TUV",
          "KIR",
          "MDG",
          "TGO",
          "ERI",
          "KHM",
          "LAO",
          "COM",
          "GNQ",
          "SDN",
          "KEN",
          "RWA",
          "HTI",
          "NAM",
          "ZAF",
          "DJI",
          "MRT",
          "BWA",
          "LBR",
          "ETH",
          "TZA",
          "BEN",
          "SEN",
          "MWI",
          "GIN",
          "BDI",
          "ZWE",
          "MLI",
          "AGO",
          "COG",
          "CMR",
          "SLE",
          "COD",
          "BFA",
          "NER",
          "UGA",
          "NGA",
          "MOZ",
          "LSO",
          "SOM",
          "CAF",
          "ZMB",
          "GAB",
          "AFG",
          "GNB",
          "TCD"
         ],
         "name": "",
         "type": "choropleth",
         "z": [
          38.964,
          126264.931,
          5703.569,
          33.86,
          361.313,
          77.142,
          8574.832,
          9053.3,
          619.896,
          25364.307,
          60297.396,
          10285.453,
          37589.262,
          38.019,
          67059.887,
          5347.896,
          47076.781,
          8877.067,
          63.918,
          17332.85,
          64.948,
          4917,
          11484.055,
          5520.314,
          4941.444,
          3193.694,
          83132.799,
          66834.405,
          10716.322,
          2832.067,
          5818.553,
          10269.417,
          18952.038,
          11333.483,
          1198.575,
          328239.523,
          4246.439,
          10669.709,
          5047.561,
          2854.191,
          2087.946,
          10738.958,
          10738.958,
          4207.083,
          287.8,
          182.79,
          6855.713,
          37970.874,
          9770.529,
          7044.636,
          3461.734,
          433.285,
          44938.712,
          5454.073,
          36471.769,
          43053.054,
          17373.662,
          21803,
          1326.59,
          1397715,
          97.118,
          6777.452,
          3720.382,
          2083.459,
          104.494,
          4067.5,
          9769.949,
          127575.529,
          28515.829,
          50339.443,
          530.953,
          1265.711,
          4974.986,
          6944.975,
          11694.719,
          669.823,
          110.589,
          287.025,
          34268.528,
          19356.544,
          31949.777,
          17070.135,
          2786.844,
          83429.615,
          39309.783,
          6453.553,
          97.625,
          69625.582,
          2957.731,
          10101.694,
          6975.761,
          1912.789,
          112.003,
          197.097,
          211049.527,
          33580.65,
          32510.453,
          82913.906,
          2948.279,
          299.882,
          96462.106,
          163046.161,
          6545.502,
          55.312,
          18.008,
          1394.973,
          9466.856,
          100388.073,
          889.953,
          270625.568,
          10023.318,
          16604.026,
          581.372,
          44385.155,
          9746.117,
          18513.93,
          2657.637,
          28608.71,
          144373.535,
          6456.9,
          763.092,
          5942.089,
          3225.167,
          11513.1,
          108116.615,
          390.353,
          1366417.754,
          782.766,
          216565.318,
          9321.018,
          8776.109,
          30417.856,
          11.646,
          117.606,
          26969.307,
          8082.366,
          null,
          16486.542,
          7169.455,
          850.886,
          1355.986,
          42813.238,
          52573.973,
          12626.95,
          11263.077,
          2494.53,
          58558.27,
          973.56,
          4525.696,
          2303.697,
          4937.374,
          112078.73,
          58005.463,
          11801.151,
          16296.364,
          18628.747,
          12771.246,
          11530.58,
          14645.468,
          19658.031,
          31825.295,
          5380.508,
          25876.38,
          7813.215,
          86790.567,
          20321.378,
          23310.715,
          44269.594,
          200963.599,
          30366.036,
          2125.268,
          15442.905,
          4745.185,
          17861.03,
          2172.579,
          38041.754,
          1920.922,
          15946.876
         ]
        }
       ],
       "layout": {
        "coloraxis": {
         "colorbar": {
          "title": {
           "text": "Population (1000)"
          }
         },
         "colorscale": [
          [
           0,
           "#0d0887"
          ],
          [
           0.1111111111111111,
           "#46039f"
          ],
          [
           0.2222222222222222,
           "#7201a8"
          ],
          [
           0.3333333333333333,
           "#9c179e"
          ],
          [
           0.4444444444444444,
           "#bd3786"
          ],
          [
           0.5555555555555556,
           "#d8576b"
          ],
          [
           0.6666666666666666,
           "#ed7953"
          ],
          [
           0.7777777777777778,
           "#fb9f3a"
          ],
          [
           0.8888888888888888,
           "#fdca26"
          ],
          [
           1,
           "#f0f921"
          ]
         ]
        },
        "geo": {
         "center": {},
         "domain": {
          "x": [
           0,
           1
          ],
          "y": [
           0,
           1
          ]
         }
        },
        "legend": {
         "tracegroupgap": 0
        },
        "margin": {
         "t": 60
        },
        "template": {
         "data": {
          "bar": [
           {
            "error_x": {
             "color": "#2a3f5f"
            },
            "error_y": {
             "color": "#2a3f5f"
            },
            "marker": {
             "line": {
              "color": "#E5ECF6",
              "width": 0.5
             }
            },
            "type": "bar"
           }
          ],
          "barpolar": [
           {
            "marker": {
             "line": {
              "color": "#E5ECF6",
              "width": 0.5
             }
            },
            "type": "barpolar"
           }
          ],
          "carpet": [
           {
            "aaxis": {
             "endlinecolor": "#2a3f5f",
             "gridcolor": "white",
             "linecolor": "white",
             "minorgridcolor": "white",
             "startlinecolor": "#2a3f5f"
            },
            "baxis": {
             "endlinecolor": "#2a3f5f",
             "gridcolor": "white",
             "linecolor": "white",
             "minorgridcolor": "white",
             "startlinecolor": "#2a3f5f"
            },
            "type": "carpet"
           }
          ],
          "choropleth": [
           {
            "colorbar": {
             "outlinewidth": 0,
             "ticks": ""
            },
            "type": "choropleth"
           }
          ],
          "contour": [
           {
            "colorbar": {
             "outlinewidth": 0,
             "ticks": ""
            },
            "colorscale": [
             [
              0,
              "#0d0887"
             ],
             [
              0.1111111111111111,
              "#46039f"
             ],
             [
              0.2222222222222222,
              "#7201a8"
             ],
             [
              0.3333333333333333,
              "#9c179e"
             ],
             [
              0.4444444444444444,
              "#bd3786"
             ],
             [
              0.5555555555555556,
              "#d8576b"
             ],
             [
              0.6666666666666666,
              "#ed7953"
             ],
             [
              0.7777777777777778,
              "#fb9f3a"
             ],
             [
              0.8888888888888888,
              "#fdca26"
             ],
             [
              1,
              "#f0f921"
             ]
            ],
            "type": "contour"
           }
          ],
          "contourcarpet": [
           {
            "colorbar": {
             "outlinewidth": 0,
             "ticks": ""
            },
            "type": "contourcarpet"
           }
          ],
          "heatmap": [
           {
            "colorbar": {
             "outlinewidth": 0,
             "ticks": ""
            },
            "colorscale": [
             [
              0,
              "#0d0887"
             ],
             [
              0.1111111111111111,
              "#46039f"
             ],
             [
              0.2222222222222222,
              "#7201a8"
             ],
             [
              0.3333333333333333,
              "#9c179e"
             ],
             [
              0.4444444444444444,
              "#bd3786"
             ],
             [
              0.5555555555555556,
              "#d8576b"
             ],
             [
              0.6666666666666666,
              "#ed7953"
             ],
             [
              0.7777777777777778,
              "#fb9f3a"
             ],
             [
              0.8888888888888888,
              "#fdca26"
             ],
             [
              1,
              "#f0f921"
             ]
            ],
            "type": "heatmap"
           }
          ],
          "heatmapgl": [
           {
            "colorbar": {
             "outlinewidth": 0,
             "ticks": ""
            },
            "colorscale": [
             [
              0,
              "#0d0887"
             ],
             [
              0.1111111111111111,
              "#46039f"
             ],
             [
              0.2222222222222222,
              "#7201a8"
             ],
             [
              0.3333333333333333,
              "#9c179e"
             ],
             [
              0.4444444444444444,
              "#bd3786"
             ],
             [
              0.5555555555555556,
              "#d8576b"
             ],
             [
              0.6666666666666666,
              "#ed7953"
             ],
             [
              0.7777777777777778,
              "#fb9f3a"
             ],
             [
              0.8888888888888888,
              "#fdca26"
             ],
             [
              1,
              "#f0f921"
             ]
            ],
            "type": "heatmapgl"
           }
          ],
          "histogram": [
           {
            "marker": {
             "colorbar": {
              "outlinewidth": 0,
              "ticks": ""
             }
            },
            "type": "histogram"
           }
          ],
          "histogram2d": [
           {
            "colorbar": {
             "outlinewidth": 0,
             "ticks": ""
            },
            "colorscale": [
             [
              0,
              "#0d0887"
             ],
             [
              0.1111111111111111,
              "#46039f"
             ],
             [
              0.2222222222222222,
              "#7201a8"
             ],
             [
              0.3333333333333333,
              "#9c179e"
             ],
             [
              0.4444444444444444,
              "#bd3786"
             ],
             [
              0.5555555555555556,
              "#d8576b"
             ],
             [
              0.6666666666666666,
              "#ed7953"
             ],
             [
              0.7777777777777778,
              "#fb9f3a"
             ],
             [
              0.8888888888888888,
              "#fdca26"
             ],
             [
              1,
              "#f0f921"
             ]
            ],
            "type": "histogram2d"
           }
          ],
          "histogram2dcontour": [
           {
            "colorbar": {
             "outlinewidth": 0,
             "ticks": ""
            },
            "colorscale": [
             [
              0,
              "#0d0887"
             ],
             [
              0.1111111111111111,
              "#46039f"
             ],
             [
              0.2222222222222222,
              "#7201a8"
             ],
             [
              0.3333333333333333,
              "#9c179e"
             ],
             [
              0.4444444444444444,
              "#bd3786"
             ],
             [
              0.5555555555555556,
              "#d8576b"
             ],
             [
              0.6666666666666666,
              "#ed7953"
             ],
             [
              0.7777777777777778,
              "#fb9f3a"
             ],
             [
              0.8888888888888888,
              "#fdca26"
             ],
             [
              1,
              "#f0f921"
             ]
            ],
            "type": "histogram2dcontour"
           }
          ],
          "mesh3d": [
           {
            "colorbar": {
             "outlinewidth": 0,
             "ticks": ""
            },
            "type": "mesh3d"
           }
          ],
          "parcoords": [
           {
            "line": {
             "colorbar": {
              "outlinewidth": 0,
              "ticks": ""
             }
            },
            "type": "parcoords"
           }
          ],
          "pie": [
           {
            "automargin": true,
            "type": "pie"
           }
          ],
          "scatter": [
           {
            "marker": {
             "colorbar": {
              "outlinewidth": 0,
              "ticks": ""
             }
            },
            "type": "scatter"
           }
          ],
          "scatter3d": [
           {
            "line": {
             "colorbar": {
              "outlinewidth": 0,
              "ticks": ""
             }
            },
            "marker": {
             "colorbar": {
              "outlinewidth": 0,
              "ticks": ""
             }
            },
            "type": "scatter3d"
           }
          ],
          "scattercarpet": [
           {
            "marker": {
             "colorbar": {
              "outlinewidth": 0,
              "ticks": ""
             }
            },
            "type": "scattercarpet"
           }
          ],
          "scattergeo": [
           {
            "marker": {
             "colorbar": {
              "outlinewidth": 0,
              "ticks": ""
             }
            },
            "type": "scattergeo"
           }
          ],
          "scattergl": [
           {
            "marker": {
             "colorbar": {
              "outlinewidth": 0,
              "ticks": ""
             }
            },
            "type": "scattergl"
           }
          ],
          "scattermapbox": [
           {
            "marker": {
             "colorbar": {
              "outlinewidth": 0,
              "ticks": ""
             }
            },
            "type": "scattermapbox"
           }
          ],
          "scatterpolar": [
           {
            "marker": {
             "colorbar": {
              "outlinewidth": 0,
              "ticks": ""
             }
            },
            "type": "scatterpolar"
           }
          ],
          "scatterpolargl": [
           {
            "marker": {
             "colorbar": {
              "outlinewidth": 0,
              "ticks": ""
             }
            },
            "type": "scatterpolargl"
           }
          ],
          "scatterternary": [
           {
            "marker": {
             "colorbar": {
              "outlinewidth": 0,
              "ticks": ""
             }
            },
            "type": "scatterternary"
           }
          ],
          "surface": [
           {
            "colorbar": {
             "outlinewidth": 0,
             "ticks": ""
            },
            "colorscale": [
             [
              0,
              "#0d0887"
             ],
             [
              0.1111111111111111,
              "#46039f"
             ],
             [
              0.2222222222222222,
              "#7201a8"
             ],
             [
              0.3333333333333333,
              "#9c179e"
             ],
             [
              0.4444444444444444,
              "#bd3786"
             ],
             [
              0.5555555555555556,
              "#d8576b"
             ],
             [
              0.6666666666666666,
              "#ed7953"
             ],
             [
              0.7777777777777778,
              "#fb9f3a"
             ],
             [
              0.8888888888888888,
              "#fdca26"
             ],
             [
              1,
              "#f0f921"
             ]
            ],
            "type": "surface"
           }
          ],
          "table": [
           {
            "cells": {
             "fill": {
              "color": "#EBF0F8"
             },
             "line": {
              "color": "white"
             }
            },
            "header": {
             "fill": {
              "color": "#C8D4E3"
             },
             "line": {
              "color": "white"
             }
            },
            "type": "table"
           }
          ]
         },
         "layout": {
          "annotationdefaults": {
           "arrowcolor": "#2a3f5f",
           "arrowhead": 0,
           "arrowwidth": 1
          },
          "coloraxis": {
           "colorbar": {
            "outlinewidth": 0,
            "ticks": ""
           }
          },
          "colorscale": {
           "diverging": [
            [
             0,
             "#8e0152"
            ],
            [
             0.1,
             "#c51b7d"
            ],
            [
             0.2,
             "#de77ae"
            ],
            [
             0.3,
             "#f1b6da"
            ],
            [
             0.4,
             "#fde0ef"
            ],
            [
             0.5,
             "#f7f7f7"
            ],
            [
             0.6,
             "#e6f5d0"
            ],
            [
             0.7,
             "#b8e186"
            ],
            [
             0.8,
             "#7fbc41"
            ],
            [
             0.9,
             "#4d9221"
            ],
            [
             1,
             "#276419"
            ]
           ],
           "sequential": [
            [
             0,
             "#0d0887"
            ],
            [
             0.1111111111111111,
             "#46039f"
            ],
            [
             0.2222222222222222,
             "#7201a8"
            ],
            [
             0.3333333333333333,
             "#9c179e"
            ],
            [
             0.4444444444444444,
             "#bd3786"
            ],
            [
             0.5555555555555556,
             "#d8576b"
            ],
            [
             0.6666666666666666,
             "#ed7953"
            ],
            [
             0.7777777777777778,
             "#fb9f3a"
            ],
            [
             0.8888888888888888,
             "#fdca26"
            ],
            [
             1,
             "#f0f921"
            ]
           ],
           "sequentialminus": [
            [
             0,
             "#0d0887"
            ],
            [
             0.1111111111111111,
             "#46039f"
            ],
            [
             0.2222222222222222,
             "#7201a8"
            ],
            [
             0.3333333333333333,
             "#9c179e"
            ],
            [
             0.4444444444444444,
             "#bd3786"
            ],
            [
             0.5555555555555556,
             "#d8576b"
            ],
            [
             0.6666666666666666,
             "#ed7953"
            ],
            [
             0.7777777777777778,
             "#fb9f3a"
            ],
            [
             0.8888888888888888,
             "#fdca26"
            ],
            [
             1,
             "#f0f921"
            ]
           ]
          },
          "colorway": [
           "#636efa",
           "#EF553B",
           "#00cc96",
           "#ab63fa",
           "#FFA15A",
           "#19d3f3",
           "#FF6692",
           "#B6E880",
           "#FF97FF",
           "#FECB52"
          ],
          "font": {
           "color": "#2a3f5f"
          },
          "geo": {
           "bgcolor": "white",
           "lakecolor": "white",
           "landcolor": "#E5ECF6",
           "showlakes": true,
           "showland": true,
           "subunitcolor": "white"
          },
          "hoverlabel": {
           "align": "left"
          },
          "hovermode": "closest",
          "mapbox": {
           "style": "light"
          },
          "paper_bgcolor": "white",
          "plot_bgcolor": "#E5ECF6",
          "polar": {
           "angularaxis": {
            "gridcolor": "white",
            "linecolor": "white",
            "ticks": ""
           },
           "bgcolor": "#E5ECF6",
           "radialaxis": {
            "gridcolor": "white",
            "linecolor": "white",
            "ticks": ""
           }
          },
          "scene": {
           "xaxis": {
            "backgroundcolor": "#E5ECF6",
            "gridcolor": "white",
            "gridwidth": 2,
            "linecolor": "white",
            "showbackground": true,
            "ticks": "",
            "zerolinecolor": "white"
           },
           "yaxis": {
            "backgroundcolor": "#E5ECF6",
            "gridcolor": "white",
            "gridwidth": 2,
            "linecolor": "white",
            "showbackground": true,
            "ticks": "",
            "zerolinecolor": "white"
           },
           "zaxis": {
            "backgroundcolor": "#E5ECF6",
            "gridcolor": "white",
            "gridwidth": 2,
            "linecolor": "white",
            "showbackground": true,
            "ticks": "",
            "zerolinecolor": "white"
           }
          },
          "shapedefaults": {
           "line": {
            "color": "#2a3f5f"
           }
          },
          "ternary": {
           "aaxis": {
            "gridcolor": "white",
            "linecolor": "white",
            "ticks": ""
           },
           "baxis": {
            "gridcolor": "white",
            "linecolor": "white",
            "ticks": ""
           },
           "bgcolor": "#E5ECF6",
           "caxis": {
            "gridcolor": "white",
            "linecolor": "white",
            "ticks": ""
           }
          },
          "title": {
           "x": 0.05
          },
          "xaxis": {
           "automargin": true,
           "gridcolor": "white",
           "linecolor": "white",
           "ticks": "",
           "title": {
            "standoff": 15
           },
           "zerolinecolor": "white",
           "zerolinewidth": 2
          },
          "yaxis": {
           "automargin": true,
           "gridcolor": "white",
           "linecolor": "white",
           "ticks": "",
           "title": {
            "standoff": 15
           },
           "zerolinecolor": "white",
           "zerolinewidth": 2
          }
         }
        },
        "title": {
         "text": "A Map showing population"
        }
       }
      },
      "text/html": [
       "<div>\n",
       "        \n",
       "        \n",
       "            <div id=\"a6f35836-6e7b-4ef2-a069-30fa328e4464\" class=\"plotly-graph-div\" style=\"height:525px; width:100%;\"></div>\n",
       "            <script type=\"text/javascript\">\n",
       "                require([\"plotly\"], function(Plotly) {\n",
       "                    window.PLOTLYENV=window.PLOTLYENV || {};\n",
       "                    \n",
       "                if (document.getElementById(\"a6f35836-6e7b-4ef2-a069-30fa328e4464\")) {\n",
       "                    Plotly.newPlot(\n",
       "                        'a6f35836-6e7b-4ef2-a069-30fa328e4464',\n",
       "                        [{\"coloraxis\": \"coloraxis\", \"geo\": \"geo\", \"hovertemplate\": \"<b>%{hovertext}</b><br><br>Country Code=%{location}<br>Population (1000)=%{z}<extra></extra>\", \"hovertext\": [\"Monaco\", \"Japan\", \"Singapore\", \"San Marino\", \"Iceland\", \"Andorra\", \"Switzerland\", \"Israel\", \"Luxembourg\", \"Australia\", \"Italy\", \"Sweden\", \"Canada\", \"Liechtenstein\", \"France\", \"Norway\", \"Spain\", \"Austria\", \"Bermuda\", \"Netherlands\", \"Cayman Islands\", \"New Zealand\", \"Belgium\", \"Finland\", \"Ireland\", \"Puerto Rico\", \"Germany\", \"United Kingdom\", \"Greece\", \"Qatar\", \"Denmark\", \"Portugal\", \"Chile\", \"Cuba\", \"Cyprus\", \"United States\", \"Panama\", \"Czech Republic\", \"Costa Rica\", \"Albania\", \"Slovenia\", \"Dominican Republic\", \"Dominican Republic\", \"Kuwait\", \"New Caledonia\", \"St. Lucia\", \"Lebanon\", \"Poland\", \"United Arab Emirates\", \"Paraguay\", \"Uruguay\", \"Brunei Darussalam\", \"Argentina\", \"Slovak Republic\", \"Morocco\", \"Algeria\", \"Ecuador\", \"Sri Lanka\", \"Estonia\", \"China\", \"Antigua and Barbuda\", \"Libya\", \"Georgia\", \"North Macedonia\", \"Tonga\", \"Croatia\", \"Hungary\", \"Mexico\", \"Venezuela, RB\", \"Colombia\", \"Maldives\", \"Mauritius\", \"Oman\", \"Serbia\", \"Tunisia\", \"Solomon Islands\", \"St. Vincent and the Grenadines\", \"Barbados\", \"Saudi Arabia\", \"Romania\", \"Malaysia\", \"Syrian Arab Republic\", \"Lithuania\", \"Turkey\", \"Iraq\", \"El Salvador\", \"Seychelles\", \"Thailand\", \"Armenia\", \"Jordan\", \"Bulgaria\", \"Latvia\", \"Grenada\", \"Samoa\", \"Brazil\", \"Uzbekistan\", \"Peru\", \"Iran, Islamic Rep.\", \"Jamaica\", \"Vanuatu\", \"Vietnam\", \"Bangladesh\", \"Nicaragua\", \"American Samoa\", \"Palau\", \"Trinidad and Tobago\", \"Belarus\", \"Egypt, Arab Rep.\", \"Fiji\", \"Indonesia\", \"Azerbaijan\", \"Guatemala\", \"Suriname\", \"Ukraine\", \"Honduras\", \"Kazakhstan\", \"Moldova\", \"Nepal\", \"Russian Federation\", \"Kyrgyz Republic\", \"Bhutan\", \"Turkmenistan\", \"Mongolia\", \"Bolivia\", \"Philippines\", \"Belize\", \"India\", \"Guyana\", \"Pakistan\", \"Tajikistan\", \"Papua New Guinea\", \"Ghana\", \"Tuvalu\", \"Kiribati\", \"Madagascar\", \"Togo\", \"Eritrea\", \"Cambodia\", \"Lao PDR\", \"Comoros\", \"Equatorial Guinea\", \"Sudan\", \"Kenya\", \"Rwanda\", \"Haiti\", \"Namibia\", \"South Africa\", \"Djibouti\", \"Mauritania\", \"Botswana\", \"Liberia\", \"Ethiopia\", \"Tanzania\", \"Benin\", \"Senegal\", \"Malawi\", \"Guinea\", \"Burundi\", \"Zimbabwe\", \"Mali\", \"Angola\", \"Congo, Rep.\", \"Cameroon\", \"Sierra Leone\", \"Congo, Dem. Rep.\", \"Burkina Faso\", \"Niger\", \"Uganda\", \"Nigeria\", \"Mozambique\", \"Lesotho\", \"Somalia\", \"Central African Republic\", \"Zambia\", \"Gabon\", \"Afghanistan\", \"Guinea-Bissau\", \"Chad\"], \"locations\": [\"MCO\", \"JPN\", \"SGP\", \"SMR\", \"ISL\", \"AND\", \"CHE\", \"ISR\", \"LUX\", \"AUS\", \"ITA\", \"SWE\", \"CAN\", \"LIE\", \"FRA\", \"NOR\", \"ESP\", \"AUT\", \"BMU\", \"NLD\", \"CYM\", \"NZL\", \"BEL\", \"FIN\", \"IRL\", \"PRI\", \"DEU\", \"GBR\", \"GRC\", \"QAT\", \"DNK\", \"PRT\", \"CHL\", \"CUB\", \"CYP\", \"USA\", \"PAN\", \"CZE\", \"CRI\", \"ALB\", \"SVN\", \"DOM\", \"DOM\", \"KWT\", \"NCL\", \"LCA\", \"LBN\", \"POL\", \"ARE\", \"PRY\", \"URY\", \"BRN\", \"ARG\", \"SVK\", \"MAR\", \"DZA\", \"ECU\", \"LKA\", \"EST\", \"CHN\", \"ATG\", \"LBY\", \"GEO\", \"MKD\", \"TON\", \"HRV\", \"HUN\", \"MEX\", \"VEN\", \"COL\", \"MDV\", \"MUS\", \"OMN\", \"SRB\", \"TUN\", \"SLB\", \"VCT\", \"BRB\", \"SAU\", \"ROU\", \"MYS\", \"SYR\", \"LTU\", \"TUR\", \"IRQ\", \"SLV\", \"SYC\", \"THA\", \"ARM\", \"JOR\", \"BGR\", \"LVA\", \"GRD\", \"WSM\", \"BRA\", \"UZB\", \"PER\", \"IRN\", \"JAM\", \"VUT\", \"VNM\", \"BGD\", \"NIC\", \"ASM\", \"PLW\", \"TTO\", \"BLR\", \"EGY\", \"FJI\", \"IDN\", \"AZE\", \"GTM\", \"SUR\", \"UKR\", \"HND\", \"KAZ\", \"MDA\", \"NPL\", \"RUS\", \"KGZ\", \"BTN\", \"TKM\", \"MNG\", \"BOL\", \"PHL\", \"BLZ\", \"IND\", \"GUY\", \"PAK\", \"TJK\", \"PNG\", \"GHA\", \"TUV\", \"KIR\", \"MDG\", \"TGO\", \"ERI\", \"KHM\", \"LAO\", \"COM\", \"GNQ\", \"SDN\", \"KEN\", \"RWA\", \"HTI\", \"NAM\", \"ZAF\", \"DJI\", \"MRT\", \"BWA\", \"LBR\", \"ETH\", \"TZA\", \"BEN\", \"SEN\", \"MWI\", \"GIN\", \"BDI\", \"ZWE\", \"MLI\", \"AGO\", \"COG\", \"CMR\", \"SLE\", \"COD\", \"BFA\", \"NER\", \"UGA\", \"NGA\", \"MOZ\", \"LSO\", \"SOM\", \"CAF\", \"ZMB\", \"GAB\", \"AFG\", \"GNB\", \"TCD\"], \"name\": \"\", \"type\": \"choropleth\", \"z\": [38.964, 126264.931, 5703.569, 33.86, 361.313, 77.142, 8574.832, 9053.3, 619.896, 25364.307, 60297.396, 10285.453, 37589.262, 38.019, 67059.887, 5347.896, 47076.781, 8877.067, 63.918, 17332.85, 64.948, 4917.0, 11484.055, 5520.314, 4941.444, 3193.694, 83132.799, 66834.405, 10716.322, 2832.067, 5818.553, 10269.417, 18952.038, 11333.483, 1198.575, 328239.523, 4246.439, 10669.709, 5047.561, 2854.191, 2087.946, 10738.958, 10738.958, 4207.083, 287.8, 182.79, 6855.713, 37970.874, 9770.529, 7044.636, 3461.734, 433.285, 44938.712, 5454.073, 36471.769, 43053.054, 17373.662, 21803.0, 1326.59, 1397715.0, 97.118, 6777.452, 3720.382, 2083.459, 104.494, 4067.5, 9769.949, 127575.529, 28515.829, 50339.443, 530.953, 1265.711, 4974.986, 6944.975, 11694.719, 669.823, 110.589, 287.025, 34268.528, 19356.544, 31949.777, 17070.135, 2786.844, 83429.615, 39309.783, 6453.553, 97.625, 69625.582, 2957.731, 10101.694, 6975.761, 1912.789, 112.003, 197.097, 211049.527, 33580.65, 32510.453, 82913.906, 2948.279, 299.882, 96462.106, 163046.161, 6545.502, 55.312, 18.008, 1394.973, 9466.856, 100388.073, 889.953, 270625.568, 10023.318, 16604.026, 581.372, 44385.155, 9746.117, 18513.93, 2657.637, 28608.71, 144373.535, 6456.9, 763.092, 5942.089, 3225.167, 11513.1, 108116.615, 390.353, 1366417.754, 782.766, 216565.318, 9321.018, 8776.109, 30417.856, 11.646, 117.606, 26969.307, 8082.366, null, 16486.542, 7169.455, 850.886, 1355.986, 42813.238, 52573.973, 12626.95, 11263.077, 2494.53, 58558.27, 973.56, 4525.696, 2303.697, 4937.374, 112078.73, 58005.463, 11801.151, 16296.364, 18628.747, 12771.246, 11530.58, 14645.468, 19658.031, 31825.295, 5380.508, 25876.38, 7813.215, 86790.567, 20321.378, 23310.715, 44269.594, 200963.599, 30366.036, 2125.268, 15442.905, 4745.185, 17861.03, 2172.579, 38041.754, 1920.922, 15946.876]}],\n",
       "                        {\"coloraxis\": {\"colorbar\": {\"title\": {\"text\": \"Population (1000)\"}}, \"colorscale\": [[0.0, \"#0d0887\"], [0.1111111111111111, \"#46039f\"], [0.2222222222222222, \"#7201a8\"], [0.3333333333333333, \"#9c179e\"], [0.4444444444444444, \"#bd3786\"], [0.5555555555555556, \"#d8576b\"], [0.6666666666666666, \"#ed7953\"], [0.7777777777777778, \"#fb9f3a\"], [0.8888888888888888, \"#fdca26\"], [1.0, \"#f0f921\"]]}, \"geo\": {\"center\": {}, \"domain\": {\"x\": [0.0, 1.0], \"y\": [0.0, 1.0]}}, \"legend\": {\"tracegroupgap\": 0}, \"margin\": {\"t\": 60}, \"template\": {\"data\": {\"bar\": [{\"error_x\": {\"color\": \"#2a3f5f\"}, \"error_y\": {\"color\": \"#2a3f5f\"}, \"marker\": {\"line\": {\"color\": \"#E5ECF6\", \"width\": 0.5}}, \"type\": \"bar\"}], \"barpolar\": [{\"marker\": {\"line\": {\"color\": \"#E5ECF6\", \"width\": 0.5}}, \"type\": \"barpolar\"}], \"carpet\": [{\"aaxis\": {\"endlinecolor\": \"#2a3f5f\", \"gridcolor\": \"white\", \"linecolor\": \"white\", \"minorgridcolor\": \"white\", \"startlinecolor\": \"#2a3f5f\"}, \"baxis\": {\"endlinecolor\": \"#2a3f5f\", \"gridcolor\": \"white\", \"linecolor\": \"white\", \"minorgridcolor\": \"white\", \"startlinecolor\": \"#2a3f5f\"}, \"type\": \"carpet\"}], \"choropleth\": [{\"colorbar\": {\"outlinewidth\": 0, \"ticks\": \"\"}, \"type\": \"choropleth\"}], \"contour\": [{\"colorbar\": {\"outlinewidth\": 0, \"ticks\": \"\"}, \"colorscale\": [[0.0, \"#0d0887\"], [0.1111111111111111, \"#46039f\"], [0.2222222222222222, \"#7201a8\"], [0.3333333333333333, \"#9c179e\"], [0.4444444444444444, \"#bd3786\"], [0.5555555555555556, \"#d8576b\"], [0.6666666666666666, \"#ed7953\"], [0.7777777777777778, \"#fb9f3a\"], [0.8888888888888888, \"#fdca26\"], [1.0, \"#f0f921\"]], \"type\": \"contour\"}], \"contourcarpet\": [{\"colorbar\": {\"outlinewidth\": 0, \"ticks\": \"\"}, \"type\": \"contourcarpet\"}], \"heatmap\": [{\"colorbar\": {\"outlinewidth\": 0, \"ticks\": \"\"}, \"colorscale\": [[0.0, \"#0d0887\"], [0.1111111111111111, \"#46039f\"], [0.2222222222222222, \"#7201a8\"], [0.3333333333333333, \"#9c179e\"], [0.4444444444444444, \"#bd3786\"], [0.5555555555555556, \"#d8576b\"], [0.6666666666666666, \"#ed7953\"], [0.7777777777777778, \"#fb9f3a\"], [0.8888888888888888, \"#fdca26\"], [1.0, \"#f0f921\"]], \"type\": \"heatmap\"}], \"heatmapgl\": [{\"colorbar\": {\"outlinewidth\": 0, \"ticks\": \"\"}, \"colorscale\": [[0.0, \"#0d0887\"], [0.1111111111111111, \"#46039f\"], [0.2222222222222222, \"#7201a8\"], [0.3333333333333333, \"#9c179e\"], [0.4444444444444444, \"#bd3786\"], [0.5555555555555556, \"#d8576b\"], [0.6666666666666666, \"#ed7953\"], [0.7777777777777778, \"#fb9f3a\"], [0.8888888888888888, \"#fdca26\"], [1.0, \"#f0f921\"]], \"type\": \"heatmapgl\"}], \"histogram\": [{\"marker\": {\"colorbar\": {\"outlinewidth\": 0, \"ticks\": \"\"}}, \"type\": \"histogram\"}], \"histogram2d\": [{\"colorbar\": {\"outlinewidth\": 0, \"ticks\": \"\"}, \"colorscale\": [[0.0, \"#0d0887\"], [0.1111111111111111, \"#46039f\"], [0.2222222222222222, \"#7201a8\"], [0.3333333333333333, \"#9c179e\"], [0.4444444444444444, \"#bd3786\"], [0.5555555555555556, \"#d8576b\"], [0.6666666666666666, \"#ed7953\"], [0.7777777777777778, \"#fb9f3a\"], [0.8888888888888888, \"#fdca26\"], [1.0, \"#f0f921\"]], \"type\": \"histogram2d\"}], \"histogram2dcontour\": [{\"colorbar\": {\"outlinewidth\": 0, \"ticks\": \"\"}, \"colorscale\": [[0.0, \"#0d0887\"], [0.1111111111111111, \"#46039f\"], [0.2222222222222222, \"#7201a8\"], [0.3333333333333333, \"#9c179e\"], [0.4444444444444444, \"#bd3786\"], [0.5555555555555556, \"#d8576b\"], [0.6666666666666666, \"#ed7953\"], [0.7777777777777778, \"#fb9f3a\"], [0.8888888888888888, \"#fdca26\"], [1.0, \"#f0f921\"]], \"type\": \"histogram2dcontour\"}], \"mesh3d\": [{\"colorbar\": {\"outlinewidth\": 0, \"ticks\": \"\"}, \"type\": \"mesh3d\"}], \"parcoords\": [{\"line\": {\"colorbar\": {\"outlinewidth\": 0, \"ticks\": \"\"}}, \"type\": \"parcoords\"}], \"pie\": [{\"automargin\": true, \"type\": \"pie\"}], \"scatter\": [{\"marker\": {\"colorbar\": {\"outlinewidth\": 0, \"ticks\": \"\"}}, \"type\": \"scatter\"}], \"scatter3d\": [{\"line\": {\"colorbar\": {\"outlinewidth\": 0, \"ticks\": \"\"}}, \"marker\": {\"colorbar\": {\"outlinewidth\": 0, \"ticks\": \"\"}}, \"type\": \"scatter3d\"}], \"scattercarpet\": [{\"marker\": {\"colorbar\": {\"outlinewidth\": 0, \"ticks\": \"\"}}, \"type\": \"scattercarpet\"}], \"scattergeo\": [{\"marker\": {\"colorbar\": {\"outlinewidth\": 0, \"ticks\": \"\"}}, \"type\": \"scattergeo\"}], \"scattergl\": [{\"marker\": {\"colorbar\": {\"outlinewidth\": 0, \"ticks\": \"\"}}, \"type\": \"scattergl\"}], \"scattermapbox\": [{\"marker\": {\"colorbar\": {\"outlinewidth\": 0, \"ticks\": \"\"}}, \"type\": \"scattermapbox\"}], \"scatterpolar\": [{\"marker\": {\"colorbar\": {\"outlinewidth\": 0, \"ticks\": \"\"}}, \"type\": \"scatterpolar\"}], \"scatterpolargl\": [{\"marker\": {\"colorbar\": {\"outlinewidth\": 0, \"ticks\": \"\"}}, \"type\": \"scatterpolargl\"}], \"scatterternary\": [{\"marker\": {\"colorbar\": {\"outlinewidth\": 0, \"ticks\": \"\"}}, \"type\": \"scatterternary\"}], \"surface\": [{\"colorbar\": {\"outlinewidth\": 0, \"ticks\": \"\"}, \"colorscale\": [[0.0, \"#0d0887\"], [0.1111111111111111, \"#46039f\"], [0.2222222222222222, \"#7201a8\"], [0.3333333333333333, \"#9c179e\"], [0.4444444444444444, \"#bd3786\"], [0.5555555555555556, \"#d8576b\"], [0.6666666666666666, \"#ed7953\"], [0.7777777777777778, \"#fb9f3a\"], [0.8888888888888888, \"#fdca26\"], [1.0, \"#f0f921\"]], \"type\": \"surface\"}], \"table\": [{\"cells\": {\"fill\": {\"color\": \"#EBF0F8\"}, \"line\": {\"color\": \"white\"}}, \"header\": {\"fill\": {\"color\": \"#C8D4E3\"}, \"line\": {\"color\": \"white\"}}, \"type\": \"table\"}]}, \"layout\": {\"annotationdefaults\": {\"arrowcolor\": \"#2a3f5f\", \"arrowhead\": 0, \"arrowwidth\": 1}, \"coloraxis\": {\"colorbar\": {\"outlinewidth\": 0, \"ticks\": \"\"}}, \"colorscale\": {\"diverging\": [[0, \"#8e0152\"], [0.1, \"#c51b7d\"], [0.2, \"#de77ae\"], [0.3, \"#f1b6da\"], [0.4, \"#fde0ef\"], [0.5, \"#f7f7f7\"], [0.6, \"#e6f5d0\"], [0.7, \"#b8e186\"], [0.8, \"#7fbc41\"], [0.9, \"#4d9221\"], [1, \"#276419\"]], \"sequential\": [[0.0, \"#0d0887\"], [0.1111111111111111, \"#46039f\"], [0.2222222222222222, \"#7201a8\"], [0.3333333333333333, \"#9c179e\"], [0.4444444444444444, \"#bd3786\"], [0.5555555555555556, \"#d8576b\"], [0.6666666666666666, \"#ed7953\"], [0.7777777777777778, \"#fb9f3a\"], [0.8888888888888888, \"#fdca26\"], [1.0, \"#f0f921\"]], \"sequentialminus\": [[0.0, \"#0d0887\"], [0.1111111111111111, \"#46039f\"], [0.2222222222222222, \"#7201a8\"], [0.3333333333333333, \"#9c179e\"], [0.4444444444444444, \"#bd3786\"], [0.5555555555555556, \"#d8576b\"], [0.6666666666666666, \"#ed7953\"], [0.7777777777777778, \"#fb9f3a\"], [0.8888888888888888, \"#fdca26\"], [1.0, \"#f0f921\"]]}, \"colorway\": [\"#636efa\", \"#EF553B\", \"#00cc96\", \"#ab63fa\", \"#FFA15A\", \"#19d3f3\", \"#FF6692\", \"#B6E880\", \"#FF97FF\", \"#FECB52\"], \"font\": {\"color\": \"#2a3f5f\"}, \"geo\": {\"bgcolor\": \"white\", \"lakecolor\": \"white\", \"landcolor\": \"#E5ECF6\", \"showlakes\": true, \"showland\": true, \"subunitcolor\": \"white\"}, \"hoverlabel\": {\"align\": \"left\"}, \"hovermode\": \"closest\", \"mapbox\": {\"style\": \"light\"}, \"paper_bgcolor\": \"white\", \"plot_bgcolor\": \"#E5ECF6\", \"polar\": {\"angularaxis\": {\"gridcolor\": \"white\", \"linecolor\": \"white\", \"ticks\": \"\"}, \"bgcolor\": \"#E5ECF6\", \"radialaxis\": {\"gridcolor\": \"white\", \"linecolor\": \"white\", \"ticks\": \"\"}}, \"scene\": {\"xaxis\": {\"backgroundcolor\": \"#E5ECF6\", \"gridcolor\": \"white\", \"gridwidth\": 2, \"linecolor\": \"white\", \"showbackground\": true, \"ticks\": \"\", \"zerolinecolor\": \"white\"}, \"yaxis\": {\"backgroundcolor\": \"#E5ECF6\", \"gridcolor\": \"white\", \"gridwidth\": 2, \"linecolor\": \"white\", \"showbackground\": true, \"ticks\": \"\", \"zerolinecolor\": \"white\"}, \"zaxis\": {\"backgroundcolor\": \"#E5ECF6\", \"gridcolor\": \"white\", \"gridwidth\": 2, \"linecolor\": \"white\", \"showbackground\": true, \"ticks\": \"\", \"zerolinecolor\": \"white\"}}, \"shapedefaults\": {\"line\": {\"color\": \"#2a3f5f\"}}, \"ternary\": {\"aaxis\": {\"gridcolor\": \"white\", \"linecolor\": \"white\", \"ticks\": \"\"}, \"baxis\": {\"gridcolor\": \"white\", \"linecolor\": \"white\", \"ticks\": \"\"}, \"bgcolor\": \"#E5ECF6\", \"caxis\": {\"gridcolor\": \"white\", \"linecolor\": \"white\", \"ticks\": \"\"}}, \"title\": {\"x\": 0.05}, \"xaxis\": {\"automargin\": true, \"gridcolor\": \"white\", \"linecolor\": \"white\", \"ticks\": \"\", \"title\": {\"standoff\": 15}, \"zerolinecolor\": \"white\", \"zerolinewidth\": 2}, \"yaxis\": {\"automargin\": true, \"gridcolor\": \"white\", \"linecolor\": \"white\", \"ticks\": \"\", \"title\": {\"standoff\": 15}, \"zerolinecolor\": \"white\", \"zerolinewidth\": 2}}}, \"title\": {\"text\": \"A Map showing population\"}},\n",
       "                        {\"responsive\": true}\n",
       "                    ).then(function(){\n",
       "                            \n",
       "var gd = document.getElementById('a6f35836-6e7b-4ef2-a069-30fa328e4464');\n",
       "var x = new MutationObserver(function (mutations, observer) {{\n",
       "        var display = window.getComputedStyle(gd).display;\n",
       "        if (!display || display === 'none') {{\n",
       "            console.log([gd, 'removed!']);\n",
       "            Plotly.purge(gd);\n",
       "            observer.disconnect();\n",
       "        }}\n",
       "}});\n",
       "\n",
       "// Listen for the removal of the full notebook cells\n",
       "var notebookContainer = gd.closest('#notebook-container');\n",
       "if (notebookContainer) {{\n",
       "    x.observe(notebookContainer, {childList: true});\n",
       "}}\n",
       "\n",
       "// Listen for the clearing of the current output cell\n",
       "var outputEl = gd.closest('.output');\n",
       "if (outputEl) {{\n",
       "    x.observe(outputEl, {childList: true});\n",
       "}}\n",
       "\n",
       "                        })\n",
       "                };\n",
       "                });\n",
       "            </script>\n",
       "        </div>"
      ]
     },
     "metadata": {},
     "output_type": "display_data"
    }
   ],
   "source": [
    "#showing map view of population\n",
    "fig = px.choropleth(df3, locations=\"Country Code\", color=\"Population (1000)\", hover_name=\"Country Name\",\n",
    "                    color_continuous_scale=\"Plasma\")\n",
    "fig.update_layout(title=\"A Map showing population\")\n",
    "fig.show()"
   ]
  },
  {
   "cell_type": "code",
   "execution_count": 56,
   "metadata": {},
   "outputs": [
    {
     "data": {
      "application/vnd.plotly.v1+json": {
       "config": {
        "plotlyServerURL": "https://plot.ly"
       },
       "data": [
        {
         "coloraxis": "coloraxis",
         "customdata": [
          [
           "Monaco",
           89.4
          ],
          [
           "Japan",
           85.3
          ],
          [
           "Singapore",
           85.2
          ],
          [
           "San Marino",
           83.3
          ],
          [
           "Iceland",
           83.1
          ],
          [
           "Andorra",
           82.9
          ],
          [
           "Switzerland",
           82.6
          ],
          [
           "Israel",
           82.5
          ],
          [
           "Luxembourg",
           82.3
          ],
          [
           "Australia",
           82.3
          ],
          [
           "Italy",
           82.3
          ],
          [
           "Sweden",
           82.1
          ],
          [
           "Canada",
           81.9
          ],
          [
           "Liechtenstein",
           81.9
          ],
          [
           "France",
           81.9
          ],
          [
           "Norway",
           81.9
          ],
          [
           "Spain",
           81.8
          ],
          [
           "Austria",
           81.6
          ],
          [
           "Bermuda",
           81.4
          ],
          [
           "Netherlands",
           81.4
          ],
          [
           "Cayman Islands",
           81.3
          ],
          [
           "New Zealand",
           81.3
          ],
          [
           "Belgium",
           81.1
          ],
          [
           "Finland",
           81
          ],
          [
           "Ireland",
           80.9
          ],
          [
           "Puerto Rico",
           80.9
          ],
          [
           "Germany",
           80.8
          ],
          [
           "United Kingdom",
           80.8
          ],
          [
           "Greece",
           80.7
          ],
          [
           "Qatar",
           80
          ],
          [
           "Denmark",
           79.5
          ],
          [
           "Portugal",
           79.4
          ],
          [
           "Chile",
           78.9
          ],
          [
           "Cuba",
           78.8
          ],
          [
           "Cyprus",
           78.8
          ],
          [
           "United States",
           78.8
          ],
          [
           "Panama",
           78.8
          ],
          [
           "Czech Republic",
           78.8
          ],
          [
           "Costa Rica",
           78.7
          ],
          [
           "Albania",
           78.5
          ],
          [
           "Slovenia",
           78.3
          ],
          [
           "Dominican Republic",
           78.3
          ],
          [
           "Dominican Republic",
           77.2
          ],
          [
           "Kuwait",
           78.2
          ],
          [
           "New Caledonia",
           77.9
          ],
          [
           "St. Lucia",
           77.9
          ],
          [
           "Lebanon",
           77.8
          ],
          [
           "Poland",
           77.8
          ],
          [
           "United Arab Emirates",
           77.7
          ],
          [
           "Paraguay",
           77.4
          ],
          [
           "Uruguay",
           77.4
          ],
          [
           "Brunei Darussalam",
           77.3
          ],
          [
           "Argentina",
           77.3
          ],
          [
           "Slovak Republic",
           77.3
          ],
          [
           "Morocco",
           77.1
          ],
          [
           "Algeria",
           77
          ],
          [
           "Ecuador",
           77
          ],
          [
           "Sri Lanka",
           76.9
          ],
          [
           "Estonia",
           76.9
          ],
          [
           "China",
           76.7
          ],
          [
           "Antigua and Barbuda",
           76.7
          ],
          [
           "Libya",
           76.7
          ],
          [
           "Georgia",
           76.4
          ],
          [
           "North Macedonia",
           76.4
          ],
          [
           "Tonga",
           76.4
          ],
          [
           "Croatia",
           76.1
          ],
          [
           "Hungary",
           76.1
          ],
          [
           "Mexico",
           76.1
          ],
          [
           "Venezuela, RB",
           76
          ],
          [
           "Colombia",
           75.9
          ],
          [
           "Maldives",
           75.8
          ],
          [
           "Mauritius",
           75.8
          ],
          [
           "Oman",
           75.7
          ],
          [
           "Serbia",
           75.7
          ],
          [
           "Tunisia",
           75.7
          ],
          [
           "Solomon Islands",
           75.6
          ],
          [
           "St. Vincent and the Grenadines",
           73.5
          ],
          [
           "Barbados",
           75.5
          ],
          [
           "Saudi Arabia",
           75.5
          ],
          [
           "Romania",
           75.4
          ],
          [
           "Malaysia",
           75.2
          ],
          [
           "Syrian Arab Republic",
           75.1
          ],
          [
           "Lithuania",
           75
          ],
          [
           "Turkey",
           75
          ],
          [
           "Iraq",
           74.9
          ],
          [
           "El Salvador",
           74.9
          ],
          [
           "Seychelles",
           74.9
          ],
          [
           "Thailand",
           74.9
          ],
          [
           "Armenia",
           74.9
          ],
          [
           "Jordan",
           74.8
          ],
          [
           "Bulgaria",
           74.7
          ],
          [
           "Latvia",
           74.7
          ],
          [
           "Grenada",
           74.5
          ],
          [
           "Samoa",
           74
          ],
          [
           "Brazil",
           74
          ],
          [
           "Uzbekistan",
           74
          ],
          [
           "Peru",
           74
          ],
          [
           "Iran, Islamic Rep.",
           74
          ],
          [
           "Jamaica",
           73.7
          ],
          [
           "Vanuatu",
           73.7
          ],
          [
           "Vietnam",
           73.7
          ],
          [
           "Bangladesh",
           73.4
          ],
          [
           "Nicaragua",
           73.4
          ],
          [
           "American Samoa",
           73.4
          ],
          [
           "Palau",
           73.4
          ],
          [
           "Trinidad and Tobago",
           73.1
          ],
          [
           "Belarus",
           73
          ],
          [
           "Egypt, Arab Rep.",
           73
          ],
          [
           "Fiji",
           73
          ],
          [
           "Indonesia",
           73
          ],
          [
           "Azerbaijan",
           72.8
          ],
          [
           "Guatemala",
           72.6
          ],
          [
           "Suriname",
           72.5
          ],
          [
           "Ukraine",
           72.1
          ],
          [
           "Honduras",
           71.2
          ],
          [
           "Kazakhstan",
           71.1
          ],
          [
           "Moldova",
           71
          ],
          [
           "Nepal",
           71
          ],
          [
           "Russian Federation",
           71
          ],
          [
           "Kyrgyz Republic",
           70.9
          ],
          [
           "Bhutan",
           70.6
          ],
          [
           "Turkmenistan",
           70.4
          ],
          [
           "Mongolia",
           69.9
          ],
          [
           "Bolivia",
           69.5
          ],
          [
           "Philippines",
           69.4
          ],
          [
           "Belize",
           68.9
          ],
          [
           "India",
           68.8
          ],
          [
           "Guyana",
           68.6
          ],
          [
           "Pakistan",
           68.1
          ],
          [
           "Tajikistan",
           68.1
          ],
          [
           "Papua New Guinea",
           67.3
          ],
          [
           "Ghana",
           67
          ],
          [
           "Tuvalu",
           66.9
          ],
          [
           "Kiribati",
           66.5
          ],
          [
           "Madagascar",
           66.3
          ],
          [
           "Togo",
           65.4
          ],
          [
           "Eritrea",
           65.2
          ],
          [
           "Cambodia",
           64.9
          ],
          [
           "Lao PDR",
           64.6
          ],
          [
           "Comoros",
           64.6
          ],
          [
           "Equatorial Guinea",
           64.6
          ],
          [
           "Sudan",
           64.4
          ],
          [
           "Kenya",
           64.3
          ],
          [
           "Rwanda",
           64.3
          ],
          [
           "Haiti",
           64.2
          ],
          [
           "Namibia",
           64
          ],
          [
           "South Africa",
           63.8
          ],
          [
           "Djibouti",
           63.6
          ],
          [
           "Mauritania",
           63.4
          ],
          [
           "Botswana",
           63.3
          ],
          [
           "Liberia",
           63.3
          ],
          [
           "Ethiopia",
           62.6
          ],
          [
           "Tanzania",
           62.6
          ],
          [
           "Benin",
           62.3
          ],
          [
           "Senegal",
           62.1
          ],
          [
           "Malawi",
           61.7
          ],
          [
           "Guinea",
           61
          ],
          [
           "Burundi",
           60.9
          ],
          [
           "Zimbabwe",
           60.4
          ],
          [
           "Mali",
           60.3
          ],
          [
           "Angola",
           60.2
          ],
          [
           "Congo, Rep.",
           59.8
          ],
          [
           "Cameroon",
           59
          ],
          [
           "Sierra Leone",
           58.6
          ],
          [
           "Congo, Dem. Rep.",
           57.7
          ],
          [
           "Burkina Faso",
           55.9
          ],
          [
           "Niger",
           55.9
          ],
          [
           "Uganda",
           55.9
          ],
          [
           "Nigeria",
           53.8
          ],
          [
           "Mozambique",
           53.7
          ],
          [
           "Lesotho",
           53
          ],
          [
           "Somalia",
           52.8
          ],
          [
           "Central African Republic",
           52.8
          ],
          [
           "Zambia",
           52.7
          ],
          [
           "Gabon",
           52.1
          ],
          [
           "Afghanistan",
           51.7
          ],
          [
           "Guinea-Bissau",
           51
          ],
          [
           "Chad",
           50.6
          ]
         ],
         "geo": "geo",
         "hovertemplate": "Country Code=%{location}<br>Country Name=%{customdata[0]}<br>Average=%{customdata[1]}<br>Forest area (1000 ha)=%{z}<extra></extra>",
         "locations": [
          "MCO",
          "JPN",
          "SGP",
          "SMR",
          "ISL",
          "AND",
          "CHE",
          "ISR",
          "LUX",
          "AUS",
          "ITA",
          "SWE",
          "CAN",
          "LIE",
          "FRA",
          "NOR",
          "ESP",
          "AUT",
          "BMU",
          "NLD",
          "CYM",
          "NZL",
          "BEL",
          "FIN",
          "IRL",
          "PRI",
          "DEU",
          "GBR",
          "GRC",
          "QAT",
          "DNK",
          "PRT",
          "CHL",
          "CUB",
          "CYP",
          "USA",
          "PAN",
          "CZE",
          "CRI",
          "ALB",
          "SVN",
          "DOM",
          "DOM",
          "KWT",
          "NCL",
          "LCA",
          "LBN",
          "POL",
          "ARE",
          "PRY",
          "URY",
          "BRN",
          "ARG",
          "SVK",
          "MAR",
          "DZA",
          "ECU",
          "LKA",
          "EST",
          "CHN",
          "ATG",
          "LBY",
          "GEO",
          "MKD",
          "TON",
          "HRV",
          "HUN",
          "MEX",
          "VEN",
          "COL",
          "MDV",
          "MUS",
          "OMN",
          "SRB",
          "TUN",
          "SLB",
          "VCT",
          "BRB",
          "SAU",
          "ROU",
          "MYS",
          "SYR",
          "LTU",
          "TUR",
          "IRQ",
          "SLV",
          "SYC",
          "THA",
          "ARM",
          "JOR",
          "BGR",
          "LVA",
          "GRD",
          "WSM",
          "BRA",
          "UZB",
          "PER",
          "IRN",
          "JAM",
          "VUT",
          "VNM",
          "BGD",
          "NIC",
          "ASM",
          "PLW",
          "TTO",
          "BLR",
          "EGY",
          "FJI",
          "IDN",
          "AZE",
          "GTM",
          "SUR",
          "UKR",
          "HND",
          "KAZ",
          "MDA",
          "NPL",
          "RUS",
          "KGZ",
          "BTN",
          "TKM",
          "MNG",
          "BOL",
          "PHL",
          "BLZ",
          "IND",
          "GUY",
          "PAK",
          "TJK",
          "PNG",
          "GHA",
          "TUV",
          "KIR",
          "MDG",
          "TGO",
          "ERI",
          "KHM",
          "LAO",
          "COM",
          "GNQ",
          "SDN",
          "KEN",
          "RWA",
          "HTI",
          "NAM",
          "ZAF",
          "DJI",
          "MRT",
          "BWA",
          "LBR",
          "ETH",
          "TZA",
          "BEN",
          "SEN",
          "MWI",
          "GIN",
          "BDI",
          "ZWE",
          "MLI",
          "AGO",
          "COG",
          "CMR",
          "SLE",
          "COD",
          "BFA",
          "NER",
          "UGA",
          "NGA",
          "MOZ",
          "LSO",
          "SOM",
          "CAF",
          "ZMB",
          "GAB",
          "AFG",
          "GNB",
          "TCD"
         ],
         "name": "",
         "type": "choropleth",
         "z": [
          0,
          24935,
          16,
          1,
          51,
          16,
          1269,
          140,
          89,
          134005,
          9566,
          27980,
          346928,
          7,
          17253,
          12180,
          18572,
          3899,
          1,
          370,
          13,
          9893,
          689,
          22409,
          782,
          496,
          11419,
          3190,
          3902,
          0,
          628,
          3312,
          18211,
          3242,
          173,
          309795,
          4214,
          2677,
          3035,
          789,
          1238,
          2144,
          48,
          6,
          838,
          21,
          143,
          9483,
          317,
          16102,
          2031,
          380,
          28573,
          1926,
          5742,
          1949,
          12498,
          2113,
          2438,
          219978,
          8,
          217,
          2822,
          1001,
          9,
          1939,
          2053,
          65692,
          46231,
          59142,
          1,
          39,
          3,
          2723,
          703,
          2523,
          29,
          6,
          977,
          6929,
          19114,
          522,
          2201,
          22220,
          825,
          584,
          34,
          19873,
          328,
          98,
          3893,
          3411,
          18,
          162,
          496620,
          3690,
          72330,
          10752,
          597,
          442,
          14643,
          1883,
          3408,
          17,
          41,
          228,
          8768,
          45,
          1140,
          92133,
          1132,
          3528,
          15196,
          9690,
          6359,
          3455,
          387,
          5962,
          815312,
          1315,
          2725,
          4127,
          14173,
          50834,
          7189,
          1277,
          72160,
          18415,
          3726,
          424,
          35856,
          7986,
          1,
          1,
          12430,
          1209,
          1055,
          8068,
          16596,
          33,
          2448,
          18360,
          3611,
          276,
          347,
          6639,
          17050,
          6,
          313,
          15255,
          7617,
          17069,
          45745,
          3135,
          8068,
          2242,
          6189,
          280,
          17445,
          13296,
          66607,
          21946,
          20340,
          2535,
          126155,
          6216,
          1080,
          2338,
          21627,
          36744,
          35,
          5980,
          22303,
          44814,
          23531,
          1208,
          1980,
          4313
         ]
        }
       ],
       "layout": {
        "coloraxis": {
         "colorbar": {
          "title": {
           "text": "Forest area (1000 ha)"
          }
         },
         "colorscale": [
          [
           0,
           "#0d0887"
          ],
          [
           0.1111111111111111,
           "#46039f"
          ],
          [
           0.2222222222222222,
           "#7201a8"
          ],
          [
           0.3333333333333333,
           "#9c179e"
          ],
          [
           0.4444444444444444,
           "#bd3786"
          ],
          [
           0.5555555555555556,
           "#d8576b"
          ],
          [
           0.6666666666666666,
           "#ed7953"
          ],
          [
           0.7777777777777778,
           "#fb9f3a"
          ],
          [
           0.8888888888888888,
           "#fdca26"
          ],
          [
           1,
           "#f0f921"
          ]
         ]
        },
        "geo": {
         "center": {},
         "domain": {
          "x": [
           0,
           1
          ],
          "y": [
           0,
           1
          ]
         }
        },
        "legend": {
         "tracegroupgap": 0
        },
        "margin": {
         "t": 60
        },
        "template": {
         "data": {
          "bar": [
           {
            "error_x": {
             "color": "#2a3f5f"
            },
            "error_y": {
             "color": "#2a3f5f"
            },
            "marker": {
             "line": {
              "color": "#E5ECF6",
              "width": 0.5
             }
            },
            "type": "bar"
           }
          ],
          "barpolar": [
           {
            "marker": {
             "line": {
              "color": "#E5ECF6",
              "width": 0.5
             }
            },
            "type": "barpolar"
           }
          ],
          "carpet": [
           {
            "aaxis": {
             "endlinecolor": "#2a3f5f",
             "gridcolor": "white",
             "linecolor": "white",
             "minorgridcolor": "white",
             "startlinecolor": "#2a3f5f"
            },
            "baxis": {
             "endlinecolor": "#2a3f5f",
             "gridcolor": "white",
             "linecolor": "white",
             "minorgridcolor": "white",
             "startlinecolor": "#2a3f5f"
            },
            "type": "carpet"
           }
          ],
          "choropleth": [
           {
            "colorbar": {
             "outlinewidth": 0,
             "ticks": ""
            },
            "type": "choropleth"
           }
          ],
          "contour": [
           {
            "colorbar": {
             "outlinewidth": 0,
             "ticks": ""
            },
            "colorscale": [
             [
              0,
              "#0d0887"
             ],
             [
              0.1111111111111111,
              "#46039f"
             ],
             [
              0.2222222222222222,
              "#7201a8"
             ],
             [
              0.3333333333333333,
              "#9c179e"
             ],
             [
              0.4444444444444444,
              "#bd3786"
             ],
             [
              0.5555555555555556,
              "#d8576b"
             ],
             [
              0.6666666666666666,
              "#ed7953"
             ],
             [
              0.7777777777777778,
              "#fb9f3a"
             ],
             [
              0.8888888888888888,
              "#fdca26"
             ],
             [
              1,
              "#f0f921"
             ]
            ],
            "type": "contour"
           }
          ],
          "contourcarpet": [
           {
            "colorbar": {
             "outlinewidth": 0,
             "ticks": ""
            },
            "type": "contourcarpet"
           }
          ],
          "heatmap": [
           {
            "colorbar": {
             "outlinewidth": 0,
             "ticks": ""
            },
            "colorscale": [
             [
              0,
              "#0d0887"
             ],
             [
              0.1111111111111111,
              "#46039f"
             ],
             [
              0.2222222222222222,
              "#7201a8"
             ],
             [
              0.3333333333333333,
              "#9c179e"
             ],
             [
              0.4444444444444444,
              "#bd3786"
             ],
             [
              0.5555555555555556,
              "#d8576b"
             ],
             [
              0.6666666666666666,
              "#ed7953"
             ],
             [
              0.7777777777777778,
              "#fb9f3a"
             ],
             [
              0.8888888888888888,
              "#fdca26"
             ],
             [
              1,
              "#f0f921"
             ]
            ],
            "type": "heatmap"
           }
          ],
          "heatmapgl": [
           {
            "colorbar": {
             "outlinewidth": 0,
             "ticks": ""
            },
            "colorscale": [
             [
              0,
              "#0d0887"
             ],
             [
              0.1111111111111111,
              "#46039f"
             ],
             [
              0.2222222222222222,
              "#7201a8"
             ],
             [
              0.3333333333333333,
              "#9c179e"
             ],
             [
              0.4444444444444444,
              "#bd3786"
             ],
             [
              0.5555555555555556,
              "#d8576b"
             ],
             [
              0.6666666666666666,
              "#ed7953"
             ],
             [
              0.7777777777777778,
              "#fb9f3a"
             ],
             [
              0.8888888888888888,
              "#fdca26"
             ],
             [
              1,
              "#f0f921"
             ]
            ],
            "type": "heatmapgl"
           }
          ],
          "histogram": [
           {
            "marker": {
             "colorbar": {
              "outlinewidth": 0,
              "ticks": ""
             }
            },
            "type": "histogram"
           }
          ],
          "histogram2d": [
           {
            "colorbar": {
             "outlinewidth": 0,
             "ticks": ""
            },
            "colorscale": [
             [
              0,
              "#0d0887"
             ],
             [
              0.1111111111111111,
              "#46039f"
             ],
             [
              0.2222222222222222,
              "#7201a8"
             ],
             [
              0.3333333333333333,
              "#9c179e"
             ],
             [
              0.4444444444444444,
              "#bd3786"
             ],
             [
              0.5555555555555556,
              "#d8576b"
             ],
             [
              0.6666666666666666,
              "#ed7953"
             ],
             [
              0.7777777777777778,
              "#fb9f3a"
             ],
             [
              0.8888888888888888,
              "#fdca26"
             ],
             [
              1,
              "#f0f921"
             ]
            ],
            "type": "histogram2d"
           }
          ],
          "histogram2dcontour": [
           {
            "colorbar": {
             "outlinewidth": 0,
             "ticks": ""
            },
            "colorscale": [
             [
              0,
              "#0d0887"
             ],
             [
              0.1111111111111111,
              "#46039f"
             ],
             [
              0.2222222222222222,
              "#7201a8"
             ],
             [
              0.3333333333333333,
              "#9c179e"
             ],
             [
              0.4444444444444444,
              "#bd3786"
             ],
             [
              0.5555555555555556,
              "#d8576b"
             ],
             [
              0.6666666666666666,
              "#ed7953"
             ],
             [
              0.7777777777777778,
              "#fb9f3a"
             ],
             [
              0.8888888888888888,
              "#fdca26"
             ],
             [
              1,
              "#f0f921"
             ]
            ],
            "type": "histogram2dcontour"
           }
          ],
          "mesh3d": [
           {
            "colorbar": {
             "outlinewidth": 0,
             "ticks": ""
            },
            "type": "mesh3d"
           }
          ],
          "parcoords": [
           {
            "line": {
             "colorbar": {
              "outlinewidth": 0,
              "ticks": ""
             }
            },
            "type": "parcoords"
           }
          ],
          "pie": [
           {
            "automargin": true,
            "type": "pie"
           }
          ],
          "scatter": [
           {
            "marker": {
             "colorbar": {
              "outlinewidth": 0,
              "ticks": ""
             }
            },
            "type": "scatter"
           }
          ],
          "scatter3d": [
           {
            "line": {
             "colorbar": {
              "outlinewidth": 0,
              "ticks": ""
             }
            },
            "marker": {
             "colorbar": {
              "outlinewidth": 0,
              "ticks": ""
             }
            },
            "type": "scatter3d"
           }
          ],
          "scattercarpet": [
           {
            "marker": {
             "colorbar": {
              "outlinewidth": 0,
              "ticks": ""
             }
            },
            "type": "scattercarpet"
           }
          ],
          "scattergeo": [
           {
            "marker": {
             "colorbar": {
              "outlinewidth": 0,
              "ticks": ""
             }
            },
            "type": "scattergeo"
           }
          ],
          "scattergl": [
           {
            "marker": {
             "colorbar": {
              "outlinewidth": 0,
              "ticks": ""
             }
            },
            "type": "scattergl"
           }
          ],
          "scattermapbox": [
           {
            "marker": {
             "colorbar": {
              "outlinewidth": 0,
              "ticks": ""
             }
            },
            "type": "scattermapbox"
           }
          ],
          "scatterpolar": [
           {
            "marker": {
             "colorbar": {
              "outlinewidth": 0,
              "ticks": ""
             }
            },
            "type": "scatterpolar"
           }
          ],
          "scatterpolargl": [
           {
            "marker": {
             "colorbar": {
              "outlinewidth": 0,
              "ticks": ""
             }
            },
            "type": "scatterpolargl"
           }
          ],
          "scatterternary": [
           {
            "marker": {
             "colorbar": {
              "outlinewidth": 0,
              "ticks": ""
             }
            },
            "type": "scatterternary"
           }
          ],
          "surface": [
           {
            "colorbar": {
             "outlinewidth": 0,
             "ticks": ""
            },
            "colorscale": [
             [
              0,
              "#0d0887"
             ],
             [
              0.1111111111111111,
              "#46039f"
             ],
             [
              0.2222222222222222,
              "#7201a8"
             ],
             [
              0.3333333333333333,
              "#9c179e"
             ],
             [
              0.4444444444444444,
              "#bd3786"
             ],
             [
              0.5555555555555556,
              "#d8576b"
             ],
             [
              0.6666666666666666,
              "#ed7953"
             ],
             [
              0.7777777777777778,
              "#fb9f3a"
             ],
             [
              0.8888888888888888,
              "#fdca26"
             ],
             [
              1,
              "#f0f921"
             ]
            ],
            "type": "surface"
           }
          ],
          "table": [
           {
            "cells": {
             "fill": {
              "color": "#EBF0F8"
             },
             "line": {
              "color": "white"
             }
            },
            "header": {
             "fill": {
              "color": "#C8D4E3"
             },
             "line": {
              "color": "white"
             }
            },
            "type": "table"
           }
          ]
         },
         "layout": {
          "annotationdefaults": {
           "arrowcolor": "#2a3f5f",
           "arrowhead": 0,
           "arrowwidth": 1
          },
          "coloraxis": {
           "colorbar": {
            "outlinewidth": 0,
            "ticks": ""
           }
          },
          "colorscale": {
           "diverging": [
            [
             0,
             "#8e0152"
            ],
            [
             0.1,
             "#c51b7d"
            ],
            [
             0.2,
             "#de77ae"
            ],
            [
             0.3,
             "#f1b6da"
            ],
            [
             0.4,
             "#fde0ef"
            ],
            [
             0.5,
             "#f7f7f7"
            ],
            [
             0.6,
             "#e6f5d0"
            ],
            [
             0.7,
             "#b8e186"
            ],
            [
             0.8,
             "#7fbc41"
            ],
            [
             0.9,
             "#4d9221"
            ],
            [
             1,
             "#276419"
            ]
           ],
           "sequential": [
            [
             0,
             "#0d0887"
            ],
            [
             0.1111111111111111,
             "#46039f"
            ],
            [
             0.2222222222222222,
             "#7201a8"
            ],
            [
             0.3333333333333333,
             "#9c179e"
            ],
            [
             0.4444444444444444,
             "#bd3786"
            ],
            [
             0.5555555555555556,
             "#d8576b"
            ],
            [
             0.6666666666666666,
             "#ed7953"
            ],
            [
             0.7777777777777778,
             "#fb9f3a"
            ],
            [
             0.8888888888888888,
             "#fdca26"
            ],
            [
             1,
             "#f0f921"
            ]
           ],
           "sequentialminus": [
            [
             0,
             "#0d0887"
            ],
            [
             0.1111111111111111,
             "#46039f"
            ],
            [
             0.2222222222222222,
             "#7201a8"
            ],
            [
             0.3333333333333333,
             "#9c179e"
            ],
            [
             0.4444444444444444,
             "#bd3786"
            ],
            [
             0.5555555555555556,
             "#d8576b"
            ],
            [
             0.6666666666666666,
             "#ed7953"
            ],
            [
             0.7777777777777778,
             "#fb9f3a"
            ],
            [
             0.8888888888888888,
             "#fdca26"
            ],
            [
             1,
             "#f0f921"
            ]
           ]
          },
          "colorway": [
           "#636efa",
           "#EF553B",
           "#00cc96",
           "#ab63fa",
           "#FFA15A",
           "#19d3f3",
           "#FF6692",
           "#B6E880",
           "#FF97FF",
           "#FECB52"
          ],
          "font": {
           "color": "#2a3f5f"
          },
          "geo": {
           "bgcolor": "white",
           "lakecolor": "white",
           "landcolor": "#E5ECF6",
           "showlakes": true,
           "showland": true,
           "subunitcolor": "white"
          },
          "hoverlabel": {
           "align": "left"
          },
          "hovermode": "closest",
          "mapbox": {
           "style": "light"
          },
          "paper_bgcolor": "white",
          "plot_bgcolor": "#E5ECF6",
          "polar": {
           "angularaxis": {
            "gridcolor": "white",
            "linecolor": "white",
            "ticks": ""
           },
           "bgcolor": "#E5ECF6",
           "radialaxis": {
            "gridcolor": "white",
            "linecolor": "white",
            "ticks": ""
           }
          },
          "scene": {
           "xaxis": {
            "backgroundcolor": "#E5ECF6",
            "gridcolor": "white",
            "gridwidth": 2,
            "linecolor": "white",
            "showbackground": true,
            "ticks": "",
            "zerolinecolor": "white"
           },
           "yaxis": {
            "backgroundcolor": "#E5ECF6",
            "gridcolor": "white",
            "gridwidth": 2,
            "linecolor": "white",
            "showbackground": true,
            "ticks": "",
            "zerolinecolor": "white"
           },
           "zaxis": {
            "backgroundcolor": "#E5ECF6",
            "gridcolor": "white",
            "gridwidth": 2,
            "linecolor": "white",
            "showbackground": true,
            "ticks": "",
            "zerolinecolor": "white"
           }
          },
          "shapedefaults": {
           "line": {
            "color": "#2a3f5f"
           }
          },
          "ternary": {
           "aaxis": {
            "gridcolor": "white",
            "linecolor": "white",
            "ticks": ""
           },
           "baxis": {
            "gridcolor": "white",
            "linecolor": "white",
            "ticks": ""
           },
           "bgcolor": "#E5ECF6",
           "caxis": {
            "gridcolor": "white",
            "linecolor": "white",
            "ticks": ""
           }
          },
          "title": {
           "x": 0.05
          },
          "xaxis": {
           "automargin": true,
           "gridcolor": "white",
           "linecolor": "white",
           "ticks": "",
           "title": {
            "standoff": 15
           },
           "zerolinecolor": "white",
           "zerolinewidth": 2
          },
          "yaxis": {
           "automargin": true,
           "gridcolor": "white",
           "linecolor": "white",
           "ticks": "",
           "title": {
            "standoff": 15
           },
           "zerolinecolor": "white",
           "zerolinewidth": 2
          }
         }
        },
        "title": {
         "text": "A Map showing Forest area (1000 ha)"
        }
       }
      },
      "text/html": [
       "<div>\n",
       "        \n",
       "        \n",
       "            <div id=\"6af9cadf-6864-4352-b1e7-919bc53c4115\" class=\"plotly-graph-div\" style=\"height:525px; width:100%;\"></div>\n",
       "            <script type=\"text/javascript\">\n",
       "                require([\"plotly\"], function(Plotly) {\n",
       "                    window.PLOTLYENV=window.PLOTLYENV || {};\n",
       "                    \n",
       "                if (document.getElementById(\"6af9cadf-6864-4352-b1e7-919bc53c4115\")) {\n",
       "                    Plotly.newPlot(\n",
       "                        '6af9cadf-6864-4352-b1e7-919bc53c4115',\n",
       "                        [{\"coloraxis\": \"coloraxis\", \"customdata\": [[\"Monaco\", 89.4], [\"Japan\", 85.3], [\"Singapore\", 85.2], [\"San Marino\", 83.3], [\"Iceland\", 83.1], [\"Andorra\", 82.9], [\"Switzerland\", 82.6], [\"Israel\", 82.5], [\"Luxembourg\", 82.3], [\"Australia\", 82.3], [\"Italy\", 82.3], [\"Sweden\", 82.1], [\"Canada\", 81.9], [\"Liechtenstein\", 81.9], [\"France\", 81.9], [\"Norway\", 81.9], [\"Spain\", 81.8], [\"Austria\", 81.6], [\"Bermuda\", 81.4], [\"Netherlands\", 81.4], [\"Cayman Islands\", 81.3], [\"New Zealand\", 81.3], [\"Belgium\", 81.1], [\"Finland\", 81.0], [\"Ireland\", 80.9], [\"Puerto Rico\", 80.9], [\"Germany\", 80.8], [\"United Kingdom\", 80.8], [\"Greece\", 80.7], [\"Qatar\", 80.0], [\"Denmark\", 79.5], [\"Portugal\", 79.4], [\"Chile\", 78.9], [\"Cuba\", 78.8], [\"Cyprus\", 78.8], [\"United States\", 78.8], [\"Panama\", 78.8], [\"Czech Republic\", 78.8], [\"Costa Rica\", 78.7], [\"Albania\", 78.5], [\"Slovenia\", 78.3], [\"Dominican Republic\", 78.3], [\"Dominican Republic\", 77.2], [\"Kuwait\", 78.2], [\"New Caledonia\", 77.9], [\"St. Lucia\", 77.9], [\"Lebanon\", 77.8], [\"Poland\", 77.8], [\"United Arab Emirates\", 77.7], [\"Paraguay\", 77.4], [\"Uruguay\", 77.4], [\"Brunei Darussalam\", 77.3], [\"Argentina\", 77.3], [\"Slovak Republic\", 77.3], [\"Morocco\", 77.1], [\"Algeria\", 77.0], [\"Ecuador\", 77.0], [\"Sri Lanka\", 76.9], [\"Estonia\", 76.9], [\"China\", 76.7], [\"Antigua and Barbuda\", 76.7], [\"Libya\", 76.7], [\"Georgia\", 76.4], [\"North Macedonia\", 76.4], [\"Tonga\", 76.4], [\"Croatia\", 76.1], [\"Hungary\", 76.1], [\"Mexico\", 76.1], [\"Venezuela, RB\", 76.0], [\"Colombia\", 75.9], [\"Maldives\", 75.8], [\"Mauritius\", 75.8], [\"Oman\", 75.7], [\"Serbia\", 75.7], [\"Tunisia\", 75.7], [\"Solomon Islands\", 75.6], [\"St. Vincent and the Grenadines\", 73.5], [\"Barbados\", 75.5], [\"Saudi Arabia\", 75.5], [\"Romania\", 75.4], [\"Malaysia\", 75.2], [\"Syrian Arab Republic\", 75.1], [\"Lithuania\", 75.0], [\"Turkey\", 75.0], [\"Iraq\", 74.9], [\"El Salvador\", 74.9], [\"Seychelles\", 74.9], [\"Thailand\", 74.9], [\"Armenia\", 74.9], [\"Jordan\", 74.8], [\"Bulgaria\", 74.7], [\"Latvia\", 74.7], [\"Grenada\", 74.5], [\"Samoa\", 74.0], [\"Brazil\", 74.0], [\"Uzbekistan\", 74.0], [\"Peru\", 74.0], [\"Iran, Islamic Rep.\", 74.0], [\"Jamaica\", 73.7], [\"Vanuatu\", 73.7], [\"Vietnam\", 73.7], [\"Bangladesh\", 73.4], [\"Nicaragua\", 73.4], [\"American Samoa\", 73.4], [\"Palau\", 73.4], [\"Trinidad and Tobago\", 73.1], [\"Belarus\", 73.0], [\"Egypt, Arab Rep.\", 73.0], [\"Fiji\", 73.0], [\"Indonesia\", 73.0], [\"Azerbaijan\", 72.8], [\"Guatemala\", 72.6], [\"Suriname\", 72.5], [\"Ukraine\", 72.1], [\"Honduras\", 71.2], [\"Kazakhstan\", 71.1], [\"Moldova\", 71.0], [\"Nepal\", 71.0], [\"Russian Federation\", 71.0], [\"Kyrgyz Republic\", 70.9], [\"Bhutan\", 70.6], [\"Turkmenistan\", 70.4], [\"Mongolia\", 69.9], [\"Bolivia\", 69.5], [\"Philippines\", 69.4], [\"Belize\", 68.9], [\"India\", 68.8], [\"Guyana\", 68.6], [\"Pakistan\", 68.1], [\"Tajikistan\", 68.1], [\"Papua New Guinea\", 67.3], [\"Ghana\", 67.0], [\"Tuvalu\", 66.9], [\"Kiribati\", 66.5], [\"Madagascar\", 66.3], [\"Togo\", 65.4], [\"Eritrea\", 65.2], [\"Cambodia\", 64.9], [\"Lao PDR\", 64.6], [\"Comoros\", 64.6], [\"Equatorial Guinea\", 64.6], [\"Sudan\", 64.4], [\"Kenya\", 64.3], [\"Rwanda\", 64.3], [\"Haiti\", 64.2], [\"Namibia\", 64.0], [\"South Africa\", 63.8], [\"Djibouti\", 63.6], [\"Mauritania\", 63.4], [\"Botswana\", 63.3], [\"Liberia\", 63.3], [\"Ethiopia\", 62.6], [\"Tanzania\", 62.6], [\"Benin\", 62.3], [\"Senegal\", 62.1], [\"Malawi\", 61.7], [\"Guinea\", 61.0], [\"Burundi\", 60.9], [\"Zimbabwe\", 60.4], [\"Mali\", 60.3], [\"Angola\", 60.2], [\"Congo, Rep.\", 59.8], [\"Cameroon\", 59.0], [\"Sierra Leone\", 58.6], [\"Congo, Dem. Rep.\", 57.7], [\"Burkina Faso\", 55.9], [\"Niger\", 55.9], [\"Uganda\", 55.9], [\"Nigeria\", 53.8], [\"Mozambique\", 53.7], [\"Lesotho\", 53.0], [\"Somalia\", 52.8], [\"Central African Republic\", 52.8], [\"Zambia\", 52.7], [\"Gabon\", 52.1], [\"Afghanistan\", 51.7], [\"Guinea-Bissau\", 51.0], [\"Chad\", 50.6]], \"geo\": \"geo\", \"hovertemplate\": \"Country Code=%{location}<br>Country Name=%{customdata[0]}<br>Average=%{customdata[1]}<br>Forest area (1000 ha)=%{z}<extra></extra>\", \"locations\": [\"MCO\", \"JPN\", \"SGP\", \"SMR\", \"ISL\", \"AND\", \"CHE\", \"ISR\", \"LUX\", \"AUS\", \"ITA\", \"SWE\", \"CAN\", \"LIE\", \"FRA\", \"NOR\", \"ESP\", \"AUT\", \"BMU\", \"NLD\", \"CYM\", \"NZL\", \"BEL\", \"FIN\", \"IRL\", \"PRI\", \"DEU\", \"GBR\", \"GRC\", \"QAT\", \"DNK\", \"PRT\", \"CHL\", \"CUB\", \"CYP\", \"USA\", \"PAN\", \"CZE\", \"CRI\", \"ALB\", \"SVN\", \"DOM\", \"DOM\", \"KWT\", \"NCL\", \"LCA\", \"LBN\", \"POL\", \"ARE\", \"PRY\", \"URY\", \"BRN\", \"ARG\", \"SVK\", \"MAR\", \"DZA\", \"ECU\", \"LKA\", \"EST\", \"CHN\", \"ATG\", \"LBY\", \"GEO\", \"MKD\", \"TON\", \"HRV\", \"HUN\", \"MEX\", \"VEN\", \"COL\", \"MDV\", \"MUS\", \"OMN\", \"SRB\", \"TUN\", \"SLB\", \"VCT\", \"BRB\", \"SAU\", \"ROU\", \"MYS\", \"SYR\", \"LTU\", \"TUR\", \"IRQ\", \"SLV\", \"SYC\", \"THA\", \"ARM\", \"JOR\", \"BGR\", \"LVA\", \"GRD\", \"WSM\", \"BRA\", \"UZB\", \"PER\", \"IRN\", \"JAM\", \"VUT\", \"VNM\", \"BGD\", \"NIC\", \"ASM\", \"PLW\", \"TTO\", \"BLR\", \"EGY\", \"FJI\", \"IDN\", \"AZE\", \"GTM\", \"SUR\", \"UKR\", \"HND\", \"KAZ\", \"MDA\", \"NPL\", \"RUS\", \"KGZ\", \"BTN\", \"TKM\", \"MNG\", \"BOL\", \"PHL\", \"BLZ\", \"IND\", \"GUY\", \"PAK\", \"TJK\", \"PNG\", \"GHA\", \"TUV\", \"KIR\", \"MDG\", \"TGO\", \"ERI\", \"KHM\", \"LAO\", \"COM\", \"GNQ\", \"SDN\", \"KEN\", \"RWA\", \"HTI\", \"NAM\", \"ZAF\", \"DJI\", \"MRT\", \"BWA\", \"LBR\", \"ETH\", \"TZA\", \"BEN\", \"SEN\", \"MWI\", \"GIN\", \"BDI\", \"ZWE\", \"MLI\", \"AGO\", \"COG\", \"CMR\", \"SLE\", \"COD\", \"BFA\", \"NER\", \"UGA\", \"NGA\", \"MOZ\", \"LSO\", \"SOM\", \"CAF\", \"ZMB\", \"GAB\", \"AFG\", \"GNB\", \"TCD\"], \"name\": \"\", \"type\": \"choropleth\", \"z\": [0.0, 24935.0, 16.0, 1.0, 51.0, 16.0, 1269.0, 140.0, 89.0, 134005.0, 9566.0, 27980.0, 346928.0, 7.0, 17253.0, 12180.0, 18572.0, 3899.0, 1.0, 370.0, 13.0, 9893.0, 689.0, 22409.0, 782.0, 496.0, 11419.0, 3190.0, 3902.0, 0.0, 628.0, 3312.0, 18211.0, 3242.0, 173.0, 309795.0, 4214.0, 2677.0, 3035.0, 789.0, 1238.0, 2144.0, 48.0, 6.0, 838.0, 21.0, 143.0, 9483.0, 317.0, 16102.0, 2031.0, 380.0, 28573.0, 1926.0, 5742.0, 1949.0, 12498.0, 2113.0, 2438.0, 219978.0, 8.0, 217.0, 2822.0, 1001.0, 9.0, 1939.0, 2053.0, 65692.0, 46231.0, 59142.0, 1.0, 39.0, 3.0, 2723.0, 703.0, 2523.0, 29.0, 6.0, 977.0, 6929.0, 19114.0, 522.0, 2201.0, 22220.0, 825.0, 584.0, 34.0, 19873.0, 328.0, 98.0, 3893.0, 3411.0, 18.0, 162.0, 496620.0, 3690.0, 72330.0, 10752.0, 597.0, 442.0, 14643.0, 1883.0, 3408.0, 17.0, 41.0, 228.0, 8768.0, 45.0, 1140.0, 92133.0, 1132.0, 3528.0, 15196.0, 9690.0, 6359.0, 3455.0, 387.0, 5962.0, 815312.0, 1315.0, 2725.0, 4127.0, 14173.0, 50834.0, 7189.0, 1277.0, 72160.0, 18415.0, 3726.0, 424.0, 35856.0, 7986.0, 1.0, 1.0, 12430.0, 1209.0, 1055.0, 8068.0, 16596.0, 33.0, 2448.0, 18360.0, 3611.0, 276.0, 347.0, 6639.0, 17050.0, 6.0, 313.0, 15255.0, 7617.0, 17069.0, 45745.0, 3135.0, 8068.0, 2242.0, 6189.0, 280.0, 17445.0, 13296.0, 66607.0, 21946.0, 20340.0, 2535.0, 126155.0, 6216.0, 1080.0, 2338.0, 21627.0, 36744.0, 35.0, 5980.0, 22303.0, 44814.0, 23531.0, 1208.0, 1980.0, 4313.0]}],\n",
       "                        {\"coloraxis\": {\"colorbar\": {\"title\": {\"text\": \"Forest area (1000 ha)\"}}, \"colorscale\": [[0.0, \"#0d0887\"], [0.1111111111111111, \"#46039f\"], [0.2222222222222222, \"#7201a8\"], [0.3333333333333333, \"#9c179e\"], [0.4444444444444444, \"#bd3786\"], [0.5555555555555556, \"#d8576b\"], [0.6666666666666666, \"#ed7953\"], [0.7777777777777778, \"#fb9f3a\"], [0.8888888888888888, \"#fdca26\"], [1.0, \"#f0f921\"]]}, \"geo\": {\"center\": {}, \"domain\": {\"x\": [0.0, 1.0], \"y\": [0.0, 1.0]}}, \"legend\": {\"tracegroupgap\": 0}, \"margin\": {\"t\": 60}, \"template\": {\"data\": {\"bar\": [{\"error_x\": {\"color\": \"#2a3f5f\"}, \"error_y\": {\"color\": \"#2a3f5f\"}, \"marker\": {\"line\": {\"color\": \"#E5ECF6\", \"width\": 0.5}}, \"type\": \"bar\"}], \"barpolar\": [{\"marker\": {\"line\": {\"color\": \"#E5ECF6\", \"width\": 0.5}}, \"type\": \"barpolar\"}], \"carpet\": [{\"aaxis\": {\"endlinecolor\": \"#2a3f5f\", \"gridcolor\": \"white\", \"linecolor\": \"white\", \"minorgridcolor\": \"white\", \"startlinecolor\": \"#2a3f5f\"}, \"baxis\": {\"endlinecolor\": \"#2a3f5f\", \"gridcolor\": \"white\", \"linecolor\": \"white\", \"minorgridcolor\": \"white\", \"startlinecolor\": \"#2a3f5f\"}, \"type\": \"carpet\"}], \"choropleth\": [{\"colorbar\": {\"outlinewidth\": 0, \"ticks\": \"\"}, \"type\": \"choropleth\"}], \"contour\": [{\"colorbar\": {\"outlinewidth\": 0, \"ticks\": \"\"}, \"colorscale\": [[0.0, \"#0d0887\"], [0.1111111111111111, \"#46039f\"], [0.2222222222222222, \"#7201a8\"], [0.3333333333333333, \"#9c179e\"], [0.4444444444444444, \"#bd3786\"], [0.5555555555555556, \"#d8576b\"], [0.6666666666666666, \"#ed7953\"], [0.7777777777777778, \"#fb9f3a\"], [0.8888888888888888, \"#fdca26\"], [1.0, \"#f0f921\"]], \"type\": \"contour\"}], \"contourcarpet\": [{\"colorbar\": {\"outlinewidth\": 0, \"ticks\": \"\"}, \"type\": \"contourcarpet\"}], \"heatmap\": [{\"colorbar\": {\"outlinewidth\": 0, \"ticks\": \"\"}, \"colorscale\": [[0.0, \"#0d0887\"], [0.1111111111111111, \"#46039f\"], [0.2222222222222222, \"#7201a8\"], [0.3333333333333333, \"#9c179e\"], [0.4444444444444444, \"#bd3786\"], [0.5555555555555556, \"#d8576b\"], [0.6666666666666666, \"#ed7953\"], [0.7777777777777778, \"#fb9f3a\"], [0.8888888888888888, \"#fdca26\"], [1.0, \"#f0f921\"]], \"type\": \"heatmap\"}], \"heatmapgl\": [{\"colorbar\": {\"outlinewidth\": 0, \"ticks\": \"\"}, \"colorscale\": [[0.0, \"#0d0887\"], [0.1111111111111111, \"#46039f\"], [0.2222222222222222, \"#7201a8\"], [0.3333333333333333, \"#9c179e\"], [0.4444444444444444, \"#bd3786\"], [0.5555555555555556, \"#d8576b\"], [0.6666666666666666, \"#ed7953\"], [0.7777777777777778, \"#fb9f3a\"], [0.8888888888888888, \"#fdca26\"], [1.0, \"#f0f921\"]], \"type\": \"heatmapgl\"}], \"histogram\": [{\"marker\": {\"colorbar\": {\"outlinewidth\": 0, \"ticks\": \"\"}}, \"type\": \"histogram\"}], \"histogram2d\": [{\"colorbar\": {\"outlinewidth\": 0, \"ticks\": \"\"}, \"colorscale\": [[0.0, \"#0d0887\"], [0.1111111111111111, \"#46039f\"], [0.2222222222222222, \"#7201a8\"], [0.3333333333333333, \"#9c179e\"], [0.4444444444444444, \"#bd3786\"], [0.5555555555555556, \"#d8576b\"], [0.6666666666666666, \"#ed7953\"], [0.7777777777777778, \"#fb9f3a\"], [0.8888888888888888, \"#fdca26\"], [1.0, \"#f0f921\"]], \"type\": \"histogram2d\"}], \"histogram2dcontour\": [{\"colorbar\": {\"outlinewidth\": 0, \"ticks\": \"\"}, \"colorscale\": [[0.0, \"#0d0887\"], [0.1111111111111111, \"#46039f\"], [0.2222222222222222, \"#7201a8\"], [0.3333333333333333, \"#9c179e\"], [0.4444444444444444, \"#bd3786\"], [0.5555555555555556, \"#d8576b\"], [0.6666666666666666, \"#ed7953\"], [0.7777777777777778, \"#fb9f3a\"], [0.8888888888888888, \"#fdca26\"], [1.0, \"#f0f921\"]], \"type\": \"histogram2dcontour\"}], \"mesh3d\": [{\"colorbar\": {\"outlinewidth\": 0, \"ticks\": \"\"}, \"type\": \"mesh3d\"}], \"parcoords\": [{\"line\": {\"colorbar\": {\"outlinewidth\": 0, \"ticks\": \"\"}}, \"type\": \"parcoords\"}], \"pie\": [{\"automargin\": true, \"type\": \"pie\"}], \"scatter\": [{\"marker\": {\"colorbar\": {\"outlinewidth\": 0, \"ticks\": \"\"}}, \"type\": \"scatter\"}], \"scatter3d\": [{\"line\": {\"colorbar\": {\"outlinewidth\": 0, \"ticks\": \"\"}}, \"marker\": {\"colorbar\": {\"outlinewidth\": 0, \"ticks\": \"\"}}, \"type\": \"scatter3d\"}], \"scattercarpet\": [{\"marker\": {\"colorbar\": {\"outlinewidth\": 0, \"ticks\": \"\"}}, \"type\": \"scattercarpet\"}], \"scattergeo\": [{\"marker\": {\"colorbar\": {\"outlinewidth\": 0, \"ticks\": \"\"}}, \"type\": \"scattergeo\"}], \"scattergl\": [{\"marker\": {\"colorbar\": {\"outlinewidth\": 0, \"ticks\": \"\"}}, \"type\": \"scattergl\"}], \"scattermapbox\": [{\"marker\": {\"colorbar\": {\"outlinewidth\": 0, \"ticks\": \"\"}}, \"type\": \"scattermapbox\"}], \"scatterpolar\": [{\"marker\": {\"colorbar\": {\"outlinewidth\": 0, \"ticks\": \"\"}}, \"type\": \"scatterpolar\"}], \"scatterpolargl\": [{\"marker\": {\"colorbar\": {\"outlinewidth\": 0, \"ticks\": \"\"}}, \"type\": \"scatterpolargl\"}], \"scatterternary\": [{\"marker\": {\"colorbar\": {\"outlinewidth\": 0, \"ticks\": \"\"}}, \"type\": \"scatterternary\"}], \"surface\": [{\"colorbar\": {\"outlinewidth\": 0, \"ticks\": \"\"}, \"colorscale\": [[0.0, \"#0d0887\"], [0.1111111111111111, \"#46039f\"], [0.2222222222222222, \"#7201a8\"], [0.3333333333333333, \"#9c179e\"], [0.4444444444444444, \"#bd3786\"], [0.5555555555555556, \"#d8576b\"], [0.6666666666666666, \"#ed7953\"], [0.7777777777777778, \"#fb9f3a\"], [0.8888888888888888, \"#fdca26\"], [1.0, \"#f0f921\"]], \"type\": \"surface\"}], \"table\": [{\"cells\": {\"fill\": {\"color\": \"#EBF0F8\"}, \"line\": {\"color\": \"white\"}}, \"header\": {\"fill\": {\"color\": \"#C8D4E3\"}, \"line\": {\"color\": \"white\"}}, \"type\": \"table\"}]}, \"layout\": {\"annotationdefaults\": {\"arrowcolor\": \"#2a3f5f\", \"arrowhead\": 0, \"arrowwidth\": 1}, \"coloraxis\": {\"colorbar\": {\"outlinewidth\": 0, \"ticks\": \"\"}}, \"colorscale\": {\"diverging\": [[0, \"#8e0152\"], [0.1, \"#c51b7d\"], [0.2, \"#de77ae\"], [0.3, \"#f1b6da\"], [0.4, \"#fde0ef\"], [0.5, \"#f7f7f7\"], [0.6, \"#e6f5d0\"], [0.7, \"#b8e186\"], [0.8, \"#7fbc41\"], [0.9, \"#4d9221\"], [1, \"#276419\"]], \"sequential\": [[0.0, \"#0d0887\"], [0.1111111111111111, \"#46039f\"], [0.2222222222222222, \"#7201a8\"], [0.3333333333333333, \"#9c179e\"], [0.4444444444444444, \"#bd3786\"], [0.5555555555555556, \"#d8576b\"], [0.6666666666666666, \"#ed7953\"], [0.7777777777777778, \"#fb9f3a\"], [0.8888888888888888, \"#fdca26\"], [1.0, \"#f0f921\"]], \"sequentialminus\": [[0.0, \"#0d0887\"], [0.1111111111111111, \"#46039f\"], [0.2222222222222222, \"#7201a8\"], [0.3333333333333333, \"#9c179e\"], [0.4444444444444444, \"#bd3786\"], [0.5555555555555556, \"#d8576b\"], [0.6666666666666666, \"#ed7953\"], [0.7777777777777778, \"#fb9f3a\"], [0.8888888888888888, \"#fdca26\"], [1.0, \"#f0f921\"]]}, \"colorway\": [\"#636efa\", \"#EF553B\", \"#00cc96\", \"#ab63fa\", \"#FFA15A\", \"#19d3f3\", \"#FF6692\", \"#B6E880\", \"#FF97FF\", \"#FECB52\"], \"font\": {\"color\": \"#2a3f5f\"}, \"geo\": {\"bgcolor\": \"white\", \"lakecolor\": \"white\", \"landcolor\": \"#E5ECF6\", \"showlakes\": true, \"showland\": true, \"subunitcolor\": \"white\"}, \"hoverlabel\": {\"align\": \"left\"}, \"hovermode\": \"closest\", \"mapbox\": {\"style\": \"light\"}, \"paper_bgcolor\": \"white\", \"plot_bgcolor\": \"#E5ECF6\", \"polar\": {\"angularaxis\": {\"gridcolor\": \"white\", \"linecolor\": \"white\", \"ticks\": \"\"}, \"bgcolor\": \"#E5ECF6\", \"radialaxis\": {\"gridcolor\": \"white\", \"linecolor\": \"white\", \"ticks\": \"\"}}, \"scene\": {\"xaxis\": {\"backgroundcolor\": \"#E5ECF6\", \"gridcolor\": \"white\", \"gridwidth\": 2, \"linecolor\": \"white\", \"showbackground\": true, \"ticks\": \"\", \"zerolinecolor\": \"white\"}, \"yaxis\": {\"backgroundcolor\": \"#E5ECF6\", \"gridcolor\": \"white\", \"gridwidth\": 2, \"linecolor\": \"white\", \"showbackground\": true, \"ticks\": \"\", \"zerolinecolor\": \"white\"}, \"zaxis\": {\"backgroundcolor\": \"#E5ECF6\", \"gridcolor\": \"white\", \"gridwidth\": 2, \"linecolor\": \"white\", \"showbackground\": true, \"ticks\": \"\", \"zerolinecolor\": \"white\"}}, \"shapedefaults\": {\"line\": {\"color\": \"#2a3f5f\"}}, \"ternary\": {\"aaxis\": {\"gridcolor\": \"white\", \"linecolor\": \"white\", \"ticks\": \"\"}, \"baxis\": {\"gridcolor\": \"white\", \"linecolor\": \"white\", \"ticks\": \"\"}, \"bgcolor\": \"#E5ECF6\", \"caxis\": {\"gridcolor\": \"white\", \"linecolor\": \"white\", \"ticks\": \"\"}}, \"title\": {\"x\": 0.05}, \"xaxis\": {\"automargin\": true, \"gridcolor\": \"white\", \"linecolor\": \"white\", \"ticks\": \"\", \"title\": {\"standoff\": 15}, \"zerolinecolor\": \"white\", \"zerolinewidth\": 2}, \"yaxis\": {\"automargin\": true, \"gridcolor\": \"white\", \"linecolor\": \"white\", \"ticks\": \"\", \"title\": {\"standoff\": 15}, \"zerolinecolor\": \"white\", \"zerolinewidth\": 2}}}, \"title\": {\"text\": \"A Map showing Forest area (1000 ha)\"}},\n",
       "                        {\"responsive\": true}\n",
       "                    ).then(function(){\n",
       "                            \n",
       "var gd = document.getElementById('6af9cadf-6864-4352-b1e7-919bc53c4115');\n",
       "var x = new MutationObserver(function (mutations, observer) {{\n",
       "        var display = window.getComputedStyle(gd).display;\n",
       "        if (!display || display === 'none') {{\n",
       "            console.log([gd, 'removed!']);\n",
       "            Plotly.purge(gd);\n",
       "            observer.disconnect();\n",
       "        }}\n",
       "}});\n",
       "\n",
       "// Listen for the removal of the full notebook cells\n",
       "var notebookContainer = gd.closest('#notebook-container');\n",
       "if (notebookContainer) {{\n",
       "    x.observe(notebookContainer, {childList: true});\n",
       "}}\n",
       "\n",
       "// Listen for the clearing of the current output cell\n",
       "var outputEl = gd.closest('.output');\n",
       "if (outputEl) {{\n",
       "    x.observe(outputEl, {childList: true});\n",
       "}}\n",
       "\n",
       "                        })\n",
       "                };\n",
       "                });\n",
       "            </script>\n",
       "        </div>"
      ]
     },
     "metadata": {},
     "output_type": "display_data"
    }
   ],
   "source": [
    "#showing map view of forest area\n",
    "fig = px.choropleth(df3, locations=\"Country Code\", color=\"Forest area (1000 ha)\", hover_data=[\"Country Name\", \"Average\"],\n",
    "                    color_continuous_scale=\"Plasma\")\n",
    "fig.update_layout(title=\"A Map showing Forest area (1000 ha)\")\n",
    "fig.show()"
   ]
  },
  {
   "cell_type": "code",
   "execution_count": 55,
   "metadata": {},
   "outputs": [
    {
     "data": {
      "application/vnd.plotly.v1+json": {
       "config": {
        "plotlyServerURL": "https://plot.ly"
       },
       "data": [
        {
         "coloraxis": "coloraxis",
         "customdata": [
          [
           "Monaco",
           85.6,
           93.5
          ],
          [
           "Japan",
           81.9,
           88.8
          ],
          [
           "Singapore",
           82.6,
           88.1
          ],
          [
           "San Marino",
           80.8,
           86.1
          ],
          [
           "Iceland",
           80.9,
           85.4
          ],
          [
           "Andorra",
           80.7,
           85.2
          ],
          [
           "Switzerland",
           80.3,
           85.1
          ],
          [
           "Israel",
           80.7,
           84.5
          ],
          [
           "Luxembourg",
           79.9,
           84.9
          ],
          [
           "Australia",
           79.8,
           84.9
          ],
          [
           "Italy",
           79.6,
           85.1
          ],
          [
           "Sweden",
           80.2,
           84.2
          ],
          [
           "Canada",
           79.3,
           84.7
          ],
          [
           "Liechtenstein",
           79.7,
           84.7
          ],
          [
           "France",
           78.8,
           85.2
          ],
          [
           "Norway",
           79.8,
           84
          ],
          [
           "Spain",
           78.8,
           84.9
          ],
          [
           "Austria",
           78.9,
           84.4
          ],
          [
           "Bermuda",
           78.2,
           84.6
          ],
          [
           "Netherlands",
           79.3,
           83.7
          ],
          [
           "Cayman Islands",
           78.6,
           84.1
          ],
          [
           "New Zealand",
           79.1,
           83.5
          ],
          [
           "Belgium",
           78.5,
           83.8
          ],
          [
           "Finland",
           78,
           84.1
          ],
          [
           "Ireland",
           78.6,
           83.4
          ],
          [
           "Puerto Rico",
           77.6,
           84.4
          ],
          [
           "Germany",
           78.5,
           83.3
          ],
          [
           "United Kingdom",
           78.6,
           83.1
          ],
          [
           "Greece",
           78,
           83.4
          ],
          [
           "Qatar",
           77.7,
           82.2
          ],
          [
           "Denmark",
           77.1,
           82.1
          ],
          [
           "Portugal",
           76.2,
           82.9
          ],
          [
           "Chile",
           75.9,
           82.1
          ],
          [
           "Cuba",
           76.5,
           81.3
          ],
          [
           "Cyprus",
           76,
           81.8
          ],
          [
           "United States",
           76.8,
           81
          ],
          [
           "Panama",
           76,
           81.7
          ],
          [
           "Czech Republic",
           75.8,
           81.9
          ],
          [
           "Costa Rica",
           76.1,
           81.5
          ],
          [
           "Albania",
           75.8,
           81.4
          ],
          [
           "Slovenia",
           74.8,
           82.2
          ],
          [
           "Dominican Republic",
           76,
           80.6
          ],
          [
           "Dominican Republic",
           74.2,
           80.3
          ],
          [
           "Kuwait",
           76.8,
           79.6
          ],
          [
           "New Caledonia",
           73.9,
           82
          ],
          [
           "St. Lucia",
           75.2,
           80.8
          ],
          [
           "Lebanon",
           76.5,
           79.1
          ],
          [
           "Poland",
           73.9,
           81.8
          ],
          [
           "United Arab Emirates",
           75,
           80.4
          ],
          [
           "Paraguay",
           74.7,
           80.2
          ],
          [
           "Uruguay",
           74.2,
           80.6
          ],
          [
           "Brunei Darussalam",
           75,
           79.8
          ],
          [
           "Argentina",
           74.2,
           80.6
          ],
          [
           "Slovak Republic",
           73.7,
           81.1
          ],
          [
           "Morocco",
           74,
           80.3
          ],
          [
           "Algeria",
           75.6,
           78.4
          ],
          [
           "Ecuador",
           74,
           80.1
          ],
          [
           "Sri Lanka",
           73.5,
           80.6
          ],
          [
           "Estonia",
           72.1,
           81.9
          ],
          [
           "China",
           74.6,
           79
          ],
          [
           "Antigua and Barbuda",
           74.6,
           79
          ],
          [
           "Libya",
           74.9,
           78.5
          ],
          [
           "Georgia",
           72.3,
           80.7
          ],
          [
           "North Macedonia",
           73.8,
           79.2
          ],
          [
           "Tonga",
           74.9,
           78.1
          ],
          [
           "Croatia",
           72.9,
           79.4
          ],
          [
           "Hungary",
           72.4,
           80
          ],
          [
           "Mexico",
           73.3,
           79
          ],
          [
           "Venezuela, RB",
           73,
           79.1
          ],
          [
           "Colombia",
           72.8,
           79.3
          ],
          [
           "Maldives",
           73.5,
           78.3
          ],
          [
           "Mauritius",
           72.4,
           79.5
          ],
          [
           "Oman",
           73.7,
           77.7
          ],
          [
           "Serbia",
           72.8,
           78.8
          ],
          [
           "Tunisia",
           74.1,
           77.4
          ],
          [
           "Solomon Islands",
           72.9,
           78.3
          ],
          [
           "St. Vincent and the Grenadines",
           77.6,
           69.4
          ],
          [
           "Barbados",
           73.2,
           77.9
          ],
          [
           "Saudi Arabia",
           73.4,
           77.7
          ],
          [
           "Romania",
           71.9,
           79
          ],
          [
           "Malaysia",
           72.4,
           78.2
          ],
          [
           "Syrian Arab Republic",
           72.7,
           77.6
          ],
          [
           "Lithuania",
           69.7,
           80.7
          ],
          [
           "Turkey",
           72.7,
           77.5
          ],
          [
           "Iraq",
           72.6,
           77.2
          ],
          [
           "El Salvador",
           71.6,
           78.3
          ],
          [
           "Seychelles",
           70.4,
           79.6
          ],
          [
           "Thailand",
           71.7,
           78.3
          ],
          [
           "Armenia",
           71.6,
           78.5
          ],
          [
           "Jordan",
           73.4,
           76.3
          ],
          [
           "Bulgaria",
           71.4,
           78.2
          ],
          [
           "Latvia",
           70.1,
           79.5
          ],
          [
           "Grenada",
           71.9,
           77.4
          ],
          [
           "Samoa",
           71.1,
           77
          ],
          [
           "Brazil",
           70.5,
           77.7
          ],
          [
           "Uzbekistan",
           71,
           77.3
          ],
          [
           "Peru",
           71.9,
           76.1
          ],
          [
           "Iran, Islamic Rep.",
           72.7,
           75.5
          ],
          [
           "Jamaica",
           72.1,
           75.4
          ],
          [
           "Vanuatu",
           72.1,
           75.4
          ],
          [
           "Vietnam",
           71.2,
           76.4
          ],
          [
           "Bangladesh",
           71.3,
           75.6
          ],
          [
           "Nicaragua",
           71.3,
           75.8
          ],
          [
           "American Samoa",
           71.3,
           75.6
          ],
          [
           "Palau",
           70.2,
           76.8
          ],
          [
           "Trinidad and Tobago",
           70.2,
           76.2
          ],
          [
           "Belarus",
           67.5,
           78.8
          ],
          [
           "Egypt, Arab Rep.",
           71.6,
           74.4
          ],
          [
           "Fiji",
           70.3,
           75.8
          ],
          [
           "Indonesia",
           70.4,
           75.7
          ],
          [
           "Azerbaijan",
           69.7,
           76.1
          ],
          [
           "Guatemala",
           70.6,
           74.7
          ],
          [
           "Suriname",
           70.1,
           75.1
          ],
          [
           "Ukraine",
           67.4,
           77.1
          ],
          [
           "Honduras",
           69.5,
           72.9
          ],
          [
           "Kazakhstan",
           65.9,
           76
          ],
          [
           "Moldova",
           67.1,
           75.1
          ],
          [
           "Nepal",
           70.4,
           71.6
          ],
          [
           "Russian Federation",
           65.3,
           77.1
          ],
          [
           "Kyrgyz Republic",
           66.8,
           75.4
          ],
          [
           "Bhutan",
           69.6,
           71.7
          ],
          [
           "Turkmenistan",
           67.4,
           73.6
          ],
          [
           "Mongolia",
           65.7,
           74.4
          ],
          [
           "Bolivia",
           66.7,
           72.4
          ],
          [
           "Philippines",
           65.9,
           73.1
          ],
          [
           "Belize",
           67.3,
           70.6
          ],
          [
           "India",
           67.6,
           70.1
          ],
          [
           "Guyana",
           65.6,
           71.8
          ],
          [
           "Pakistan",
           66.1,
           70.1
          ],
          [
           "Tajikistan",
           64.9,
           71.4
          ],
          [
           "Papua New Guinea",
           65.1,
           69.7
          ],
          [
           "Ghana",
           64.5,
           69.6
          ],
          [
           "Tuvalu",
           64.7,
           69.2
          ],
          [
           "Kiribati",
           64,
           69.1
          ],
          [
           "Madagascar",
           64.7,
           67.8
          ],
          [
           "Togo",
           62.8,
           68.1
          ],
          [
           "Eritrea",
           62.7,
           67.8
          ],
          [
           "Cambodia",
           62.4,
           67.5
          ],
          [
           "Lao PDR",
           62.6,
           66.7
          ],
          [
           "Comoros",
           62.3,
           67
          ],
          [
           "Equatorial Guinea",
           63.4,
           65.8
          ],
          [
           "Sudan",
           62.3,
           66.7
          ],
          [
           "Kenya",
           62.8,
           65.8
          ],
          [
           "Rwanda",
           62.3,
           66.3
          ],
          [
           "Haiti",
           61.6,
           66.8
          ],
          [
           "Namibia",
           62.4,
           65.6
          ],
          [
           "South Africa",
           62.4,
           65.3
          ],
          [
           "Djibouti",
           61,
           66.2
          ],
          [
           "Mauritania",
           61.1,
           65.8
          ],
          [
           "Botswana",
           61.2,
           65.5
          ],
          [
           "Liberia",
           61.2,
           65.5
          ],
          [
           "Ethiopia",
           60.1,
           64.7
          ],
          [
           "Tanzania",
           61.2,
           64.1
          ],
          [
           "Benin",
           60.9,
           63.8
          ],
          [
           "Senegal",
           60,
           64.3
          ],
          [
           "Malawi",
           59.7,
           63.8
          ],
          [
           "Guinea",
           59.5,
           62.6
          ],
          [
           "Burundi",
           59.2,
           62.7
          ],
          [
           "Zimbabwe",
           58.3,
           62.5
          ],
          [
           "Mali",
           58.2,
           62.5
          ],
          [
           "Angola",
           58.2,
           62.3
          ],
          [
           "Congo, Rep.",
           58.6,
           61.1
          ],
          [
           "Cameroon",
           57.6,
           59.9
          ],
          [
           "Sierra Leone",
           56,
           61.3
          ],
          [
           "Congo, Dem. Rep.",
           56.1,
           59.3
          ],
          [
           "Burkina Faso",
           53.8,
           58
          ],
          [
           "Niger",
           54.7,
           57.3
          ],
          [
           "Uganda",
           54.4,
           57.3
          ],
          [
           "Nigeria",
           52.8,
           55
          ],
          [
           "Mozambique",
           52.9,
           54.5
          ],
          [
           "Lesotho",
           53,
           53.1
          ],
          [
           "Somalia",
           50.7,
           54.9
          ],
          [
           "Central African Republic",
           51.4,
           54.2
          ],
          [
           "Zambia",
           51.1,
           54.4
          ],
          [
           "Gabon",
           51.7,
           52.5
          ],
          [
           "Afghanistan",
           50.3,
           53.2
          ],
          [
           "Guinea-Bissau",
           48.9,
           53.1
          ],
          [
           "Chad",
           49.4,
           51.9
          ]
         ],
         "geo": "geo",
         "hovertemplate": "Country Code=%{location}<br>Country Name=%{customdata[0]}<br>Males=%{customdata[1]}<br>Females=%{customdata[2]}<br>Average=%{z}<extra></extra>",
         "locations": [
          "MCO",
          "JPN",
          "SGP",
          "SMR",
          "ISL",
          "AND",
          "CHE",
          "ISR",
          "LUX",
          "AUS",
          "ITA",
          "SWE",
          "CAN",
          "LIE",
          "FRA",
          "NOR",
          "ESP",
          "AUT",
          "BMU",
          "NLD",
          "CYM",
          "NZL",
          "BEL",
          "FIN",
          "IRL",
          "PRI",
          "DEU",
          "GBR",
          "GRC",
          "QAT",
          "DNK",
          "PRT",
          "CHL",
          "CUB",
          "CYP",
          "USA",
          "PAN",
          "CZE",
          "CRI",
          "ALB",
          "SVN",
          "DOM",
          "DOM",
          "KWT",
          "NCL",
          "LCA",
          "LBN",
          "POL",
          "ARE",
          "PRY",
          "URY",
          "BRN",
          "ARG",
          "SVK",
          "MAR",
          "DZA",
          "ECU",
          "LKA",
          "EST",
          "CHN",
          "ATG",
          "LBY",
          "GEO",
          "MKD",
          "TON",
          "HRV",
          "HUN",
          "MEX",
          "VEN",
          "COL",
          "MDV",
          "MUS",
          "OMN",
          "SRB",
          "TUN",
          "SLB",
          "VCT",
          "BRB",
          "SAU",
          "ROU",
          "MYS",
          "SYR",
          "LTU",
          "TUR",
          "IRQ",
          "SLV",
          "SYC",
          "THA",
          "ARM",
          "JOR",
          "BGR",
          "LVA",
          "GRD",
          "WSM",
          "BRA",
          "UZB",
          "PER",
          "IRN",
          "JAM",
          "VUT",
          "VNM",
          "BGD",
          "NIC",
          "ASM",
          "PLW",
          "TTO",
          "BLR",
          "EGY",
          "FJI",
          "IDN",
          "AZE",
          "GTM",
          "SUR",
          "UKR",
          "HND",
          "KAZ",
          "MDA",
          "NPL",
          "RUS",
          "KGZ",
          "BTN",
          "TKM",
          "MNG",
          "BOL",
          "PHL",
          "BLZ",
          "IND",
          "GUY",
          "PAK",
          "TJK",
          "PNG",
          "GHA",
          "TUV",
          "KIR",
          "MDG",
          "TGO",
          "ERI",
          "KHM",
          "LAO",
          "COM",
          "GNQ",
          "SDN",
          "KEN",
          "RWA",
          "HTI",
          "NAM",
          "ZAF",
          "DJI",
          "MRT",
          "BWA",
          "LBR",
          "ETH",
          "TZA",
          "BEN",
          "SEN",
          "MWI",
          "GIN",
          "BDI",
          "ZWE",
          "MLI",
          "AGO",
          "COG",
          "CMR",
          "SLE",
          "COD",
          "BFA",
          "NER",
          "UGA",
          "NGA",
          "MOZ",
          "LSO",
          "SOM",
          "CAF",
          "ZMB",
          "GAB",
          "AFG",
          "GNB",
          "TCD"
         ],
         "name": "",
         "type": "choropleth",
         "z": [
          89.4,
          85.3,
          85.2,
          83.3,
          83.1,
          82.9,
          82.6,
          82.5,
          82.3,
          82.3,
          82.3,
          82.1,
          81.9,
          81.9,
          81.9,
          81.9,
          81.8,
          81.6,
          81.4,
          81.4,
          81.3,
          81.3,
          81.1,
          81,
          80.9,
          80.9,
          80.8,
          80.8,
          80.7,
          80,
          79.5,
          79.4,
          78.9,
          78.8,
          78.8,
          78.8,
          78.8,
          78.8,
          78.7,
          78.5,
          78.3,
          78.3,
          77.2,
          78.2,
          77.9,
          77.9,
          77.8,
          77.8,
          77.7,
          77.4,
          77.4,
          77.3,
          77.3,
          77.3,
          77.1,
          77,
          77,
          76.9,
          76.9,
          76.7,
          76.7,
          76.7,
          76.4,
          76.4,
          76.4,
          76.1,
          76.1,
          76.1,
          76,
          75.9,
          75.8,
          75.8,
          75.7,
          75.7,
          75.7,
          75.6,
          73.5,
          75.5,
          75.5,
          75.4,
          75.2,
          75.1,
          75,
          75,
          74.9,
          74.9,
          74.9,
          74.9,
          74.9,
          74.8,
          74.7,
          74.7,
          74.5,
          74,
          74,
          74,
          74,
          74,
          73.7,
          73.7,
          73.7,
          73.4,
          73.4,
          73.4,
          73.4,
          73.1,
          73,
          73,
          73,
          73,
          72.8,
          72.6,
          72.5,
          72.1,
          71.2,
          71.1,
          71,
          71,
          71,
          70.9,
          70.6,
          70.4,
          69.9,
          69.5,
          69.4,
          68.9,
          68.8,
          68.6,
          68.1,
          68.1,
          67.3,
          67,
          66.9,
          66.5,
          66.3,
          65.4,
          65.2,
          64.9,
          64.6,
          64.6,
          64.6,
          64.4,
          64.3,
          64.3,
          64.2,
          64,
          63.8,
          63.6,
          63.4,
          63.3,
          63.3,
          62.6,
          62.6,
          62.3,
          62.1,
          61.7,
          61,
          60.9,
          60.4,
          60.3,
          60.2,
          59.8,
          59,
          58.6,
          57.7,
          55.9,
          55.9,
          55.9,
          53.8,
          53.7,
          53,
          52.8,
          52.8,
          52.7,
          52.1,
          51.7,
          51,
          50.6
         ]
        }
       ],
       "layout": {
        "coloraxis": {
         "colorbar": {
          "title": {
           "text": "Average"
          }
         },
         "colorscale": [
          [
           0,
           "#0d0887"
          ],
          [
           0.1111111111111111,
           "#46039f"
          ],
          [
           0.2222222222222222,
           "#7201a8"
          ],
          [
           0.3333333333333333,
           "#9c179e"
          ],
          [
           0.4444444444444444,
           "#bd3786"
          ],
          [
           0.5555555555555556,
           "#d8576b"
          ],
          [
           0.6666666666666666,
           "#ed7953"
          ],
          [
           0.7777777777777778,
           "#fb9f3a"
          ],
          [
           0.8888888888888888,
           "#fdca26"
          ],
          [
           1,
           "#f0f921"
          ]
         ]
        },
        "geo": {
         "center": {},
         "domain": {
          "x": [
           0,
           1
          ],
          "y": [
           0,
           1
          ]
         }
        },
        "legend": {
         "tracegroupgap": 0
        },
        "margin": {
         "t": 60
        },
        "template": {
         "data": {
          "bar": [
           {
            "error_x": {
             "color": "#2a3f5f"
            },
            "error_y": {
             "color": "#2a3f5f"
            },
            "marker": {
             "line": {
              "color": "#E5ECF6",
              "width": 0.5
             }
            },
            "type": "bar"
           }
          ],
          "barpolar": [
           {
            "marker": {
             "line": {
              "color": "#E5ECF6",
              "width": 0.5
             }
            },
            "type": "barpolar"
           }
          ],
          "carpet": [
           {
            "aaxis": {
             "endlinecolor": "#2a3f5f",
             "gridcolor": "white",
             "linecolor": "white",
             "minorgridcolor": "white",
             "startlinecolor": "#2a3f5f"
            },
            "baxis": {
             "endlinecolor": "#2a3f5f",
             "gridcolor": "white",
             "linecolor": "white",
             "minorgridcolor": "white",
             "startlinecolor": "#2a3f5f"
            },
            "type": "carpet"
           }
          ],
          "choropleth": [
           {
            "colorbar": {
             "outlinewidth": 0,
             "ticks": ""
            },
            "type": "choropleth"
           }
          ],
          "contour": [
           {
            "colorbar": {
             "outlinewidth": 0,
             "ticks": ""
            },
            "colorscale": [
             [
              0,
              "#0d0887"
             ],
             [
              0.1111111111111111,
              "#46039f"
             ],
             [
              0.2222222222222222,
              "#7201a8"
             ],
             [
              0.3333333333333333,
              "#9c179e"
             ],
             [
              0.4444444444444444,
              "#bd3786"
             ],
             [
              0.5555555555555556,
              "#d8576b"
             ],
             [
              0.6666666666666666,
              "#ed7953"
             ],
             [
              0.7777777777777778,
              "#fb9f3a"
             ],
             [
              0.8888888888888888,
              "#fdca26"
             ],
             [
              1,
              "#f0f921"
             ]
            ],
            "type": "contour"
           }
          ],
          "contourcarpet": [
           {
            "colorbar": {
             "outlinewidth": 0,
             "ticks": ""
            },
            "type": "contourcarpet"
           }
          ],
          "heatmap": [
           {
            "colorbar": {
             "outlinewidth": 0,
             "ticks": ""
            },
            "colorscale": [
             [
              0,
              "#0d0887"
             ],
             [
              0.1111111111111111,
              "#46039f"
             ],
             [
              0.2222222222222222,
              "#7201a8"
             ],
             [
              0.3333333333333333,
              "#9c179e"
             ],
             [
              0.4444444444444444,
              "#bd3786"
             ],
             [
              0.5555555555555556,
              "#d8576b"
             ],
             [
              0.6666666666666666,
              "#ed7953"
             ],
             [
              0.7777777777777778,
              "#fb9f3a"
             ],
             [
              0.8888888888888888,
              "#fdca26"
             ],
             [
              1,
              "#f0f921"
             ]
            ],
            "type": "heatmap"
           }
          ],
          "heatmapgl": [
           {
            "colorbar": {
             "outlinewidth": 0,
             "ticks": ""
            },
            "colorscale": [
             [
              0,
              "#0d0887"
             ],
             [
              0.1111111111111111,
              "#46039f"
             ],
             [
              0.2222222222222222,
              "#7201a8"
             ],
             [
              0.3333333333333333,
              "#9c179e"
             ],
             [
              0.4444444444444444,
              "#bd3786"
             ],
             [
              0.5555555555555556,
              "#d8576b"
             ],
             [
              0.6666666666666666,
              "#ed7953"
             ],
             [
              0.7777777777777778,
              "#fb9f3a"
             ],
             [
              0.8888888888888888,
              "#fdca26"
             ],
             [
              1,
              "#f0f921"
             ]
            ],
            "type": "heatmapgl"
           }
          ],
          "histogram": [
           {
            "marker": {
             "colorbar": {
              "outlinewidth": 0,
              "ticks": ""
             }
            },
            "type": "histogram"
           }
          ],
          "histogram2d": [
           {
            "colorbar": {
             "outlinewidth": 0,
             "ticks": ""
            },
            "colorscale": [
             [
              0,
              "#0d0887"
             ],
             [
              0.1111111111111111,
              "#46039f"
             ],
             [
              0.2222222222222222,
              "#7201a8"
             ],
             [
              0.3333333333333333,
              "#9c179e"
             ],
             [
              0.4444444444444444,
              "#bd3786"
             ],
             [
              0.5555555555555556,
              "#d8576b"
             ],
             [
              0.6666666666666666,
              "#ed7953"
             ],
             [
              0.7777777777777778,
              "#fb9f3a"
             ],
             [
              0.8888888888888888,
              "#fdca26"
             ],
             [
              1,
              "#f0f921"
             ]
            ],
            "type": "histogram2d"
           }
          ],
          "histogram2dcontour": [
           {
            "colorbar": {
             "outlinewidth": 0,
             "ticks": ""
            },
            "colorscale": [
             [
              0,
              "#0d0887"
             ],
             [
              0.1111111111111111,
              "#46039f"
             ],
             [
              0.2222222222222222,
              "#7201a8"
             ],
             [
              0.3333333333333333,
              "#9c179e"
             ],
             [
              0.4444444444444444,
              "#bd3786"
             ],
             [
              0.5555555555555556,
              "#d8576b"
             ],
             [
              0.6666666666666666,
              "#ed7953"
             ],
             [
              0.7777777777777778,
              "#fb9f3a"
             ],
             [
              0.8888888888888888,
              "#fdca26"
             ],
             [
              1,
              "#f0f921"
             ]
            ],
            "type": "histogram2dcontour"
           }
          ],
          "mesh3d": [
           {
            "colorbar": {
             "outlinewidth": 0,
             "ticks": ""
            },
            "type": "mesh3d"
           }
          ],
          "parcoords": [
           {
            "line": {
             "colorbar": {
              "outlinewidth": 0,
              "ticks": ""
             }
            },
            "type": "parcoords"
           }
          ],
          "pie": [
           {
            "automargin": true,
            "type": "pie"
           }
          ],
          "scatter": [
           {
            "marker": {
             "colorbar": {
              "outlinewidth": 0,
              "ticks": ""
             }
            },
            "type": "scatter"
           }
          ],
          "scatter3d": [
           {
            "line": {
             "colorbar": {
              "outlinewidth": 0,
              "ticks": ""
             }
            },
            "marker": {
             "colorbar": {
              "outlinewidth": 0,
              "ticks": ""
             }
            },
            "type": "scatter3d"
           }
          ],
          "scattercarpet": [
           {
            "marker": {
             "colorbar": {
              "outlinewidth": 0,
              "ticks": ""
             }
            },
            "type": "scattercarpet"
           }
          ],
          "scattergeo": [
           {
            "marker": {
             "colorbar": {
              "outlinewidth": 0,
              "ticks": ""
             }
            },
            "type": "scattergeo"
           }
          ],
          "scattergl": [
           {
            "marker": {
             "colorbar": {
              "outlinewidth": 0,
              "ticks": ""
             }
            },
            "type": "scattergl"
           }
          ],
          "scattermapbox": [
           {
            "marker": {
             "colorbar": {
              "outlinewidth": 0,
              "ticks": ""
             }
            },
            "type": "scattermapbox"
           }
          ],
          "scatterpolar": [
           {
            "marker": {
             "colorbar": {
              "outlinewidth": 0,
              "ticks": ""
             }
            },
            "type": "scatterpolar"
           }
          ],
          "scatterpolargl": [
           {
            "marker": {
             "colorbar": {
              "outlinewidth": 0,
              "ticks": ""
             }
            },
            "type": "scatterpolargl"
           }
          ],
          "scatterternary": [
           {
            "marker": {
             "colorbar": {
              "outlinewidth": 0,
              "ticks": ""
             }
            },
            "type": "scatterternary"
           }
          ],
          "surface": [
           {
            "colorbar": {
             "outlinewidth": 0,
             "ticks": ""
            },
            "colorscale": [
             [
              0,
              "#0d0887"
             ],
             [
              0.1111111111111111,
              "#46039f"
             ],
             [
              0.2222222222222222,
              "#7201a8"
             ],
             [
              0.3333333333333333,
              "#9c179e"
             ],
             [
              0.4444444444444444,
              "#bd3786"
             ],
             [
              0.5555555555555556,
              "#d8576b"
             ],
             [
              0.6666666666666666,
              "#ed7953"
             ],
             [
              0.7777777777777778,
              "#fb9f3a"
             ],
             [
              0.8888888888888888,
              "#fdca26"
             ],
             [
              1,
              "#f0f921"
             ]
            ],
            "type": "surface"
           }
          ],
          "table": [
           {
            "cells": {
             "fill": {
              "color": "#EBF0F8"
             },
             "line": {
              "color": "white"
             }
            },
            "header": {
             "fill": {
              "color": "#C8D4E3"
             },
             "line": {
              "color": "white"
             }
            },
            "type": "table"
           }
          ]
         },
         "layout": {
          "annotationdefaults": {
           "arrowcolor": "#2a3f5f",
           "arrowhead": 0,
           "arrowwidth": 1
          },
          "coloraxis": {
           "colorbar": {
            "outlinewidth": 0,
            "ticks": ""
           }
          },
          "colorscale": {
           "diverging": [
            [
             0,
             "#8e0152"
            ],
            [
             0.1,
             "#c51b7d"
            ],
            [
             0.2,
             "#de77ae"
            ],
            [
             0.3,
             "#f1b6da"
            ],
            [
             0.4,
             "#fde0ef"
            ],
            [
             0.5,
             "#f7f7f7"
            ],
            [
             0.6,
             "#e6f5d0"
            ],
            [
             0.7,
             "#b8e186"
            ],
            [
             0.8,
             "#7fbc41"
            ],
            [
             0.9,
             "#4d9221"
            ],
            [
             1,
             "#276419"
            ]
           ],
           "sequential": [
            [
             0,
             "#0d0887"
            ],
            [
             0.1111111111111111,
             "#46039f"
            ],
            [
             0.2222222222222222,
             "#7201a8"
            ],
            [
             0.3333333333333333,
             "#9c179e"
            ],
            [
             0.4444444444444444,
             "#bd3786"
            ],
            [
             0.5555555555555556,
             "#d8576b"
            ],
            [
             0.6666666666666666,
             "#ed7953"
            ],
            [
             0.7777777777777778,
             "#fb9f3a"
            ],
            [
             0.8888888888888888,
             "#fdca26"
            ],
            [
             1,
             "#f0f921"
            ]
           ],
           "sequentialminus": [
            [
             0,
             "#0d0887"
            ],
            [
             0.1111111111111111,
             "#46039f"
            ],
            [
             0.2222222222222222,
             "#7201a8"
            ],
            [
             0.3333333333333333,
             "#9c179e"
            ],
            [
             0.4444444444444444,
             "#bd3786"
            ],
            [
             0.5555555555555556,
             "#d8576b"
            ],
            [
             0.6666666666666666,
             "#ed7953"
            ],
            [
             0.7777777777777778,
             "#fb9f3a"
            ],
            [
             0.8888888888888888,
             "#fdca26"
            ],
            [
             1,
             "#f0f921"
            ]
           ]
          },
          "colorway": [
           "#636efa",
           "#EF553B",
           "#00cc96",
           "#ab63fa",
           "#FFA15A",
           "#19d3f3",
           "#FF6692",
           "#B6E880",
           "#FF97FF",
           "#FECB52"
          ],
          "font": {
           "color": "#2a3f5f"
          },
          "geo": {
           "bgcolor": "white",
           "lakecolor": "white",
           "landcolor": "#E5ECF6",
           "showlakes": true,
           "showland": true,
           "subunitcolor": "white"
          },
          "hoverlabel": {
           "align": "left"
          },
          "hovermode": "closest",
          "mapbox": {
           "style": "light"
          },
          "paper_bgcolor": "white",
          "plot_bgcolor": "#E5ECF6",
          "polar": {
           "angularaxis": {
            "gridcolor": "white",
            "linecolor": "white",
            "ticks": ""
           },
           "bgcolor": "#E5ECF6",
           "radialaxis": {
            "gridcolor": "white",
            "linecolor": "white",
            "ticks": ""
           }
          },
          "scene": {
           "xaxis": {
            "backgroundcolor": "#E5ECF6",
            "gridcolor": "white",
            "gridwidth": 2,
            "linecolor": "white",
            "showbackground": true,
            "ticks": "",
            "zerolinecolor": "white"
           },
           "yaxis": {
            "backgroundcolor": "#E5ECF6",
            "gridcolor": "white",
            "gridwidth": 2,
            "linecolor": "white",
            "showbackground": true,
            "ticks": "",
            "zerolinecolor": "white"
           },
           "zaxis": {
            "backgroundcolor": "#E5ECF6",
            "gridcolor": "white",
            "gridwidth": 2,
            "linecolor": "white",
            "showbackground": true,
            "ticks": "",
            "zerolinecolor": "white"
           }
          },
          "shapedefaults": {
           "line": {
            "color": "#2a3f5f"
           }
          },
          "ternary": {
           "aaxis": {
            "gridcolor": "white",
            "linecolor": "white",
            "ticks": ""
           },
           "baxis": {
            "gridcolor": "white",
            "linecolor": "white",
            "ticks": ""
           },
           "bgcolor": "#E5ECF6",
           "caxis": {
            "gridcolor": "white",
            "linecolor": "white",
            "ticks": ""
           }
          },
          "title": {
           "x": 0.05
          },
          "xaxis": {
           "automargin": true,
           "gridcolor": "white",
           "linecolor": "white",
           "ticks": "",
           "title": {
            "standoff": 15
           },
           "zerolinecolor": "white",
           "zerolinewidth": 2
          },
          "yaxis": {
           "automargin": true,
           "gridcolor": "white",
           "linecolor": "white",
           "ticks": "",
           "title": {
            "standoff": 15
           },
           "zerolinecolor": "white",
           "zerolinewidth": 2
          }
         }
        },
        "title": {
         "text": "A Map showing population"
        }
       }
      },
      "text/html": [
       "<div>\n",
       "        \n",
       "        \n",
       "            <div id=\"092eafc0-be42-487d-9760-0a8c4f5361a2\" class=\"plotly-graph-div\" style=\"height:525px; width:100%;\"></div>\n",
       "            <script type=\"text/javascript\">\n",
       "                require([\"plotly\"], function(Plotly) {\n",
       "                    window.PLOTLYENV=window.PLOTLYENV || {};\n",
       "                    \n",
       "                if (document.getElementById(\"092eafc0-be42-487d-9760-0a8c4f5361a2\")) {\n",
       "                    Plotly.newPlot(\n",
       "                        '092eafc0-be42-487d-9760-0a8c4f5361a2',\n",
       "                        [{\"coloraxis\": \"coloraxis\", \"customdata\": [[\"Monaco\", 85.6, 93.5], [\"Japan\", 81.9, 88.8], [\"Singapore\", 82.6, 88.1], [\"San Marino\", 80.8, 86.1], [\"Iceland\", 80.9, 85.4], [\"Andorra\", 80.7, 85.2], [\"Switzerland\", 80.3, 85.1], [\"Israel\", 80.7, 84.5], [\"Luxembourg\", 79.9, 84.9], [\"Australia\", 79.8, 84.9], [\"Italy\", 79.6, 85.1], [\"Sweden\", 80.2, 84.2], [\"Canada\", 79.3, 84.7], [\"Liechtenstein\", 79.7, 84.7], [\"France\", 78.8, 85.2], [\"Norway\", 79.8, 84.0], [\"Spain\", 78.8, 84.9], [\"Austria\", 78.9, 84.4], [\"Bermuda\", 78.2, 84.6], [\"Netherlands\", 79.3, 83.7], [\"Cayman Islands\", 78.6, 84.1], [\"New Zealand\", 79.1, 83.5], [\"Belgium\", 78.5, 83.8], [\"Finland\", 78.0, 84.1], [\"Ireland\", 78.6, 83.4], [\"Puerto Rico\", 77.6, 84.4], [\"Germany\", 78.5, 83.3], [\"United Kingdom\", 78.6, 83.1], [\"Greece\", 78.0, 83.4], [\"Qatar\", 77.7, 82.2], [\"Denmark\", 77.1, 82.1], [\"Portugal\", 76.2, 82.9], [\"Chile\", 75.9, 82.1], [\"Cuba\", 76.5, 81.3], [\"Cyprus\", 76.0, 81.8], [\"United States\", 76.8, 81.0], [\"Panama\", 76.0, 81.7], [\"Czech Republic\", 75.8, 81.9], [\"Costa Rica\", 76.1, 81.5], [\"Albania\", 75.8, 81.4], [\"Slovenia\", 74.8, 82.2], [\"Dominican Republic\", 76.0, 80.6], [\"Dominican Republic\", 74.2, 80.3], [\"Kuwait\", 76.8, 79.6], [\"New Caledonia\", 73.9, 82.0], [\"St. Lucia\", 75.2, 80.8], [\"Lebanon\", 76.5, 79.1], [\"Poland\", 73.9, 81.8], [\"United Arab Emirates\", 75.0, 80.4], [\"Paraguay\", 74.7, 80.2], [\"Uruguay\", 74.2, 80.6], [\"Brunei Darussalam\", 75.0, 79.8], [\"Argentina\", 74.2, 80.6], [\"Slovak Republic\", 73.7, 81.1], [\"Morocco\", 74.0, 80.3], [\"Algeria\", 75.6, 78.4], [\"Ecuador\", 74.0, 80.1], [\"Sri Lanka\", 73.5, 80.6], [\"Estonia\", 72.1, 81.9], [\"China\", 74.6, 79.0], [\"Antigua and Barbuda\", 74.6, 79.0], [\"Libya\", 74.9, 78.5], [\"Georgia\", 72.3, 80.7], [\"North Macedonia\", 73.8, 79.2], [\"Tonga\", 74.9, 78.1], [\"Croatia\", 72.9, 79.4], [\"Hungary\", 72.4, 80.0], [\"Mexico\", 73.3, 79.0], [\"Venezuela, RB\", 73.0, 79.1], [\"Colombia\", 72.8, 79.3], [\"Maldives\", 73.5, 78.3], [\"Mauritius\", 72.4, 79.5], [\"Oman\", 73.7, 77.7], [\"Serbia\", 72.8, 78.8], [\"Tunisia\", 74.1, 77.4], [\"Solomon Islands\", 72.9, 78.3], [\"St. Vincent and the Grenadines\", 77.6, 69.4], [\"Barbados\", 73.2, 77.9], [\"Saudi Arabia\", 73.4, 77.7], [\"Romania\", 71.9, 79.0], [\"Malaysia\", 72.4, 78.2], [\"Syrian Arab Republic\", 72.7, 77.6], [\"Lithuania\", 69.7, 80.7], [\"Turkey\", 72.7, 77.5], [\"Iraq\", 72.6, 77.2], [\"El Salvador\", 71.6, 78.3], [\"Seychelles\", 70.4, 79.6], [\"Thailand\", 71.7, 78.3], [\"Armenia\", 71.6, 78.5], [\"Jordan\", 73.4, 76.3], [\"Bulgaria\", 71.4, 78.2], [\"Latvia\", 70.1, 79.5], [\"Grenada\", 71.9, 77.4], [\"Samoa\", 71.1, 77.0], [\"Brazil\", 70.5, 77.7], [\"Uzbekistan\", 71.0, 77.3], [\"Peru\", 71.9, 76.1], [\"Iran, Islamic Rep.\", 72.7, 75.5], [\"Jamaica\", 72.1, 75.4], [\"Vanuatu\", 72.1, 75.4], [\"Vietnam\", 71.2, 76.4], [\"Bangladesh\", 71.3, 75.6], [\"Nicaragua\", 71.3, 75.8], [\"American Samoa\", 71.3, 75.6], [\"Palau\", 70.2, 76.8], [\"Trinidad and Tobago\", 70.2, 76.2], [\"Belarus\", 67.5, 78.8], [\"Egypt, Arab Rep.\", 71.6, 74.4], [\"Fiji\", 70.3, 75.8], [\"Indonesia\", 70.4, 75.7], [\"Azerbaijan\", 69.7, 76.1], [\"Guatemala\", 70.6, 74.7], [\"Suriname\", 70.1, 75.1], [\"Ukraine\", 67.4, 77.1], [\"Honduras\", 69.5, 72.9], [\"Kazakhstan\", 65.9, 76.0], [\"Moldova\", 67.1, 75.1], [\"Nepal\", 70.4, 71.6], [\"Russian Federation\", 65.3, 77.1], [\"Kyrgyz Republic\", 66.8, 75.4], [\"Bhutan\", 69.6, 71.7], [\"Turkmenistan\", 67.4, 73.6], [\"Mongolia\", 65.7, 74.4], [\"Bolivia\", 66.7, 72.4], [\"Philippines\", 65.9, 73.1], [\"Belize\", 67.3, 70.6], [\"India\", 67.6, 70.1], [\"Guyana\", 65.6, 71.8], [\"Pakistan\", 66.1, 70.1], [\"Tajikistan\", 64.9, 71.4], [\"Papua New Guinea\", 65.1, 69.7], [\"Ghana\", 64.5, 69.6], [\"Tuvalu\", 64.7, 69.2], [\"Kiribati\", 64.0, 69.1], [\"Madagascar\", 64.7, 67.8], [\"Togo\", 62.8, 68.1], [\"Eritrea\", 62.7, 67.8], [\"Cambodia\", 62.4, 67.5], [\"Lao PDR\", 62.6, 66.7], [\"Comoros\", 62.3, 67.0], [\"Equatorial Guinea\", 63.4, 65.8], [\"Sudan\", 62.3, 66.7], [\"Kenya\", 62.8, 65.8], [\"Rwanda\", 62.3, 66.3], [\"Haiti\", 61.6, 66.8], [\"Namibia\", 62.4, 65.6], [\"South Africa\", 62.4, 65.3], [\"Djibouti\", 61.0, 66.2], [\"Mauritania\", 61.1, 65.8], [\"Botswana\", 61.2, 65.5], [\"Liberia\", 61.2, 65.5], [\"Ethiopia\", 60.1, 64.7], [\"Tanzania\", 61.2, 64.1], [\"Benin\", 60.9, 63.8], [\"Senegal\", 60.0, 64.3], [\"Malawi\", 59.7, 63.8], [\"Guinea\", 59.5, 62.6], [\"Burundi\", 59.2, 62.7], [\"Zimbabwe\", 58.3, 62.5], [\"Mali\", 58.2, 62.5], [\"Angola\", 58.2, 62.3], [\"Congo, Rep.\", 58.6, 61.1], [\"Cameroon\", 57.6, 59.9], [\"Sierra Leone\", 56.0, 61.3], [\"Congo, Dem. Rep.\", 56.1, 59.3], [\"Burkina Faso\", 53.8, 58.0], [\"Niger\", 54.7, 57.3], [\"Uganda\", 54.4, 57.3], [\"Nigeria\", 52.8, 55.0], [\"Mozambique\", 52.9, 54.5], [\"Lesotho\", 53.0, 53.1], [\"Somalia\", 50.7, 54.9], [\"Central African Republic\", 51.4, 54.2], [\"Zambia\", 51.1, 54.4], [\"Gabon\", 51.7, 52.5], [\"Afghanistan\", 50.3, 53.2], [\"Guinea-Bissau\", 48.9, 53.1], [\"Chad\", 49.4, 51.9]], \"geo\": \"geo\", \"hovertemplate\": \"Country Code=%{location}<br>Country Name=%{customdata[0]}<br>Males=%{customdata[1]}<br>Females=%{customdata[2]}<br>Average=%{z}<extra></extra>\", \"locations\": [\"MCO\", \"JPN\", \"SGP\", \"SMR\", \"ISL\", \"AND\", \"CHE\", \"ISR\", \"LUX\", \"AUS\", \"ITA\", \"SWE\", \"CAN\", \"LIE\", \"FRA\", \"NOR\", \"ESP\", \"AUT\", \"BMU\", \"NLD\", \"CYM\", \"NZL\", \"BEL\", \"FIN\", \"IRL\", \"PRI\", \"DEU\", \"GBR\", \"GRC\", \"QAT\", \"DNK\", \"PRT\", \"CHL\", \"CUB\", \"CYP\", \"USA\", \"PAN\", \"CZE\", \"CRI\", \"ALB\", \"SVN\", \"DOM\", \"DOM\", \"KWT\", \"NCL\", \"LCA\", \"LBN\", \"POL\", \"ARE\", \"PRY\", \"URY\", \"BRN\", \"ARG\", \"SVK\", \"MAR\", \"DZA\", \"ECU\", \"LKA\", \"EST\", \"CHN\", \"ATG\", \"LBY\", \"GEO\", \"MKD\", \"TON\", \"HRV\", \"HUN\", \"MEX\", \"VEN\", \"COL\", \"MDV\", \"MUS\", \"OMN\", \"SRB\", \"TUN\", \"SLB\", \"VCT\", \"BRB\", \"SAU\", \"ROU\", \"MYS\", \"SYR\", \"LTU\", \"TUR\", \"IRQ\", \"SLV\", \"SYC\", \"THA\", \"ARM\", \"JOR\", \"BGR\", \"LVA\", \"GRD\", \"WSM\", \"BRA\", \"UZB\", \"PER\", \"IRN\", \"JAM\", \"VUT\", \"VNM\", \"BGD\", \"NIC\", \"ASM\", \"PLW\", \"TTO\", \"BLR\", \"EGY\", \"FJI\", \"IDN\", \"AZE\", \"GTM\", \"SUR\", \"UKR\", \"HND\", \"KAZ\", \"MDA\", \"NPL\", \"RUS\", \"KGZ\", \"BTN\", \"TKM\", \"MNG\", \"BOL\", \"PHL\", \"BLZ\", \"IND\", \"GUY\", \"PAK\", \"TJK\", \"PNG\", \"GHA\", \"TUV\", \"KIR\", \"MDG\", \"TGO\", \"ERI\", \"KHM\", \"LAO\", \"COM\", \"GNQ\", \"SDN\", \"KEN\", \"RWA\", \"HTI\", \"NAM\", \"ZAF\", \"DJI\", \"MRT\", \"BWA\", \"LBR\", \"ETH\", \"TZA\", \"BEN\", \"SEN\", \"MWI\", \"GIN\", \"BDI\", \"ZWE\", \"MLI\", \"AGO\", \"COG\", \"CMR\", \"SLE\", \"COD\", \"BFA\", \"NER\", \"UGA\", \"NGA\", \"MOZ\", \"LSO\", \"SOM\", \"CAF\", \"ZMB\", \"GAB\", \"AFG\", \"GNB\", \"TCD\"], \"name\": \"\", \"type\": \"choropleth\", \"z\": [89.4, 85.3, 85.2, 83.3, 83.1, 82.9, 82.6, 82.5, 82.3, 82.3, 82.3, 82.1, 81.9, 81.9, 81.9, 81.9, 81.8, 81.6, 81.4, 81.4, 81.3, 81.3, 81.1, 81.0, 80.9, 80.9, 80.8, 80.8, 80.7, 80.0, 79.5, 79.4, 78.9, 78.8, 78.8, 78.8, 78.8, 78.8, 78.7, 78.5, 78.3, 78.3, 77.2, 78.2, 77.9, 77.9, 77.8, 77.8, 77.7, 77.4, 77.4, 77.3, 77.3, 77.3, 77.1, 77.0, 77.0, 76.9, 76.9, 76.7, 76.7, 76.7, 76.4, 76.4, 76.4, 76.1, 76.1, 76.1, 76.0, 75.9, 75.8, 75.8, 75.7, 75.7, 75.7, 75.6, 73.5, 75.5, 75.5, 75.4, 75.2, 75.1, 75.0, 75.0, 74.9, 74.9, 74.9, 74.9, 74.9, 74.8, 74.7, 74.7, 74.5, 74.0, 74.0, 74.0, 74.0, 74.0, 73.7, 73.7, 73.7, 73.4, 73.4, 73.4, 73.4, 73.1, 73.0, 73.0, 73.0, 73.0, 72.8, 72.6, 72.5, 72.1, 71.2, 71.1, 71.0, 71.0, 71.0, 70.9, 70.6, 70.4, 69.9, 69.5, 69.4, 68.9, 68.8, 68.6, 68.1, 68.1, 67.3, 67.0, 66.9, 66.5, 66.3, 65.4, 65.2, 64.9, 64.6, 64.6, 64.6, 64.4, 64.3, 64.3, 64.2, 64.0, 63.8, 63.6, 63.4, 63.3, 63.3, 62.6, 62.6, 62.3, 62.1, 61.7, 61.0, 60.9, 60.4, 60.3, 60.2, 59.8, 59.0, 58.6, 57.7, 55.9, 55.9, 55.9, 53.8, 53.7, 53.0, 52.8, 52.8, 52.7, 52.1, 51.7, 51.0, 50.6]}],\n",
       "                        {\"coloraxis\": {\"colorbar\": {\"title\": {\"text\": \"Average\"}}, \"colorscale\": [[0.0, \"#0d0887\"], [0.1111111111111111, \"#46039f\"], [0.2222222222222222, \"#7201a8\"], [0.3333333333333333, \"#9c179e\"], [0.4444444444444444, \"#bd3786\"], [0.5555555555555556, \"#d8576b\"], [0.6666666666666666, \"#ed7953\"], [0.7777777777777778, \"#fb9f3a\"], [0.8888888888888888, \"#fdca26\"], [1.0, \"#f0f921\"]]}, \"geo\": {\"center\": {}, \"domain\": {\"x\": [0.0, 1.0], \"y\": [0.0, 1.0]}}, \"legend\": {\"tracegroupgap\": 0}, \"margin\": {\"t\": 60}, \"template\": {\"data\": {\"bar\": [{\"error_x\": {\"color\": \"#2a3f5f\"}, \"error_y\": {\"color\": \"#2a3f5f\"}, \"marker\": {\"line\": {\"color\": \"#E5ECF6\", \"width\": 0.5}}, \"type\": \"bar\"}], \"barpolar\": [{\"marker\": {\"line\": {\"color\": \"#E5ECF6\", \"width\": 0.5}}, \"type\": \"barpolar\"}], \"carpet\": [{\"aaxis\": {\"endlinecolor\": \"#2a3f5f\", \"gridcolor\": \"white\", \"linecolor\": \"white\", \"minorgridcolor\": \"white\", \"startlinecolor\": \"#2a3f5f\"}, \"baxis\": {\"endlinecolor\": \"#2a3f5f\", \"gridcolor\": \"white\", \"linecolor\": \"white\", \"minorgridcolor\": \"white\", \"startlinecolor\": \"#2a3f5f\"}, \"type\": \"carpet\"}], \"choropleth\": [{\"colorbar\": {\"outlinewidth\": 0, \"ticks\": \"\"}, \"type\": \"choropleth\"}], \"contour\": [{\"colorbar\": {\"outlinewidth\": 0, \"ticks\": \"\"}, \"colorscale\": [[0.0, \"#0d0887\"], [0.1111111111111111, \"#46039f\"], [0.2222222222222222, \"#7201a8\"], [0.3333333333333333, \"#9c179e\"], [0.4444444444444444, \"#bd3786\"], [0.5555555555555556, \"#d8576b\"], [0.6666666666666666, \"#ed7953\"], [0.7777777777777778, \"#fb9f3a\"], [0.8888888888888888, \"#fdca26\"], [1.0, \"#f0f921\"]], \"type\": \"contour\"}], \"contourcarpet\": [{\"colorbar\": {\"outlinewidth\": 0, \"ticks\": \"\"}, \"type\": \"contourcarpet\"}], \"heatmap\": [{\"colorbar\": {\"outlinewidth\": 0, \"ticks\": \"\"}, \"colorscale\": [[0.0, \"#0d0887\"], [0.1111111111111111, \"#46039f\"], [0.2222222222222222, \"#7201a8\"], [0.3333333333333333, \"#9c179e\"], [0.4444444444444444, \"#bd3786\"], [0.5555555555555556, \"#d8576b\"], [0.6666666666666666, \"#ed7953\"], [0.7777777777777778, \"#fb9f3a\"], [0.8888888888888888, \"#fdca26\"], [1.0, \"#f0f921\"]], \"type\": \"heatmap\"}], \"heatmapgl\": [{\"colorbar\": {\"outlinewidth\": 0, \"ticks\": \"\"}, \"colorscale\": [[0.0, \"#0d0887\"], [0.1111111111111111, \"#46039f\"], [0.2222222222222222, \"#7201a8\"], [0.3333333333333333, \"#9c179e\"], [0.4444444444444444, \"#bd3786\"], [0.5555555555555556, \"#d8576b\"], [0.6666666666666666, \"#ed7953\"], [0.7777777777777778, \"#fb9f3a\"], [0.8888888888888888, \"#fdca26\"], [1.0, \"#f0f921\"]], \"type\": \"heatmapgl\"}], \"histogram\": [{\"marker\": {\"colorbar\": {\"outlinewidth\": 0, \"ticks\": \"\"}}, \"type\": \"histogram\"}], \"histogram2d\": [{\"colorbar\": {\"outlinewidth\": 0, \"ticks\": \"\"}, \"colorscale\": [[0.0, \"#0d0887\"], [0.1111111111111111, \"#46039f\"], [0.2222222222222222, \"#7201a8\"], [0.3333333333333333, \"#9c179e\"], [0.4444444444444444, \"#bd3786\"], [0.5555555555555556, \"#d8576b\"], [0.6666666666666666, \"#ed7953\"], [0.7777777777777778, \"#fb9f3a\"], [0.8888888888888888, \"#fdca26\"], [1.0, \"#f0f921\"]], \"type\": \"histogram2d\"}], \"histogram2dcontour\": [{\"colorbar\": {\"outlinewidth\": 0, \"ticks\": \"\"}, \"colorscale\": [[0.0, \"#0d0887\"], [0.1111111111111111, \"#46039f\"], [0.2222222222222222, \"#7201a8\"], [0.3333333333333333, \"#9c179e\"], [0.4444444444444444, \"#bd3786\"], [0.5555555555555556, \"#d8576b\"], [0.6666666666666666, \"#ed7953\"], [0.7777777777777778, \"#fb9f3a\"], [0.8888888888888888, \"#fdca26\"], [1.0, \"#f0f921\"]], \"type\": \"histogram2dcontour\"}], \"mesh3d\": [{\"colorbar\": {\"outlinewidth\": 0, \"ticks\": \"\"}, \"type\": \"mesh3d\"}], \"parcoords\": [{\"line\": {\"colorbar\": {\"outlinewidth\": 0, \"ticks\": \"\"}}, \"type\": \"parcoords\"}], \"pie\": [{\"automargin\": true, \"type\": \"pie\"}], \"scatter\": [{\"marker\": {\"colorbar\": {\"outlinewidth\": 0, \"ticks\": \"\"}}, \"type\": \"scatter\"}], \"scatter3d\": [{\"line\": {\"colorbar\": {\"outlinewidth\": 0, \"ticks\": \"\"}}, \"marker\": {\"colorbar\": {\"outlinewidth\": 0, \"ticks\": \"\"}}, \"type\": \"scatter3d\"}], \"scattercarpet\": [{\"marker\": {\"colorbar\": {\"outlinewidth\": 0, \"ticks\": \"\"}}, \"type\": \"scattercarpet\"}], \"scattergeo\": [{\"marker\": {\"colorbar\": {\"outlinewidth\": 0, \"ticks\": \"\"}}, \"type\": \"scattergeo\"}], \"scattergl\": [{\"marker\": {\"colorbar\": {\"outlinewidth\": 0, \"ticks\": \"\"}}, \"type\": \"scattergl\"}], \"scattermapbox\": [{\"marker\": {\"colorbar\": {\"outlinewidth\": 0, \"ticks\": \"\"}}, \"type\": \"scattermapbox\"}], \"scatterpolar\": [{\"marker\": {\"colorbar\": {\"outlinewidth\": 0, \"ticks\": \"\"}}, \"type\": \"scatterpolar\"}], \"scatterpolargl\": [{\"marker\": {\"colorbar\": {\"outlinewidth\": 0, \"ticks\": \"\"}}, \"type\": \"scatterpolargl\"}], \"scatterternary\": [{\"marker\": {\"colorbar\": {\"outlinewidth\": 0, \"ticks\": \"\"}}, \"type\": \"scatterternary\"}], \"surface\": [{\"colorbar\": {\"outlinewidth\": 0, \"ticks\": \"\"}, \"colorscale\": [[0.0, \"#0d0887\"], [0.1111111111111111, \"#46039f\"], [0.2222222222222222, \"#7201a8\"], [0.3333333333333333, \"#9c179e\"], [0.4444444444444444, \"#bd3786\"], [0.5555555555555556, \"#d8576b\"], [0.6666666666666666, \"#ed7953\"], [0.7777777777777778, \"#fb9f3a\"], [0.8888888888888888, \"#fdca26\"], [1.0, \"#f0f921\"]], \"type\": \"surface\"}], \"table\": [{\"cells\": {\"fill\": {\"color\": \"#EBF0F8\"}, \"line\": {\"color\": \"white\"}}, \"header\": {\"fill\": {\"color\": \"#C8D4E3\"}, \"line\": {\"color\": \"white\"}}, \"type\": \"table\"}]}, \"layout\": {\"annotationdefaults\": {\"arrowcolor\": \"#2a3f5f\", \"arrowhead\": 0, \"arrowwidth\": 1}, \"coloraxis\": {\"colorbar\": {\"outlinewidth\": 0, \"ticks\": \"\"}}, \"colorscale\": {\"diverging\": [[0, \"#8e0152\"], [0.1, \"#c51b7d\"], [0.2, \"#de77ae\"], [0.3, \"#f1b6da\"], [0.4, \"#fde0ef\"], [0.5, \"#f7f7f7\"], [0.6, \"#e6f5d0\"], [0.7, \"#b8e186\"], [0.8, \"#7fbc41\"], [0.9, \"#4d9221\"], [1, \"#276419\"]], \"sequential\": [[0.0, \"#0d0887\"], [0.1111111111111111, \"#46039f\"], [0.2222222222222222, \"#7201a8\"], [0.3333333333333333, \"#9c179e\"], [0.4444444444444444, \"#bd3786\"], [0.5555555555555556, \"#d8576b\"], [0.6666666666666666, \"#ed7953\"], [0.7777777777777778, \"#fb9f3a\"], [0.8888888888888888, \"#fdca26\"], [1.0, \"#f0f921\"]], \"sequentialminus\": [[0.0, \"#0d0887\"], [0.1111111111111111, \"#46039f\"], [0.2222222222222222, \"#7201a8\"], [0.3333333333333333, \"#9c179e\"], [0.4444444444444444, \"#bd3786\"], [0.5555555555555556, \"#d8576b\"], [0.6666666666666666, \"#ed7953\"], [0.7777777777777778, \"#fb9f3a\"], [0.8888888888888888, \"#fdca26\"], [1.0, \"#f0f921\"]]}, \"colorway\": [\"#636efa\", \"#EF553B\", \"#00cc96\", \"#ab63fa\", \"#FFA15A\", \"#19d3f3\", \"#FF6692\", \"#B6E880\", \"#FF97FF\", \"#FECB52\"], \"font\": {\"color\": \"#2a3f5f\"}, \"geo\": {\"bgcolor\": \"white\", \"lakecolor\": \"white\", \"landcolor\": \"#E5ECF6\", \"showlakes\": true, \"showland\": true, \"subunitcolor\": \"white\"}, \"hoverlabel\": {\"align\": \"left\"}, \"hovermode\": \"closest\", \"mapbox\": {\"style\": \"light\"}, \"paper_bgcolor\": \"white\", \"plot_bgcolor\": \"#E5ECF6\", \"polar\": {\"angularaxis\": {\"gridcolor\": \"white\", \"linecolor\": \"white\", \"ticks\": \"\"}, \"bgcolor\": \"#E5ECF6\", \"radialaxis\": {\"gridcolor\": \"white\", \"linecolor\": \"white\", \"ticks\": \"\"}}, \"scene\": {\"xaxis\": {\"backgroundcolor\": \"#E5ECF6\", \"gridcolor\": \"white\", \"gridwidth\": 2, \"linecolor\": \"white\", \"showbackground\": true, \"ticks\": \"\", \"zerolinecolor\": \"white\"}, \"yaxis\": {\"backgroundcolor\": \"#E5ECF6\", \"gridcolor\": \"white\", \"gridwidth\": 2, \"linecolor\": \"white\", \"showbackground\": true, \"ticks\": \"\", \"zerolinecolor\": \"white\"}, \"zaxis\": {\"backgroundcolor\": \"#E5ECF6\", \"gridcolor\": \"white\", \"gridwidth\": 2, \"linecolor\": \"white\", \"showbackground\": true, \"ticks\": \"\", \"zerolinecolor\": \"white\"}}, \"shapedefaults\": {\"line\": {\"color\": \"#2a3f5f\"}}, \"ternary\": {\"aaxis\": {\"gridcolor\": \"white\", \"linecolor\": \"white\", \"ticks\": \"\"}, \"baxis\": {\"gridcolor\": \"white\", \"linecolor\": \"white\", \"ticks\": \"\"}, \"bgcolor\": \"#E5ECF6\", \"caxis\": {\"gridcolor\": \"white\", \"linecolor\": \"white\", \"ticks\": \"\"}}, \"title\": {\"x\": 0.05}, \"xaxis\": {\"automargin\": true, \"gridcolor\": \"white\", \"linecolor\": \"white\", \"ticks\": \"\", \"title\": {\"standoff\": 15}, \"zerolinecolor\": \"white\", \"zerolinewidth\": 2}, \"yaxis\": {\"automargin\": true, \"gridcolor\": \"white\", \"linecolor\": \"white\", \"ticks\": \"\", \"title\": {\"standoff\": 15}, \"zerolinecolor\": \"white\", \"zerolinewidth\": 2}}}, \"title\": {\"text\": \"A Map showing population\"}},\n",
       "                        {\"responsive\": true}\n",
       "                    ).then(function(){\n",
       "                            \n",
       "var gd = document.getElementById('092eafc0-be42-487d-9760-0a8c4f5361a2');\n",
       "var x = new MutationObserver(function (mutations, observer) {{\n",
       "        var display = window.getComputedStyle(gd).display;\n",
       "        if (!display || display === 'none') {{\n",
       "            console.log([gd, 'removed!']);\n",
       "            Plotly.purge(gd);\n",
       "            observer.disconnect();\n",
       "        }}\n",
       "}});\n",
       "\n",
       "// Listen for the removal of the full notebook cells\n",
       "var notebookContainer = gd.closest('#notebook-container');\n",
       "if (notebookContainer) {{\n",
       "    x.observe(notebookContainer, {childList: true});\n",
       "}}\n",
       "\n",
       "// Listen for the clearing of the current output cell\n",
       "var outputEl = gd.closest('.output');\n",
       "if (outputEl) {{\n",
       "    x.observe(outputEl, {childList: true});\n",
       "}}\n",
       "\n",
       "                        })\n",
       "                };\n",
       "                });\n",
       "            </script>\n",
       "        </div>"
      ]
     },
     "metadata": {},
     "output_type": "display_data"
    }
   ],
   "source": [
    "#showing map view of forest area\n",
    "fig = px.choropleth(df3, locations=\"Country Code\", color=\"Average\", hover_data=[\"Country Name\", \"Males\", \"Females\"],\n",
    "                    color_continuous_scale=\"Plasma\")\n",
    "fig.update_layout(title=\"A Map showing Life expectancy\")\n",
    "fig.show()"
   ]
  },
  {
   "cell_type": "code",
   "execution_count": null,
   "metadata": {},
   "outputs": [],
   "source": []
  }
 ],
 "metadata": {
  "kernelspec": {
   "display_name": "Python 3",
   "language": "python",
   "name": "python3"
  },
  "language_info": {
   "codemirror_mode": {
    "name": "ipython",
    "version": 3
   },
   "file_extension": ".py",
   "mimetype": "text/x-python",
   "name": "python",
   "nbconvert_exporter": "python",
   "pygments_lexer": "ipython3",
   "version": "3.8.3"
  }
 },
 "nbformat": 4,
 "nbformat_minor": 4
}
